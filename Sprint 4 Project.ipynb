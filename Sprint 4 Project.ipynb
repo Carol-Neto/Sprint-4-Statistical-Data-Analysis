{
 "cells": [
  {
   "cell_type": "markdown",
   "metadata": {
    "id": "eAkbw7Ueuj8X"
   },
   "source": [
    "# What is the best plan?"
   ]
  },
  {
   "cell_type": "markdown",
   "metadata": {},
   "source": []
  },
  {
   "cell_type": "markdown",
   "metadata": {},
   "source": [
    "## Step 1 - Open the data file and study the general information"
   ]
  },
  {
   "cell_type": "markdown",
   "metadata": {
    "id": "lnomf-3Xuj8b"
   },
   "source": [
    "## importing the libraries"
   ]
  },
  {
   "cell_type": "code",
   "execution_count": 73,
   "metadata": {
    "id": "JdJusn5ouj8c"
   },
   "outputs": [],
   "source": [
    "from functools import reduce\n",
    "from scipy import stats as st \n",
    "import numpy as np \n",
    "import pandas as pd \n",
    "import matplotlib.pyplot as plt\n",
    "import seaborn as sns"
   ]
  },
  {
   "cell_type": "markdown",
   "metadata": {
    "id": "rzqsCrgquj8d"
   },
   "source": [
    "## Loading the datasets"
   ]
  },
  {
   "cell_type": "code",
   "execution_count": 74,
   "metadata": {
    "id": "HmzmQRXIuj8e"
   },
   "outputs": [],
   "source": [
    "df_calls = pd.read_csv(\"D:\\Tripleten\\Projects\\Sprint-4-Statistical-Data-Analysis\\data\\megaline_calls.csv\", sep=',')\n",
    "df_internet = pd.read_csv(\"D:\\Tripleten\\Projects\\Sprint-4-Statistical-Data-Analysis\\data\\megaline_internet.csv\", sep=',')\n",
    "df_messages = pd.read_csv(\"D:\\Tripleten\\Projects\\Sprint-4-Statistical-Data-Analysis\\data\\megaline_messages.csv\", sep=',')\n",
    "df_plans = pd.read_csv(\"D:\\Tripleten\\Projects\\Sprint-4-Statistical-Data-Analysis\\data\\megaline_plans.csv\", sep=',') \n",
    "df_users = pd.read_csv(\"D:\\Tripleten\\Projects\\Sprint-4-Statistical-Data-Analysis\\data\\megaline_users.csv\", sep=',') "
   ]
  },
  {
   "cell_type": "markdown",
   "metadata": {
    "id": "XQh-EeiIuj8e"
   },
   "source": [
    " ## Step 2 - Data Overview"
   ]
  },
  {
   "cell_type": "markdown",
   "metadata": {
    "id": "TlZUw_Cyuj8f"
   },
   "source": [
    "### DataFrame Plans"
   ]
  },
  {
   "cell_type": "code",
   "execution_count": 75,
   "metadata": {
    "id": "x9qB5mAOuj8f",
    "scrolled": false
   },
   "outputs": [
    {
     "name": "stdout",
     "output_type": "stream",
     "text": [
      "<class 'pandas.core.frame.DataFrame'>\n",
      "RangeIndex: 2 entries, 0 to 1\n",
      "Data columns (total 8 columns):\n",
      " #   Column                 Non-Null Count  Dtype  \n",
      "---  ------                 --------------  -----  \n",
      " 0   messages_included      2 non-null      int64  \n",
      " 1   mb_per_month_included  2 non-null      int64  \n",
      " 2   minutes_included       2 non-null      int64  \n",
      " 3   usd_monthly_pay        2 non-null      int64  \n",
      " 4   usd_per_gb             2 non-null      int64  \n",
      " 5   usd_per_message        2 non-null      float64\n",
      " 6   usd_per_minute         2 non-null      float64\n",
      " 7   plan_name              2 non-null      object \n",
      "dtypes: float64(2), int64(5), object(1)\n",
      "memory usage: 256.0+ bytes\n",
      "\n"
     ]
    },
    {
     "data": {
      "text/html": [
       "<div>\n",
       "<style scoped>\n",
       "    .dataframe tbody tr th:only-of-type {\n",
       "        vertical-align: middle;\n",
       "    }\n",
       "\n",
       "    .dataframe tbody tr th {\n",
       "        vertical-align: top;\n",
       "    }\n",
       "\n",
       "    .dataframe thead th {\n",
       "        text-align: right;\n",
       "    }\n",
       "</style>\n",
       "<table border=\"1\" class=\"dataframe\">\n",
       "  <thead>\n",
       "    <tr style=\"text-align: right;\">\n",
       "      <th></th>\n",
       "      <th>messages_included</th>\n",
       "      <th>mb_per_month_included</th>\n",
       "      <th>minutes_included</th>\n",
       "      <th>usd_monthly_pay</th>\n",
       "      <th>usd_per_gb</th>\n",
       "      <th>usd_per_message</th>\n",
       "      <th>usd_per_minute</th>\n",
       "      <th>plan_name</th>\n",
       "    </tr>\n",
       "  </thead>\n",
       "  <tbody>\n",
       "    <tr>\n",
       "      <th>0</th>\n",
       "      <td>50</td>\n",
       "      <td>15360</td>\n",
       "      <td>500</td>\n",
       "      <td>20</td>\n",
       "      <td>10</td>\n",
       "      <td>0.03</td>\n",
       "      <td>0.03</td>\n",
       "      <td>surf</td>\n",
       "    </tr>\n",
       "    <tr>\n",
       "      <th>1</th>\n",
       "      <td>1000</td>\n",
       "      <td>30720</td>\n",
       "      <td>3000</td>\n",
       "      <td>70</td>\n",
       "      <td>7</td>\n",
       "      <td>0.01</td>\n",
       "      <td>0.01</td>\n",
       "      <td>ultimate</td>\n",
       "    </tr>\n",
       "  </tbody>\n",
       "</table>\n",
       "</div>"
      ],
      "text/plain": [
       "   messages_included  mb_per_month_included  minutes_included  \\\n",
       "0                 50                  15360               500   \n",
       "1               1000                  30720              3000   \n",
       "\n",
       "   usd_monthly_pay  usd_per_gb  usd_per_message  usd_per_minute plan_name  \n",
       "0               20          10             0.03            0.03      surf  \n",
       "1               70           7             0.01            0.01  ultimate  "
      ]
     },
     "execution_count": 75,
     "metadata": {},
     "output_type": "execute_result"
    }
   ],
   "source": [
    "df_plans.info()\n",
    "print()\n",
    "df_plans.head()"
   ]
  },
  {
   "cell_type": "markdown",
   "metadata": {
    "id": "P8hzr-lquj8f"
   },
   "source": [
    "Note\n",
    "- I will convert the columns `usd_monthly_pay` and `usd_per_gb` to float type and I will convert the data from GB to MB."
   ]
  },
  {
   "cell_type": "code",
   "execution_count": 76,
   "metadata": {},
   "outputs": [],
   "source": [
    "df_plans['usd_monthly_pay'] = df_plans['usd_monthly_pay'].astype(float)\n",
    "df_plans['usd_per_gb'] = df_plans['usd_per_gb'].astype(float)"
   ]
  },
  {
   "cell_type": "code",
   "execution_count": 77,
   "metadata": {},
   "outputs": [],
   "source": [
    "df_plans['gb_per_month_included'] = df_plans['mb_per_month_included'] / 1024.0"
   ]
  },
  {
   "cell_type": "markdown",
   "metadata": {
    "id": "YJg2O9qjuj8g"
   },
   "source": [
    "### DataFrame Users"
   ]
  },
  {
   "cell_type": "code",
   "execution_count": 78,
   "metadata": {
    "id": "7JzxwD2juj8g",
    "scrolled": true
   },
   "outputs": [
    {
     "name": "stdout",
     "output_type": "stream",
     "text": [
      "<class 'pandas.core.frame.DataFrame'>\n",
      "RangeIndex: 500 entries, 0 to 499\n",
      "Data columns (total 8 columns):\n",
      " #   Column      Non-Null Count  Dtype \n",
      "---  ------      --------------  ----- \n",
      " 0   user_id     500 non-null    int64 \n",
      " 1   first_name  500 non-null    object\n",
      " 2   last_name   500 non-null    object\n",
      " 3   age         500 non-null    int64 \n",
      " 4   city        500 non-null    object\n",
      " 5   reg_date    500 non-null    object\n",
      " 6   plan        500 non-null    object\n",
      " 7   churn_date  34 non-null     object\n",
      "dtypes: int64(2), object(6)\n",
      "memory usage: 31.4+ KB\n",
      "\n"
     ]
    },
    {
     "data": {
      "text/html": [
       "<div>\n",
       "<style scoped>\n",
       "    .dataframe tbody tr th:only-of-type {\n",
       "        vertical-align: middle;\n",
       "    }\n",
       "\n",
       "    .dataframe tbody tr th {\n",
       "        vertical-align: top;\n",
       "    }\n",
       "\n",
       "    .dataframe thead th {\n",
       "        text-align: right;\n",
       "    }\n",
       "</style>\n",
       "<table border=\"1\" class=\"dataframe\">\n",
       "  <thead>\n",
       "    <tr style=\"text-align: right;\">\n",
       "      <th></th>\n",
       "      <th>user_id</th>\n",
       "      <th>first_name</th>\n",
       "      <th>last_name</th>\n",
       "      <th>age</th>\n",
       "      <th>city</th>\n",
       "      <th>reg_date</th>\n",
       "      <th>plan</th>\n",
       "      <th>churn_date</th>\n",
       "    </tr>\n",
       "  </thead>\n",
       "  <tbody>\n",
       "    <tr>\n",
       "      <th>0</th>\n",
       "      <td>1000</td>\n",
       "      <td>Anamaria</td>\n",
       "      <td>Bauer</td>\n",
       "      <td>45</td>\n",
       "      <td>Atlanta-Sandy Springs-Roswell, GA MSA</td>\n",
       "      <td>2018-12-24</td>\n",
       "      <td>ultimate</td>\n",
       "      <td>NaN</td>\n",
       "    </tr>\n",
       "    <tr>\n",
       "      <th>1</th>\n",
       "      <td>1001</td>\n",
       "      <td>Mickey</td>\n",
       "      <td>Wilkerson</td>\n",
       "      <td>28</td>\n",
       "      <td>Seattle-Tacoma-Bellevue, WA MSA</td>\n",
       "      <td>2018-08-13</td>\n",
       "      <td>surf</td>\n",
       "      <td>NaN</td>\n",
       "    </tr>\n",
       "    <tr>\n",
       "      <th>2</th>\n",
       "      <td>1002</td>\n",
       "      <td>Carlee</td>\n",
       "      <td>Hoffman</td>\n",
       "      <td>36</td>\n",
       "      <td>Las Vegas-Henderson-Paradise, NV MSA</td>\n",
       "      <td>2018-10-21</td>\n",
       "      <td>surf</td>\n",
       "      <td>NaN</td>\n",
       "    </tr>\n",
       "    <tr>\n",
       "      <th>3</th>\n",
       "      <td>1003</td>\n",
       "      <td>Reynaldo</td>\n",
       "      <td>Jenkins</td>\n",
       "      <td>52</td>\n",
       "      <td>Tulsa, OK MSA</td>\n",
       "      <td>2018-01-28</td>\n",
       "      <td>surf</td>\n",
       "      <td>NaN</td>\n",
       "    </tr>\n",
       "    <tr>\n",
       "      <th>4</th>\n",
       "      <td>1004</td>\n",
       "      <td>Leonila</td>\n",
       "      <td>Thompson</td>\n",
       "      <td>40</td>\n",
       "      <td>Seattle-Tacoma-Bellevue, WA MSA</td>\n",
       "      <td>2018-05-23</td>\n",
       "      <td>surf</td>\n",
       "      <td>NaN</td>\n",
       "    </tr>\n",
       "  </tbody>\n",
       "</table>\n",
       "</div>"
      ],
      "text/plain": [
       "   user_id first_name  last_name  age                                   city  \\\n",
       "0     1000   Anamaria      Bauer   45  Atlanta-Sandy Springs-Roswell, GA MSA   \n",
       "1     1001     Mickey  Wilkerson   28        Seattle-Tacoma-Bellevue, WA MSA   \n",
       "2     1002     Carlee    Hoffman   36   Las Vegas-Henderson-Paradise, NV MSA   \n",
       "3     1003   Reynaldo    Jenkins   52                          Tulsa, OK MSA   \n",
       "4     1004    Leonila   Thompson   40        Seattle-Tacoma-Bellevue, WA MSA   \n",
       "\n",
       "     reg_date      plan churn_date  \n",
       "0  2018-12-24  ultimate        NaN  \n",
       "1  2018-08-13      surf        NaN  \n",
       "2  2018-10-21      surf        NaN  \n",
       "3  2018-01-28      surf        NaN  \n",
       "4  2018-05-23      surf        NaN  "
      ]
     },
     "execution_count": 78,
     "metadata": {},
     "output_type": "execute_result"
    }
   ],
   "source": [
    "df_users.info()\n",
    "print()\n",
    "df_users.head()"
   ]
  },
  {
   "cell_type": "markdown",
   "metadata": {},
   "source": [
    "Note\n",
    "- I will transform the columns `reg_date` and `churn_date` to datetime type."
   ]
  },
  {
   "cell_type": "code",
   "execution_count": 79,
   "metadata": {
    "scrolled": true
   },
   "outputs": [
    {
     "data": {
      "text/plain": [
       "0   2018-12-24\n",
       "1   2018-08-13\n",
       "2   2018-10-21\n",
       "3   2018-01-28\n",
       "4   2018-05-23\n",
       "Name: reg_date, dtype: datetime64[ns]"
      ]
     },
     "execution_count": 79,
     "metadata": {},
     "output_type": "execute_result"
    }
   ],
   "source": [
    "df_users['reg_date'] = pd.to_datetime(df_users['reg_date'])\n",
    "df_users['reg_date'].head()"
   ]
  },
  {
   "cell_type": "code",
   "execution_count": 80,
   "metadata": {
    "id": "Oa1XFooouj8j",
    "scrolled": true
   },
   "outputs": [
    {
     "data": {
      "text/plain": [
       "132   NaT\n",
       "241   NaT\n",
       "211   NaT\n",
       "70    NaT\n",
       "61    NaT\n",
       "Name: churn_date, dtype: datetime64[ns]"
      ]
     },
     "execution_count": 80,
     "metadata": {},
     "output_type": "execute_result"
    }
   ],
   "source": [
    "df_users['churn_date'] = pd.to_datetime(df_users['churn_date'])\n",
    "df_users['churn_date'].sample(5)"
   ]
  },
  {
   "cell_type": "markdown",
   "metadata": {
    "id": "f4uSIMuuuj8j"
   },
   "source": [
    "### Dataframe Calls"
   ]
  },
  {
   "cell_type": "code",
   "execution_count": 81,
   "metadata": {
    "id": "hkY01fJnuj8j",
    "scrolled": true
   },
   "outputs": [
    {
     "name": "stdout",
     "output_type": "stream",
     "text": [
      "<class 'pandas.core.frame.DataFrame'>\n",
      "RangeIndex: 137735 entries, 0 to 137734\n",
      "Data columns (total 4 columns):\n",
      " #   Column     Non-Null Count   Dtype  \n",
      "---  ------     --------------   -----  \n",
      " 0   id         137735 non-null  object \n",
      " 1   user_id    137735 non-null  int64  \n",
      " 2   call_date  137735 non-null  object \n",
      " 3   duration   137735 non-null  float64\n",
      "dtypes: float64(1), int64(1), object(2)\n",
      "memory usage: 4.2+ MB\n",
      "\n"
     ]
    },
    {
     "data": {
      "text/html": [
       "<div>\n",
       "<style scoped>\n",
       "    .dataframe tbody tr th:only-of-type {\n",
       "        vertical-align: middle;\n",
       "    }\n",
       "\n",
       "    .dataframe tbody tr th {\n",
       "        vertical-align: top;\n",
       "    }\n",
       "\n",
       "    .dataframe thead th {\n",
       "        text-align: right;\n",
       "    }\n",
       "</style>\n",
       "<table border=\"1\" class=\"dataframe\">\n",
       "  <thead>\n",
       "    <tr style=\"text-align: right;\">\n",
       "      <th></th>\n",
       "      <th>id</th>\n",
       "      <th>user_id</th>\n",
       "      <th>call_date</th>\n",
       "      <th>duration</th>\n",
       "    </tr>\n",
       "  </thead>\n",
       "  <tbody>\n",
       "    <tr>\n",
       "      <th>0</th>\n",
       "      <td>1000_93</td>\n",
       "      <td>1000</td>\n",
       "      <td>2018-12-27</td>\n",
       "      <td>8.52</td>\n",
       "    </tr>\n",
       "    <tr>\n",
       "      <th>1</th>\n",
       "      <td>1000_145</td>\n",
       "      <td>1000</td>\n",
       "      <td>2018-12-27</td>\n",
       "      <td>13.66</td>\n",
       "    </tr>\n",
       "    <tr>\n",
       "      <th>2</th>\n",
       "      <td>1000_247</td>\n",
       "      <td>1000</td>\n",
       "      <td>2018-12-27</td>\n",
       "      <td>14.48</td>\n",
       "    </tr>\n",
       "    <tr>\n",
       "      <th>3</th>\n",
       "      <td>1000_309</td>\n",
       "      <td>1000</td>\n",
       "      <td>2018-12-28</td>\n",
       "      <td>5.76</td>\n",
       "    </tr>\n",
       "    <tr>\n",
       "      <th>4</th>\n",
       "      <td>1000_380</td>\n",
       "      <td>1000</td>\n",
       "      <td>2018-12-30</td>\n",
       "      <td>4.22</td>\n",
       "    </tr>\n",
       "  </tbody>\n",
       "</table>\n",
       "</div>"
      ],
      "text/plain": [
       "         id  user_id   call_date  duration\n",
       "0   1000_93     1000  2018-12-27      8.52\n",
       "1  1000_145     1000  2018-12-27     13.66\n",
       "2  1000_247     1000  2018-12-27     14.48\n",
       "3  1000_309     1000  2018-12-28      5.76\n",
       "4  1000_380     1000  2018-12-30      4.22"
      ]
     },
     "execution_count": 81,
     "metadata": {},
     "output_type": "execute_result"
    }
   ],
   "source": [
    "df_calls.info()\n",
    "print()\n",
    "df_calls.head()"
   ]
  },
  {
   "cell_type": "markdown",
   "metadata": {
    "id": "Y8An85-Tuj8k"
   },
   "source": [
    "Note\n",
    "- Here I will also transform the `call_date` column to date time and month format. In this DataFra we also have no missing values."
   ]
  },
  {
   "cell_type": "code",
   "execution_count": 82,
   "metadata": {
    "id": "lBjdw0Bnuj8l"
   },
   "outputs": [
    {
     "data": {
      "text/plain": [
       "0   2018-12-27\n",
       "1   2018-12-27\n",
       "2   2018-12-27\n",
       "3   2018-12-28\n",
       "4   2018-12-30\n",
       "Name: call_date, dtype: datetime64[ns]"
      ]
     },
     "execution_count": 82,
     "metadata": {},
     "output_type": "execute_result"
    }
   ],
   "source": [
    "df_calls['call_date'] = pd.to_datetime(df_calls['call_date'])\n",
    "df_calls['call_date'].head()"
   ]
  },
  {
   "cell_type": "code",
   "execution_count": 83,
   "metadata": {
    "scrolled": true
   },
   "outputs": [
    {
     "data": {
      "text/plain": [
       "0    2018-12\n",
       "1    2018-12\n",
       "2    2018-12\n",
       "3    2018-12\n",
       "4    2018-12\n",
       "Name: year_month, dtype: period[M]"
      ]
     },
     "execution_count": 83,
     "metadata": {},
     "output_type": "execute_result"
    }
   ],
   "source": [
    "df_calls['year_month'] = df_calls['call_date'].dt.to_period('M')\n",
    "df_calls['year_month'].head()"
   ]
  },
  {
   "cell_type": "markdown",
   "metadata": {
    "id": "qLz4FkyRuj8l"
   },
   "source": [
    "### DataFrame Messages"
   ]
  },
  {
   "cell_type": "code",
   "execution_count": 84,
   "metadata": {
    "id": "nFA9DFkCuj8l"
   },
   "outputs": [
    {
     "name": "stdout",
     "output_type": "stream",
     "text": [
      "<class 'pandas.core.frame.DataFrame'>\n",
      "RangeIndex: 76051 entries, 0 to 76050\n",
      "Data columns (total 3 columns):\n",
      " #   Column        Non-Null Count  Dtype \n",
      "---  ------        --------------  ----- \n",
      " 0   id            76051 non-null  object\n",
      " 1   user_id       76051 non-null  int64 \n",
      " 2   message_date  76051 non-null  object\n",
      "dtypes: int64(1), object(2)\n",
      "memory usage: 1.7+ MB\n",
      "\n"
     ]
    },
    {
     "data": {
      "text/html": [
       "<div>\n",
       "<style scoped>\n",
       "    .dataframe tbody tr th:only-of-type {\n",
       "        vertical-align: middle;\n",
       "    }\n",
       "\n",
       "    .dataframe tbody tr th {\n",
       "        vertical-align: top;\n",
       "    }\n",
       "\n",
       "    .dataframe thead th {\n",
       "        text-align: right;\n",
       "    }\n",
       "</style>\n",
       "<table border=\"1\" class=\"dataframe\">\n",
       "  <thead>\n",
       "    <tr style=\"text-align: right;\">\n",
       "      <th></th>\n",
       "      <th>id</th>\n",
       "      <th>user_id</th>\n",
       "      <th>message_date</th>\n",
       "    </tr>\n",
       "  </thead>\n",
       "  <tbody>\n",
       "    <tr>\n",
       "      <th>0</th>\n",
       "      <td>1000_125</td>\n",
       "      <td>1000</td>\n",
       "      <td>2018-12-27</td>\n",
       "    </tr>\n",
       "    <tr>\n",
       "      <th>1</th>\n",
       "      <td>1000_160</td>\n",
       "      <td>1000</td>\n",
       "      <td>2018-12-31</td>\n",
       "    </tr>\n",
       "    <tr>\n",
       "      <th>2</th>\n",
       "      <td>1000_223</td>\n",
       "      <td>1000</td>\n",
       "      <td>2018-12-31</td>\n",
       "    </tr>\n",
       "    <tr>\n",
       "      <th>3</th>\n",
       "      <td>1000_251</td>\n",
       "      <td>1000</td>\n",
       "      <td>2018-12-27</td>\n",
       "    </tr>\n",
       "    <tr>\n",
       "      <th>4</th>\n",
       "      <td>1000_255</td>\n",
       "      <td>1000</td>\n",
       "      <td>2018-12-26</td>\n",
       "    </tr>\n",
       "  </tbody>\n",
       "</table>\n",
       "</div>"
      ],
      "text/plain": [
       "         id  user_id message_date\n",
       "0  1000_125     1000   2018-12-27\n",
       "1  1000_160     1000   2018-12-31\n",
       "2  1000_223     1000   2018-12-31\n",
       "3  1000_251     1000   2018-12-27\n",
       "4  1000_255     1000   2018-12-26"
      ]
     },
     "execution_count": 84,
     "metadata": {},
     "output_type": "execute_result"
    }
   ],
   "source": [
    "df_messages.info()\n",
    "print()\n",
    "df_messages.head()"
   ]
  },
  {
   "cell_type": "markdown",
   "metadata": {
    "id": "GUtt1TqCuj8m"
   },
   "source": [
    "Note\n",
    "- Here I will also transform the `message_date` column to the date time format and to the month. In this df we also have no missing values."
   ]
  },
  {
   "cell_type": "code",
   "execution_count": 85,
   "metadata": {
    "id": "SpBqbQHCuj8m"
   },
   "outputs": [
    {
     "data": {
      "text/plain": [
       "0   2018-12-27\n",
       "1   2018-12-31\n",
       "2   2018-12-31\n",
       "3   2018-12-27\n",
       "4   2018-12-26\n",
       "Name: message_date, dtype: datetime64[ns]"
      ]
     },
     "execution_count": 85,
     "metadata": {},
     "output_type": "execute_result"
    }
   ],
   "source": [
    "df_messages['message_date'] = pd.to_datetime(df_messages['message_date'])\n",
    "df_messages['message_date'].head()"
   ]
  },
  {
   "cell_type": "code",
   "execution_count": 86,
   "metadata": {
    "id": "SkuCXcLJuj8n"
   },
   "outputs": [
    {
     "data": {
      "text/plain": [
       "0    2018-12\n",
       "1    2018-12\n",
       "2    2018-12\n",
       "3    2018-12\n",
       "4    2018-12\n",
       "Name: year_month, dtype: period[M]"
      ]
     },
     "execution_count": 86,
     "metadata": {},
     "output_type": "execute_result"
    }
   ],
   "source": [
    "df_messages['year_month'] = df_messages['message_date'].dt.to_period('M')\n",
    "df_messages['year_month'].head()"
   ]
  },
  {
   "cell_type": "markdown",
   "metadata": {
    "id": "ZRFaOWzGuj8n"
   },
   "source": [
    "### DataFrame Internet"
   ]
  },
  {
   "cell_type": "code",
   "execution_count": 87,
   "metadata": {
    "id": "ob3-qv4nuj8n"
   },
   "outputs": [
    {
     "name": "stdout",
     "output_type": "stream",
     "text": [
      "<class 'pandas.core.frame.DataFrame'>\n",
      "RangeIndex: 104825 entries, 0 to 104824\n",
      "Data columns (total 4 columns):\n",
      " #   Column        Non-Null Count   Dtype  \n",
      "---  ------        --------------   -----  \n",
      " 0   id            104825 non-null  object \n",
      " 1   user_id       104825 non-null  int64  \n",
      " 2   session_date  104825 non-null  object \n",
      " 3   mb_used       104825 non-null  float64\n",
      "dtypes: float64(1), int64(1), object(2)\n",
      "memory usage: 3.2+ MB\n",
      "\n"
     ]
    },
    {
     "data": {
      "text/html": [
       "<div>\n",
       "<style scoped>\n",
       "    .dataframe tbody tr th:only-of-type {\n",
       "        vertical-align: middle;\n",
       "    }\n",
       "\n",
       "    .dataframe tbody tr th {\n",
       "        vertical-align: top;\n",
       "    }\n",
       "\n",
       "    .dataframe thead th {\n",
       "        text-align: right;\n",
       "    }\n",
       "</style>\n",
       "<table border=\"1\" class=\"dataframe\">\n",
       "  <thead>\n",
       "    <tr style=\"text-align: right;\">\n",
       "      <th></th>\n",
       "      <th>id</th>\n",
       "      <th>user_id</th>\n",
       "      <th>session_date</th>\n",
       "      <th>mb_used</th>\n",
       "    </tr>\n",
       "  </thead>\n",
       "  <tbody>\n",
       "    <tr>\n",
       "      <th>0</th>\n",
       "      <td>1000_13</td>\n",
       "      <td>1000</td>\n",
       "      <td>2018-12-29</td>\n",
       "      <td>89.86</td>\n",
       "    </tr>\n",
       "    <tr>\n",
       "      <th>1</th>\n",
       "      <td>1000_204</td>\n",
       "      <td>1000</td>\n",
       "      <td>2018-12-31</td>\n",
       "      <td>0.00</td>\n",
       "    </tr>\n",
       "    <tr>\n",
       "      <th>2</th>\n",
       "      <td>1000_379</td>\n",
       "      <td>1000</td>\n",
       "      <td>2018-12-28</td>\n",
       "      <td>660.40</td>\n",
       "    </tr>\n",
       "    <tr>\n",
       "      <th>3</th>\n",
       "      <td>1000_413</td>\n",
       "      <td>1000</td>\n",
       "      <td>2018-12-26</td>\n",
       "      <td>270.99</td>\n",
       "    </tr>\n",
       "    <tr>\n",
       "      <th>4</th>\n",
       "      <td>1000_442</td>\n",
       "      <td>1000</td>\n",
       "      <td>2018-12-27</td>\n",
       "      <td>880.22</td>\n",
       "    </tr>\n",
       "  </tbody>\n",
       "</table>\n",
       "</div>"
      ],
      "text/plain": [
       "         id  user_id session_date  mb_used\n",
       "0   1000_13     1000   2018-12-29    89.86\n",
       "1  1000_204     1000   2018-12-31     0.00\n",
       "2  1000_379     1000   2018-12-28   660.40\n",
       "3  1000_413     1000   2018-12-26   270.99\n",
       "4  1000_442     1000   2018-12-27   880.22"
      ]
     },
     "execution_count": 87,
     "metadata": {},
     "output_type": "execute_result"
    }
   ],
   "source": [
    "df_internet.info()\n",
    "print()\n",
    "df_internet.head()"
   ]
  },
  {
   "cell_type": "markdown",
   "metadata": {
    "id": "6wpo7ugquj8o"
   },
   "source": [
    "Note\n",
    "- Once again I will transform the `session_date` column to date time format.And I'm also going to change the column `gb_used` from GB to MB . Here we also have no missing values."
   ]
  },
  {
   "cell_type": "code",
   "execution_count": 88,
   "metadata": {
    "id": "GCoX7kbmuj8o"
   },
   "outputs": [
    {
     "data": {
      "text/plain": [
       "0   2018-12-29\n",
       "1   2018-12-31\n",
       "2   2018-12-28\n",
       "3   2018-12-26\n",
       "4   2018-12-27\n",
       "Name: session_date, dtype: datetime64[ns]"
      ]
     },
     "execution_count": 88,
     "metadata": {},
     "output_type": "execute_result"
    }
   ],
   "source": [
    "df_internet['session_date'] = pd.to_datetime(df_internet['session_date'], errors='coerce')\n",
    "df_internet['session_date'].head()"
   ]
  },
  {
   "cell_type": "code",
   "execution_count": 89,
   "metadata": {},
   "outputs": [
    {
     "data": {
      "text/plain": [
       "0    2018-12\n",
       "1    2018-12\n",
       "2    2018-12\n",
       "3    2018-12\n",
       "4    2018-12\n",
       "Name: year_month, dtype: period[M]"
      ]
     },
     "execution_count": 89,
     "metadata": {},
     "output_type": "execute_result"
    }
   ],
   "source": [
    "df_internet['year_month'] = df_internet['session_date'].dt.to_period('M')\n",
    "df_internet['year_month'].head()"
   ]
  },
  {
   "cell_type": "code",
   "execution_count": 90,
   "metadata": {
    "id": "f1PoZ3Ukuj8p"
   },
   "outputs": [],
   "source": [
    "df_internet['gb_used'] = df_internet['mb_used'] / 1024.0"
   ]
  },
  {
   "cell_type": "markdown",
   "metadata": {},
   "source": [
    "---"
   ]
  },
  {
   "cell_type": "markdown",
   "metadata": {
    "id": "bnOX4ARJuj8p"
   },
   "source": [
    "## Study the conditions of the plans"
   ]
  },
  {
   "cell_type": "markdown",
   "metadata": {
    "id": "vMu9_L8quj8p"
   },
   "source": [
    "It is essential to understand how the plans work, that is, how users are charged based on their subscription. We suggest printing out the plan information to review the terms and conditions."
   ]
  },
  {
   "cell_type": "code",
   "execution_count": 91,
   "metadata": {
    "id": "vMXVndWEuj8p"
   },
   "outputs": [
    {
     "data": {
      "text/html": [
       "<div>\n",
       "<style scoped>\n",
       "    .dataframe tbody tr th:only-of-type {\n",
       "        vertical-align: middle;\n",
       "    }\n",
       "\n",
       "    .dataframe tbody tr th {\n",
       "        vertical-align: top;\n",
       "    }\n",
       "\n",
       "    .dataframe thead th {\n",
       "        text-align: right;\n",
       "    }\n",
       "</style>\n",
       "<table border=\"1\" class=\"dataframe\">\n",
       "  <thead>\n",
       "    <tr style=\"text-align: right;\">\n",
       "      <th></th>\n",
       "      <th>messages_included</th>\n",
       "      <th>mb_per_month_included</th>\n",
       "      <th>minutes_included</th>\n",
       "      <th>usd_monthly_pay</th>\n",
       "      <th>usd_per_gb</th>\n",
       "      <th>usd_per_message</th>\n",
       "      <th>usd_per_minute</th>\n",
       "      <th>plan_name</th>\n",
       "      <th>gb_per_month_included</th>\n",
       "    </tr>\n",
       "  </thead>\n",
       "  <tbody>\n",
       "    <tr>\n",
       "      <th>0</th>\n",
       "      <td>50</td>\n",
       "      <td>15360</td>\n",
       "      <td>500</td>\n",
       "      <td>20.0</td>\n",
       "      <td>10.0</td>\n",
       "      <td>0.03</td>\n",
       "      <td>0.03</td>\n",
       "      <td>surf</td>\n",
       "      <td>15.0</td>\n",
       "    </tr>\n",
       "    <tr>\n",
       "      <th>1</th>\n",
       "      <td>1000</td>\n",
       "      <td>30720</td>\n",
       "      <td>3000</td>\n",
       "      <td>70.0</td>\n",
       "      <td>7.0</td>\n",
       "      <td>0.01</td>\n",
       "      <td>0.01</td>\n",
       "      <td>ultimate</td>\n",
       "      <td>30.0</td>\n",
       "    </tr>\n",
       "  </tbody>\n",
       "</table>\n",
       "</div>"
      ],
      "text/plain": [
       "   messages_included  mb_per_month_included  minutes_included  \\\n",
       "0                 50                  15360               500   \n",
       "1               1000                  30720              3000   \n",
       "\n",
       "   usd_monthly_pay  usd_per_gb  usd_per_message  usd_per_minute plan_name  \\\n",
       "0             20.0        10.0             0.03            0.03      surf   \n",
       "1             70.0         7.0             0.01            0.01  ultimate   \n",
       "\n",
       "   gb_per_month_included  \n",
       "0                   15.0  \n",
       "1                   30.0  "
      ]
     },
     "execution_count": 91,
     "metadata": {},
     "output_type": "execute_result"
    }
   ],
   "source": [
    "# Print out the plan terms and conditions and make sure they make sense to you.\n",
    "df_plans"
   ]
  },
  {
   "cell_type": "markdown",
   "metadata": {
    "id": "1v1EshDmuj8q"
   },
   "source": [
    "## Aggregate data by user\n",
    "\n",
    "### Now that the data is clean, aggregate it by user and by period to have only one record of this information. This will make future analyses much easier."
   ]
  },
  {
   "cell_type": "code",
   "execution_count": 117,
   "metadata": {
    "id": "4hmb2pSPuj8q"
   },
   "outputs": [
    {
     "data": {
      "text/html": [
       "<div>\n",
       "<style scoped>\n",
       "    .dataframe tbody tr th:only-of-type {\n",
       "        vertical-align: middle;\n",
       "    }\n",
       "\n",
       "    .dataframe tbody tr th {\n",
       "        vertical-align: top;\n",
       "    }\n",
       "\n",
       "    .dataframe thead th {\n",
       "        text-align: right;\n",
       "    }\n",
       "</style>\n",
       "<table border=\"1\" class=\"dataframe\">\n",
       "  <thead>\n",
       "    <tr style=\"text-align: right;\">\n",
       "      <th></th>\n",
       "      <th>user_id</th>\n",
       "      <th>year_month</th>\n",
       "      <th>call_count</th>\n",
       "    </tr>\n",
       "  </thead>\n",
       "  <tbody>\n",
       "    <tr>\n",
       "      <th>0</th>\n",
       "      <td>1000</td>\n",
       "      <td>2018-12</td>\n",
       "      <td>16</td>\n",
       "    </tr>\n",
       "    <tr>\n",
       "      <th>1</th>\n",
       "      <td>1001</td>\n",
       "      <td>2018-08</td>\n",
       "      <td>27</td>\n",
       "    </tr>\n",
       "    <tr>\n",
       "      <th>2</th>\n",
       "      <td>1001</td>\n",
       "      <td>2018-09</td>\n",
       "      <td>49</td>\n",
       "    </tr>\n",
       "    <tr>\n",
       "      <th>3</th>\n",
       "      <td>1001</td>\n",
       "      <td>2018-10</td>\n",
       "      <td>65</td>\n",
       "    </tr>\n",
       "    <tr>\n",
       "      <th>4</th>\n",
       "      <td>1001</td>\n",
       "      <td>2018-11</td>\n",
       "      <td>64</td>\n",
       "    </tr>\n",
       "  </tbody>\n",
       "</table>\n",
       "</div>"
      ],
      "text/plain": [
       "   user_id year_month  call_count\n",
       "0     1000    2018-12          16\n",
       "1     1001    2018-08          27\n",
       "2     1001    2018-09          49\n",
       "3     1001    2018-10          65\n",
       "4     1001    2018-11          64"
      ]
     },
     "execution_count": 117,
     "metadata": {},
     "output_type": "execute_result"
    }
   ],
   "source": [
    "# Calculate the number of calls made by each user per month. Save the result.\n",
    "calls_monthly = df_calls.groupby(['user_id', 'year_month'])['id'].count().reset_index(name='call_count')\n",
    "calls_monthly.head()"
   ]
  },
  {
   "cell_type": "code",
   "execution_count": 116,
   "metadata": {
    "id": "yHgBWCJJuj8q"
   },
   "outputs": [
    {
     "data": {
      "text/html": [
       "<div>\n",
       "<style scoped>\n",
       "    .dataframe tbody tr th:only-of-type {\n",
       "        vertical-align: middle;\n",
       "    }\n",
       "\n",
       "    .dataframe tbody tr th {\n",
       "        vertical-align: top;\n",
       "    }\n",
       "\n",
       "    .dataframe thead th {\n",
       "        text-align: right;\n",
       "    }\n",
       "</style>\n",
       "<table border=\"1\" class=\"dataframe\">\n",
       "  <thead>\n",
       "    <tr style=\"text-align: right;\">\n",
       "      <th></th>\n",
       "      <th>user_id</th>\n",
       "      <th>year_month</th>\n",
       "      <th>call_duration</th>\n",
       "    </tr>\n",
       "  </thead>\n",
       "  <tbody>\n",
       "    <tr>\n",
       "      <th>0</th>\n",
       "      <td>1000</td>\n",
       "      <td>2018-12</td>\n",
       "      <td>116.83</td>\n",
       "    </tr>\n",
       "    <tr>\n",
       "      <th>1</th>\n",
       "      <td>1001</td>\n",
       "      <td>2018-08</td>\n",
       "      <td>171.14</td>\n",
       "    </tr>\n",
       "    <tr>\n",
       "      <th>2</th>\n",
       "      <td>1001</td>\n",
       "      <td>2018-09</td>\n",
       "      <td>297.69</td>\n",
       "    </tr>\n",
       "    <tr>\n",
       "      <th>3</th>\n",
       "      <td>1001</td>\n",
       "      <td>2018-10</td>\n",
       "      <td>374.11</td>\n",
       "    </tr>\n",
       "    <tr>\n",
       "      <th>4</th>\n",
       "      <td>1001</td>\n",
       "      <td>2018-11</td>\n",
       "      <td>404.59</td>\n",
       "    </tr>\n",
       "  </tbody>\n",
       "</table>\n",
       "</div>"
      ],
      "text/plain": [
       "   user_id year_month  call_duration\n",
       "0     1000    2018-12         116.83\n",
       "1     1001    2018-08         171.14\n",
       "2     1001    2018-09         297.69\n",
       "3     1001    2018-10         374.11\n",
       "4     1001    2018-11         404.59"
      ]
     },
     "execution_count": 116,
     "metadata": {},
     "output_type": "execute_result"
    }
   ],
   "source": [
    "# Calculate the number of minutes spent by each user per month. Save the result.\n",
    "minutes_monthly = df_calls.groupby(['user_id', 'year_month'])['duration'].sum().reset_index(name='call_duration')\n",
    "minutes_monthly.head()"
   ]
  },
  {
   "cell_type": "code",
   "execution_count": 115,
   "metadata": {
    "id": "MaM_cPxauj8q",
    "scrolled": true
   },
   "outputs": [
    {
     "data": {
      "text/html": [
       "<div>\n",
       "<style scoped>\n",
       "    .dataframe tbody tr th:only-of-type {\n",
       "        vertical-align: middle;\n",
       "    }\n",
       "\n",
       "    .dataframe tbody tr th {\n",
       "        vertical-align: top;\n",
       "    }\n",
       "\n",
       "    .dataframe thead th {\n",
       "        text-align: right;\n",
       "    }\n",
       "</style>\n",
       "<table border=\"1\" class=\"dataframe\">\n",
       "  <thead>\n",
       "    <tr style=\"text-align: right;\">\n",
       "      <th></th>\n",
       "      <th>user_id</th>\n",
       "      <th>year_month</th>\n",
       "      <th>message_count</th>\n",
       "    </tr>\n",
       "  </thead>\n",
       "  <tbody>\n",
       "    <tr>\n",
       "      <th>0</th>\n",
       "      <td>1000</td>\n",
       "      <td>2018-12</td>\n",
       "      <td>11</td>\n",
       "    </tr>\n",
       "    <tr>\n",
       "      <th>1</th>\n",
       "      <td>1001</td>\n",
       "      <td>2018-08</td>\n",
       "      <td>30</td>\n",
       "    </tr>\n",
       "    <tr>\n",
       "      <th>2</th>\n",
       "      <td>1001</td>\n",
       "      <td>2018-09</td>\n",
       "      <td>44</td>\n",
       "    </tr>\n",
       "    <tr>\n",
       "      <th>3</th>\n",
       "      <td>1001</td>\n",
       "      <td>2018-10</td>\n",
       "      <td>53</td>\n",
       "    </tr>\n",
       "    <tr>\n",
       "      <th>4</th>\n",
       "      <td>1001</td>\n",
       "      <td>2018-11</td>\n",
       "      <td>36</td>\n",
       "    </tr>\n",
       "  </tbody>\n",
       "</table>\n",
       "</div>"
      ],
      "text/plain": [
       "   user_id year_month  message_count\n",
       "0     1000    2018-12             11\n",
       "1     1001    2018-08             30\n",
       "2     1001    2018-09             44\n",
       "3     1001    2018-10             53\n",
       "4     1001    2018-11             36"
      ]
     },
     "execution_count": 115,
     "metadata": {},
     "output_type": "execute_result"
    }
   ],
   "source": [
    "# Calculate the number of messages sent by each user per month. Save the result.\n",
    "messages_monthly = df_messages.groupby(['user_id', 'year_month'])['message_date'].count().reset_index(name='message_count')\n",
    "messages_monthly.head()"
   ]
  },
  {
   "cell_type": "code",
   "execution_count": 118,
   "metadata": {
    "id": "WsCEZJ_xuj8q",
    "scrolled": true
   },
   "outputs": [
    {
     "data": {
      "text/html": [
       "<div>\n",
       "<style scoped>\n",
       "    .dataframe tbody tr th:only-of-type {\n",
       "        vertical-align: middle;\n",
       "    }\n",
       "\n",
       "    .dataframe tbody tr th {\n",
       "        vertical-align: top;\n",
       "    }\n",
       "\n",
       "    .dataframe thead th {\n",
       "        text-align: right;\n",
       "    }\n",
       "</style>\n",
       "<table border=\"1\" class=\"dataframe\">\n",
       "  <thead>\n",
       "    <tr style=\"text-align: right;\">\n",
       "      <th></th>\n",
       "      <th>user_id</th>\n",
       "      <th>year_month</th>\n",
       "      <th>internet_used</th>\n",
       "    </tr>\n",
       "  </thead>\n",
       "  <tbody>\n",
       "    <tr>\n",
       "      <th>0</th>\n",
       "      <td>1000</td>\n",
       "      <td>2018-12</td>\n",
       "      <td>1.856904</td>\n",
       "    </tr>\n",
       "    <tr>\n",
       "      <th>1</th>\n",
       "      <td>1001</td>\n",
       "      <td>2018-08</td>\n",
       "      <td>6.756982</td>\n",
       "    </tr>\n",
       "    <tr>\n",
       "      <th>2</th>\n",
       "      <td>1001</td>\n",
       "      <td>2018-09</td>\n",
       "      <td>13.002754</td>\n",
       "    </tr>\n",
       "    <tr>\n",
       "      <th>3</th>\n",
       "      <td>1001</td>\n",
       "      <td>2018-10</td>\n",
       "      <td>21.807119</td>\n",
       "    </tr>\n",
       "    <tr>\n",
       "      <th>4</th>\n",
       "      <td>1001</td>\n",
       "      <td>2018-11</td>\n",
       "      <td>18.070605</td>\n",
       "    </tr>\n",
       "  </tbody>\n",
       "</table>\n",
       "</div>"
      ],
      "text/plain": [
       "   user_id year_month  internet_used\n",
       "0     1000    2018-12       1.856904\n",
       "1     1001    2018-08       6.756982\n",
       "2     1001    2018-09      13.002754\n",
       "3     1001    2018-10      21.807119\n",
       "4     1001    2018-11      18.070605"
      ]
     },
     "execution_count": 118,
     "metadata": {},
     "output_type": "execute_result"
    }
   ],
   "source": [
    "# Calculate the amount of internet traffic used by each user per month. Save the result.\n",
    "internet_monthly = df_internet.groupby(['user_id', 'year_month'])['gb_used'].sum().reset_index(name='internet_used')\n",
    "internet_monthly.head()"
   ]
  },
  {
   "cell_type": "markdown",
   "metadata": {
    "id": "6nBsD4hduj8q"
   },
   "source": [
    "### Put the aggregated data into a DataFrame so that each record in it represents what each user consumed in a given month."
   ]
  },
  {
   "cell_type": "code",
   "execution_count": 119,
   "metadata": {
    "id": "BYDTkxOauj8r",
    "scrolled": false
   },
   "outputs": [
    {
     "data": {
      "text/html": [
       "<div>\n",
       "<style scoped>\n",
       "    .dataframe tbody tr th:only-of-type {\n",
       "        vertical-align: middle;\n",
       "    }\n",
       "\n",
       "    .dataframe tbody tr th {\n",
       "        vertical-align: top;\n",
       "    }\n",
       "\n",
       "    .dataframe thead th {\n",
       "        text-align: right;\n",
       "    }\n",
       "</style>\n",
       "<table border=\"1\" class=\"dataframe\">\n",
       "  <thead>\n",
       "    <tr style=\"text-align: right;\">\n",
       "      <th></th>\n",
       "      <th>user_id</th>\n",
       "      <th>year_month</th>\n",
       "      <th>call_count</th>\n",
       "      <th>call_duration</th>\n",
       "      <th>message_count</th>\n",
       "      <th>internet_used</th>\n",
       "    </tr>\n",
       "  </thead>\n",
       "  <tbody>\n",
       "    <tr>\n",
       "      <th>0</th>\n",
       "      <td>1000</td>\n",
       "      <td>2018-12</td>\n",
       "      <td>16.0</td>\n",
       "      <td>116.83</td>\n",
       "      <td>11.0</td>\n",
       "      <td>1.856904</td>\n",
       "    </tr>\n",
       "    <tr>\n",
       "      <th>1</th>\n",
       "      <td>1001</td>\n",
       "      <td>2018-08</td>\n",
       "      <td>27.0</td>\n",
       "      <td>171.14</td>\n",
       "      <td>30.0</td>\n",
       "      <td>6.756982</td>\n",
       "    </tr>\n",
       "    <tr>\n",
       "      <th>2</th>\n",
       "      <td>1001</td>\n",
       "      <td>2018-09</td>\n",
       "      <td>49.0</td>\n",
       "      <td>297.69</td>\n",
       "      <td>44.0</td>\n",
       "      <td>13.002754</td>\n",
       "    </tr>\n",
       "    <tr>\n",
       "      <th>3</th>\n",
       "      <td>1001</td>\n",
       "      <td>2018-10</td>\n",
       "      <td>65.0</td>\n",
       "      <td>374.11</td>\n",
       "      <td>53.0</td>\n",
       "      <td>21.807119</td>\n",
       "    </tr>\n",
       "    <tr>\n",
       "      <th>4</th>\n",
       "      <td>1001</td>\n",
       "      <td>2018-11</td>\n",
       "      <td>64.0</td>\n",
       "      <td>404.59</td>\n",
       "      <td>36.0</td>\n",
       "      <td>18.070605</td>\n",
       "    </tr>\n",
       "  </tbody>\n",
       "</table>\n",
       "</div>"
      ],
      "text/plain": [
       "   user_id year_month  call_count  call_duration  message_count  internet_used\n",
       "0     1000    2018-12        16.0         116.83           11.0       1.856904\n",
       "1     1001    2018-08        27.0         171.14           30.0       6.756982\n",
       "2     1001    2018-09        49.0         297.69           44.0      13.002754\n",
       "3     1001    2018-10        65.0         374.11           53.0      21.807119\n",
       "4     1001    2018-11        64.0         404.59           36.0      18.070605"
      ]
     },
     "execution_count": 119,
     "metadata": {},
     "output_type": "execute_result"
    }
   ],
   "source": [
    "# Merge call, minutes, messages and internet data based on user_id and month\n",
    "dataframes = [calls_monthly, minutes_monthly, messages_monthly, internet_monthly]\n",
    "all_data = reduce(lambda left, right: pd.merge(left, right, on=['user_id', 'year_month'], how='outer'), dataframes)\n",
    "\n",
    "# Filling in the null values.\n",
    "all_data['message_count'] = all_data['message_count'].fillna(0)\n",
    "all_data['internet_used'] = all_data['internet_used'].fillna(0)\n",
    "all_data['call_duration'] = all_data['call_duration'].fillna(0)\n",
    "all_data['call_count'] = all_data['call_count'].fillna(0)\n",
    "all_data.head()"
   ]
  },
  {
   "cell_type": "code",
   "execution_count": 97,
   "metadata": {
    "scrolled": false
   },
   "outputs": [
    {
     "data": {
      "text/html": [
       "<div>\n",
       "<style scoped>\n",
       "    .dataframe tbody tr th:only-of-type {\n",
       "        vertical-align: middle;\n",
       "    }\n",
       "\n",
       "    .dataframe tbody tr th {\n",
       "        vertical-align: top;\n",
       "    }\n",
       "\n",
       "    .dataframe thead th {\n",
       "        text-align: right;\n",
       "    }\n",
       "</style>\n",
       "<table border=\"1\" class=\"dataframe\">\n",
       "  <thead>\n",
       "    <tr style=\"text-align: right;\">\n",
       "      <th></th>\n",
       "      <th>user_id</th>\n",
       "      <th>year_month</th>\n",
       "      <th>call_count</th>\n",
       "      <th>call_duration</th>\n",
       "      <th>message_count</th>\n",
       "      <th>internet_used</th>\n",
       "      <th>first_name</th>\n",
       "      <th>last_name</th>\n",
       "      <th>age</th>\n",
       "      <th>city</th>\n",
       "      <th>...</th>\n",
       "      <th>plan</th>\n",
       "      <th>churn_date</th>\n",
       "      <th>messages_included</th>\n",
       "      <th>mb_per_month_included</th>\n",
       "      <th>minutes_included</th>\n",
       "      <th>usd_monthly_pay</th>\n",
       "      <th>usd_per_gb</th>\n",
       "      <th>usd_per_message</th>\n",
       "      <th>usd_per_minute</th>\n",
       "      <th>gb_per_month_included</th>\n",
       "    </tr>\n",
       "  </thead>\n",
       "  <tbody>\n",
       "    <tr>\n",
       "      <th>0</th>\n",
       "      <td>1000</td>\n",
       "      <td>2018-12</td>\n",
       "      <td>16.0</td>\n",
       "      <td>116.83</td>\n",
       "      <td>11.0</td>\n",
       "      <td>1.856904</td>\n",
       "      <td>Anamaria</td>\n",
       "      <td>Bauer</td>\n",
       "      <td>45</td>\n",
       "      <td>Atlanta-Sandy Springs-Roswell, GA MSA</td>\n",
       "      <td>...</td>\n",
       "      <td>ultimate</td>\n",
       "      <td>NaT</td>\n",
       "      <td>1000</td>\n",
       "      <td>30720</td>\n",
       "      <td>3000</td>\n",
       "      <td>70.0</td>\n",
       "      <td>7.0</td>\n",
       "      <td>0.01</td>\n",
       "      <td>0.01</td>\n",
       "      <td>30.0</td>\n",
       "    </tr>\n",
       "    <tr>\n",
       "      <th>1</th>\n",
       "      <td>1001</td>\n",
       "      <td>2018-08</td>\n",
       "      <td>27.0</td>\n",
       "      <td>171.14</td>\n",
       "      <td>30.0</td>\n",
       "      <td>6.756982</td>\n",
       "      <td>Mickey</td>\n",
       "      <td>Wilkerson</td>\n",
       "      <td>28</td>\n",
       "      <td>Seattle-Tacoma-Bellevue, WA MSA</td>\n",
       "      <td>...</td>\n",
       "      <td>surf</td>\n",
       "      <td>NaT</td>\n",
       "      <td>50</td>\n",
       "      <td>15360</td>\n",
       "      <td>500</td>\n",
       "      <td>20.0</td>\n",
       "      <td>10.0</td>\n",
       "      <td>0.03</td>\n",
       "      <td>0.03</td>\n",
       "      <td>15.0</td>\n",
       "    </tr>\n",
       "    <tr>\n",
       "      <th>2</th>\n",
       "      <td>1001</td>\n",
       "      <td>2018-09</td>\n",
       "      <td>49.0</td>\n",
       "      <td>297.69</td>\n",
       "      <td>44.0</td>\n",
       "      <td>13.002754</td>\n",
       "      <td>Mickey</td>\n",
       "      <td>Wilkerson</td>\n",
       "      <td>28</td>\n",
       "      <td>Seattle-Tacoma-Bellevue, WA MSA</td>\n",
       "      <td>...</td>\n",
       "      <td>surf</td>\n",
       "      <td>NaT</td>\n",
       "      <td>50</td>\n",
       "      <td>15360</td>\n",
       "      <td>500</td>\n",
       "      <td>20.0</td>\n",
       "      <td>10.0</td>\n",
       "      <td>0.03</td>\n",
       "      <td>0.03</td>\n",
       "      <td>15.0</td>\n",
       "    </tr>\n",
       "    <tr>\n",
       "      <th>3</th>\n",
       "      <td>1001</td>\n",
       "      <td>2018-10</td>\n",
       "      <td>65.0</td>\n",
       "      <td>374.11</td>\n",
       "      <td>53.0</td>\n",
       "      <td>21.807119</td>\n",
       "      <td>Mickey</td>\n",
       "      <td>Wilkerson</td>\n",
       "      <td>28</td>\n",
       "      <td>Seattle-Tacoma-Bellevue, WA MSA</td>\n",
       "      <td>...</td>\n",
       "      <td>surf</td>\n",
       "      <td>NaT</td>\n",
       "      <td>50</td>\n",
       "      <td>15360</td>\n",
       "      <td>500</td>\n",
       "      <td>20.0</td>\n",
       "      <td>10.0</td>\n",
       "      <td>0.03</td>\n",
       "      <td>0.03</td>\n",
       "      <td>15.0</td>\n",
       "    </tr>\n",
       "    <tr>\n",
       "      <th>4</th>\n",
       "      <td>1001</td>\n",
       "      <td>2018-11</td>\n",
       "      <td>64.0</td>\n",
       "      <td>404.59</td>\n",
       "      <td>36.0</td>\n",
       "      <td>18.070605</td>\n",
       "      <td>Mickey</td>\n",
       "      <td>Wilkerson</td>\n",
       "      <td>28</td>\n",
       "      <td>Seattle-Tacoma-Bellevue, WA MSA</td>\n",
       "      <td>...</td>\n",
       "      <td>surf</td>\n",
       "      <td>NaT</td>\n",
       "      <td>50</td>\n",
       "      <td>15360</td>\n",
       "      <td>500</td>\n",
       "      <td>20.0</td>\n",
       "      <td>10.0</td>\n",
       "      <td>0.03</td>\n",
       "      <td>0.03</td>\n",
       "      <td>15.0</td>\n",
       "    </tr>\n",
       "  </tbody>\n",
       "</table>\n",
       "<p>5 rows × 21 columns</p>\n",
       "</div>"
      ],
      "text/plain": [
       "   user_id year_month  call_count  call_duration  message_count  \\\n",
       "0     1000    2018-12        16.0         116.83           11.0   \n",
       "1     1001    2018-08        27.0         171.14           30.0   \n",
       "2     1001    2018-09        49.0         297.69           44.0   \n",
       "3     1001    2018-10        65.0         374.11           53.0   \n",
       "4     1001    2018-11        64.0         404.59           36.0   \n",
       "\n",
       "   internet_used first_name  last_name  age  \\\n",
       "0       1.856904   Anamaria      Bauer   45   \n",
       "1       6.756982     Mickey  Wilkerson   28   \n",
       "2      13.002754     Mickey  Wilkerson   28   \n",
       "3      21.807119     Mickey  Wilkerson   28   \n",
       "4      18.070605     Mickey  Wilkerson   28   \n",
       "\n",
       "                                    city  ...      plan churn_date  \\\n",
       "0  Atlanta-Sandy Springs-Roswell, GA MSA  ...  ultimate        NaT   \n",
       "1        Seattle-Tacoma-Bellevue, WA MSA  ...      surf        NaT   \n",
       "2        Seattle-Tacoma-Bellevue, WA MSA  ...      surf        NaT   \n",
       "3        Seattle-Tacoma-Bellevue, WA MSA  ...      surf        NaT   \n",
       "4        Seattle-Tacoma-Bellevue, WA MSA  ...      surf        NaT   \n",
       "\n",
       "  messages_included  mb_per_month_included  minutes_included  usd_monthly_pay  \\\n",
       "0              1000                  30720              3000             70.0   \n",
       "1                50                  15360               500             20.0   \n",
       "2                50                  15360               500             20.0   \n",
       "3                50                  15360               500             20.0   \n",
       "4                50                  15360               500             20.0   \n",
       "\n",
       "   usd_per_gb  usd_per_message  usd_per_minute  gb_per_month_included  \n",
       "0         7.0             0.01            0.01                   30.0  \n",
       "1        10.0             0.03            0.03                   15.0  \n",
       "2        10.0             0.03            0.03                   15.0  \n",
       "3        10.0             0.03            0.03                   15.0  \n",
       "4        10.0             0.03            0.03                   15.0  \n",
       "\n",
       "[5 rows x 21 columns]"
      ]
     },
     "execution_count": 97,
     "metadata": {},
     "output_type": "execute_result"
    }
   ],
   "source": [
    "# Merging the users and plan DataFrames\n",
    "\n",
    "# renaming the columns\n",
    "df_plans.rename(columns={'plan_name': 'plan'}, inplace=True)\n",
    "\n",
    "final_data = pd.merge(all_data,df_users, on=['user_id'], how='left')\n",
    "final_data = pd.merge(final_data, df_plans, on=['plan'], how='left')\n",
    "final_data.head()"
   ]
  },
  {
   "cell_type": "markdown",
   "metadata": {
    "id": "mU8dKHTQuj8r"
   },
   "source": [
    "### Calculate the monthly income for each user: \n",
    "- subtract the free limit of the package from the total number of calls, text messages and data; \n",
    "- multiply the result by the plan value; \n",
    "- add the monthly price depending on the plan."
   ]
  },
  {
   "cell_type": "code",
   "execution_count": 98,
   "metadata": {
    "id": "JiPHXbQAuj8r",
    "scrolled": false
   },
   "outputs": [
    {
     "data": {
      "text/html": [
       "<div>\n",
       "<style scoped>\n",
       "    .dataframe tbody tr th:only-of-type {\n",
       "        vertical-align: middle;\n",
       "    }\n",
       "\n",
       "    .dataframe tbody tr th {\n",
       "        vertical-align: top;\n",
       "    }\n",
       "\n",
       "    .dataframe thead th {\n",
       "        text-align: right;\n",
       "    }\n",
       "</style>\n",
       "<table border=\"1\" class=\"dataframe\">\n",
       "  <thead>\n",
       "    <tr style=\"text-align: right;\">\n",
       "      <th></th>\n",
       "      <th>due_call</th>\n",
       "      <th>due_msg</th>\n",
       "      <th>due_internet</th>\n",
       "      <th>due_total</th>\n",
       "      <th>churn_date</th>\n",
       "      <th>plan</th>\n",
       "    </tr>\n",
       "  </thead>\n",
       "  <tbody>\n",
       "    <tr>\n",
       "      <th>1329</th>\n",
       "      <td>5.3982</td>\n",
       "      <td>0.00</td>\n",
       "      <td>159.451855</td>\n",
       "      <td>184.850055</td>\n",
       "      <td>NaT</td>\n",
       "      <td>surf</td>\n",
       "    </tr>\n",
       "    <tr>\n",
       "      <th>2238</th>\n",
       "      <td>0.0000</td>\n",
       "      <td>0.00</td>\n",
       "      <td>0.000000</td>\n",
       "      <td>70.000000</td>\n",
       "      <td>NaT</td>\n",
       "      <td>ultimate</td>\n",
       "    </tr>\n",
       "    <tr>\n",
       "      <th>705</th>\n",
       "      <td>7.8465</td>\n",
       "      <td>0.00</td>\n",
       "      <td>98.277637</td>\n",
       "      <td>126.124137</td>\n",
       "      <td>NaT</td>\n",
       "      <td>surf</td>\n",
       "    </tr>\n",
       "    <tr>\n",
       "      <th>1095</th>\n",
       "      <td>0.0000</td>\n",
       "      <td>0.00</td>\n",
       "      <td>2.977246</td>\n",
       "      <td>22.977246</td>\n",
       "      <td>NaT</td>\n",
       "      <td>surf</td>\n",
       "    </tr>\n",
       "    <tr>\n",
       "      <th>827</th>\n",
       "      <td>2.9511</td>\n",
       "      <td>2.07</td>\n",
       "      <td>167.875781</td>\n",
       "      <td>192.896881</td>\n",
       "      <td>2018-11-29</td>\n",
       "      <td>surf</td>\n",
       "    </tr>\n",
       "  </tbody>\n",
       "</table>\n",
       "</div>"
      ],
      "text/plain": [
       "      due_call  due_msg  due_internet   due_total churn_date      plan\n",
       "1329    5.3982     0.00    159.451855  184.850055        NaT      surf\n",
       "2238    0.0000     0.00      0.000000   70.000000        NaT  ultimate\n",
       "705     7.8465     0.00     98.277637  126.124137        NaT      surf\n",
       "1095    0.0000     0.00      2.977246   22.977246        NaT      surf\n",
       "827     2.9511     2.07    167.875781  192.896881 2018-11-29      surf"
      ]
     },
     "execution_count": 98,
     "metadata": {},
     "output_type": "execute_result"
    }
   ],
   "source": [
    "# Calculate monthly revenue for each user\n",
    "final_data['due'] = final_data['usd_monthly_pay']\n",
    "\n",
    "# Revenue for calls\n",
    "final_data['due_call'] = final_data['call_duration'] - final_data['minutes_included']\n",
    "final_data['due_call'] = final_data['due_call'] * final_data['usd_per_minute']\n",
    "# Replacing negative values\n",
    "final_data.loc[final_data['due_call'] < 0, \"due_call\"] = 0\n",
    "\n",
    "# Revenue for messages\n",
    "final_data['due_msg'] = final_data['message_count'] - final_data['messages_included']\n",
    "final_data['due_msg'] = final_data['due_msg'] * final_data['usd_per_message']\n",
    "final_data.loc[final_data['due_msg'] < 0, \"due_msg\"] = 0\n",
    "\n",
    "# Revenue for internet\n",
    "final_data['due_internet'] = final_data['internet_used'] - final_data['gb_per_month_included']\n",
    "final_data['due_internet'] = final_data['due_internet'] * final_data['usd_per_gb']\n",
    "final_data.loc[final_data['due_internet'] < 0, \"due_internet\"] = 0\n",
    "\n",
    "# Final revenue\n",
    "final_data['due_total'] = final_data['due'] + final_data['due_call'] + final_data['due_msg'] + final_data['due_internet']\n",
    "\n",
    "final_data[['due_call', 'due_msg', 'due_internet', 'due_total','churn_date', 'plan']].sample(5)"
   ]
  },
  {
   "cell_type": "code",
   "execution_count": 99,
   "metadata": {},
   "outputs": [
    {
     "data": {
      "text/plain": [
       "user_id                  2293\n",
       "year_month               2293\n",
       "call_count               2293\n",
       "call_duration            2293\n",
       "message_count            2293\n",
       "internet_used            2293\n",
       "first_name               2293\n",
       "last_name                2293\n",
       "age                      2293\n",
       "city                     2293\n",
       "reg_date                 2293\n",
       "plan                     2293\n",
       "churn_date               2293\n",
       "messages_included        2293\n",
       "mb_per_month_included    2293\n",
       "minutes_included         2293\n",
       "usd_monthly_pay          2293\n",
       "usd_per_gb               2293\n",
       "usd_per_message          2293\n",
       "usd_per_minute           2293\n",
       "gb_per_month_included    2293\n",
       "due                      2293\n",
       "due_call                 2293\n",
       "due_msg                  2293\n",
       "due_internet             2293\n",
       "due_total                2293\n",
       "dtype: int64"
      ]
     },
     "execution_count": 99,
     "metadata": {},
     "output_type": "execute_result"
    }
   ],
   "source": [
    "final_data.isna().count()"
   ]
  },
  {
   "cell_type": "markdown",
   "metadata": {},
   "source": [
    "---"
   ]
  },
  {
   "cell_type": "markdown",
   "metadata": {
    "id": "0HFWXKTQuj8r"
   },
   "source": [
    "## Step 3 - Study user behavior\n",
    "\n",
    "Calculate some useful descriptive statistics for the aggregated data, which usually reveal the overall picture captured by the data. Draw useful graphs to aid understanding. Since the main task is to compare plans and decide which is more cost-effective, the statistics and graphs should be calculated on a per-plan basis."
   ]
  },
  {
   "cell_type": "markdown",
   "metadata": {
    "id": "umaMfSLxuj8s"
   },
   "source": [
    "## Calls\n",
    "\n",
    "### Compare the average call duration for each plan for each month. Create a bar chart to visualize the result."
   ]
  },
  {
   "cell_type": "code",
   "execution_count": null,
   "metadata": {
    "id": "0236-tJnuj8t"
   },
   "outputs": [
    {
     "data": {
      "image/png": "[encoded data removed]",
      "text/plain": [
       "<Figure size 640x480 with 1 Axes>"
      ]
     },
     "metadata": {},
     "output_type": "display_data"
    }
   ],
   "source": [
    "# Filtering groups by plan\n",
    "surf = final_data[final_data['plan'] == 'surf']\n",
    "ultimate = final_data[final_data['plan'] == 'ultimate']\n",
    "\n",
    "# Frequency\n",
    "freq_call_surf = surf.groupby('year_month')['call_duration'].mean()\n",
    "freq_call_ultimate = ultimate.groupby('year_month')['call_duration'].mean()\n",
    "\n",
    "# Creating a new DataFrame to plot the graph\n",
    "mean_call = pd.DataFrame({'surf': freq_call_surf, 'ultimate': freq_call_ultimate})\n",
    "mean_call\n",
    "\n",
    "# Graph\n",
    "mean_call.plot(title='Comparison of plans',\n",
    "                               xlabel='Month',\n",
    "                               ylabel='Average call duration',\n",
    "                               rot=75,\n",
    "                               grid=('--'),\n",
    "                               kind='bar',\n",
    "                               color= ['indigo', 'orange'])\n",
    "\n",
    "plt.legend(['surf', 'ultimate'])\n",
    "plt.show()\n"
   ]
  },
  {
   "cell_type": "markdown",
   "metadata": {},
   "source": [
    "### Compare the number of minutes users of each plan need each month. Construct a histogram."
   ]
  },
  {
   "cell_type": "code",
   "execution_count": 101,
   "metadata": {
    "id": "9sCQ1lP8uj8u"
   },
   "outputs": [
    {
     "data": {
      "image/png": "[encoded data removed]",
      "text/plain": [
       "<Figure size 800x600 with 1 Axes>"
      ]
     },
     "metadata": {},
     "output_type": "display_data"
    }
   ],
   "source": [
    "# Filtering groups by plan\n",
    "surf = final_data[final_data['plan'] == 'surf']\n",
    "ultimate = final_data[final_data['plan'] == 'ultimate']\n",
    "\n",
    "# Frequency\n",
    "freq_surf = surf.groupby(surf['year_month'])['call_duration'].sum().reset_index()\n",
    "freq_surf['plan'] = 'Surf'\n",
    "\n",
    "freq_ultimate = ultimate.groupby(ultimate['year_month'])['call_duration'].sum().reset_index()\n",
    "freq_ultimate['plan'] = 'Ultimate'\n",
    "\n",
    "# Concatenate DataFrames\n",
    "sum_minutes = pd.concat([freq_surf, freq_ultimate])\n",
    "\n",
    "# Gráfico\n",
    "plt.figure(figsize=(8, 6))\n",
    "sns.barplot(data=sum_minutes, x='year_month', y='call_duration', hue='plan', palette='Pastel1')\n",
    "\n",
    "plt.title('Call Time Comparison by Plan')\n",
    "plt.xlabel('Month')\n",
    "plt.ylabel('Total Minutes')\n",
    "plt.xticks(rotation=60)\n",
    "plt.grid(visible=True, linestyle='--', linewidth=0.5)\n",
    "\n",
    "plt.legend(title='Plan')\n",
    "plt.tight_layout()\n",
    "plt.show()"
   ]
  },
  {
   "cell_type": "markdown",
   "metadata": {
    "id": "_x1pRDFtuj8u"
   },
   "source": [
    "### Calculate the mean and variance of call duration to reflect whether users on each plan have different behaviors regarding calls."
   ]
  },
  {
   "cell_type": "code",
   "execution_count": 120,
   "metadata": {
    "id": "cIdodPExuj8u",
    "scrolled": true
   },
   "outputs": [
    {
     "name": "stdout",
     "output_type": "stream",
     "text": [
      "Average surf plan minutes 404.76239033693577\n",
      "Average ultimate plan minutes 406.19308333333333\n",
      "\n",
      "Surf plan variance 49135.104890720366\n",
      "Ultimate plan variance 51640.97140216272\n",
      "\n",
      "Standard deviation of the surf plan 221.66439698499252\n",
      "Standard deviation of the ultimate plan 227.24649920771657\n"
     ]
    }
   ],
   "source": [
    "# Calculating the average of the calls\n",
    "mean_minutes_surf = final_data[final_data['plan'] == 'surf']['call_duration'].mean()\n",
    "mean_minutes_ultimate = final_data[final_data['plan'] == 'ultimate']['call_duration'].mean()\n",
    "\n",
    "# Calculating variance\n",
    "var_minutes_surf = final_data[final_data['plan'] == 'surf']['call_duration'].var()\n",
    "var_minutes_ultimate = final_data[final_data['plan'] == 'ultimate']['call_duration'].var()\n",
    "\n",
    "# Calculating the standard deviation\n",
    "std_minutes_surf = final_data[final_data['plan'] == 'surf']['call_duration'].std()\n",
    "std_minutes_ultimate = final_data[final_data['plan'] == 'ultimate']['call_duration'].std()\n",
    "\n",
    "print(\"Average surf plan minutes\", mean_minutes_surf)\n",
    "print(\"Average ultimate plan minutes\", mean_minutes_ultimate)\n",
    "print()\n",
    "print(\"Surf plan variance\", var_minutes_surf)\n",
    "print(\"Ultimate plan variance\", var_minutes_ultimate)\n",
    "print()\n",
    "print(\"Standard deviation of the surf plan\", std_minutes_surf)\n",
    "print(\"Standard deviation of the ultimate plan\", std_minutes_ultimate)"
   ]
  },
  {
   "cell_type": "markdown",
   "metadata": {},
   "source": [
    "### Make a box plot to visualize the distribution of monthly call durations"
   ]
  },
  {
   "cell_type": "code",
   "execution_count": null,
   "metadata": {
    "id": "DW7vTypxuj8u"
   },
   "outputs": [
    {
     "data": {
      "image/png": "[encoded data removed]",
      "text/plain": [
       "<Figure size 1200x600 with 1 Axes>"
      ]
     },
     "metadata": {},
     "output_type": "display_data"
    }
   ],
   "source": [
    "#  Grouping and organizing values\n",
    "grafico_call = final_data.groupby(['user_id', 'year_month','plan'])['call_duration'].sum().reset_index()\n",
    "grafico_call = grafico_call.sort_values(['year_month', 'user_id'])\n",
    "\n",
    "plt.figure(figsize = (12, 6))\n",
    "sns.boxplot(x='year_month', y='call_duration', hue='plan', data=grafico_call, palette='Pastel1')\n",
    "plt.title('Monthly Distribution of Call Duration by Plan', fontsize = 16)\n",
    "plt.xlabel('Month', fontsize = 12)\n",
    "plt.xticks(rotation = 45)\n",
    "plt.ylabel('Call Duration in Minutes', fontsize = 12)\n",
    "plt.grid(visible=True, linestyle='--', linewidth=0.5)\n",
    "plt.tight_layout()\n",
    "plt.show()\n"
   ]
  },
  {
   "cell_type": "markdown",
   "metadata": {
    "id": "Uyt3rWn7uj8u"
   },
   "source": [
    "Note\n",
    "- We can see that users who have the Surf plan tend to consume more minutes than their plan offers."
   ]
  },
  {
   "cell_type": "markdown",
   "metadata": {},
   "source": [
    "---"
   ]
  },
  {
   "cell_type": "markdown",
   "metadata": {
    "id": "2hWSPtrnuj8v"
   },
   "source": [
    "## Messages\n",
    "### Compare the number of messages users on each plan typically send each month"
   ]
  },
  {
   "cell_type": "code",
   "execution_count": null,
   "metadata": {
    "id": "9kPlAhOJuj8v"
   },
   "outputs": [
    {
     "data": {
      "image/png": "[encoded data removed]",
      "text/plain": [
       "<Figure size 640x480 with 1 Axes>"
      ]
     },
     "metadata": {},
     "output_type": "display_data"
    }
   ],
   "source": [
    "# Grouping by plane\n",
    "surf = final_data[final_data['plan'] == 'surf']\n",
    "ultimate = final_data[final_data['plan'] == 'ultimate']\n",
    "\n",
    "# Frequency\n",
    "freq_msg_surf = surf.groupby(surf['year_month'])['message_count'].mean()\n",
    "freq_msg_ultimate = ultimate.groupby(ultimate['year_month'])['message_count'].mean()\n",
    "\n",
    "# Creating a new DataFrame to plot the graph\n",
    "mean_msg = pd.DataFrame({'surf': freq_msg_surf, 'ultimate': freq_msg_ultimate})\n",
    "mean_msg\n",
    "\n",
    "# Graph\n",
    "mean_msg.plot(title='Message volume by plan',\n",
    "                               xlabel='Month',\n",
    "                               ylabel='Number of Messages',\n",
    "                               rot=70,\n",
    "                               kind='bar',\n",
    "                               grid=('--'),\n",
    "                               color= ['blue', 'green'])\n",
    "\n",
    "plt.legend(['surf', 'ultimate'])\n",
    "plt.show()\n"
   ]
  },
  {
   "cell_type": "markdown",
   "metadata": {
    "id": "v6QELMtcuj8v"
   },
   "source": [
    "Note\n",
    "- In this case we can see that users who pay for the Ultimate plan use more messages compared to the Surf plan."
   ]
  },
  {
   "cell_type": "markdown",
   "metadata": {},
   "source": [
    "### Make a box plot to visualize monthly message consumption"
   ]
  },
  {
   "cell_type": "code",
   "execution_count": null,
   "metadata": {},
   "outputs": [
    {
     "data": {
      "image/png": "[encoded data removed]",
      "text/plain": [
       "<Figure size 1200x600 with 1 Axes>"
      ]
     },
     "metadata": {},
     "output_type": "display_data"
    }
   ],
   "source": [
    "# Grouping and organizing values\n",
    "grafico_mensagens = final_data.groupby(['user_id', 'year_month','plan'])['message_count'].mean().reset_index()\n",
    "grafico_mensagens = grafico_mensagens.sort_values(['year_month', 'user_id'])\n",
    "\n",
    "plt.figure(figsize = (12, 6))\n",
    "sns.boxplot(x='year_month', y='message_count', hue='plan', data=grafico_mensagens, palette='Pastel1')\n",
    "plt.title('Monthly Message Distribution by Plan', fontsize = 16)\n",
    "plt.xlabel('Month', fontsize = 12)\n",
    "plt.xticks(rotation = 45)\n",
    "plt.ylabel('Message Volume', fontsize = 12)\n",
    "plt.grid(visible=True, linestyle='--', linewidth=0.5)\n",
    "plt.tight_layout()\n",
    "plt.show()"
   ]
  },
  {
   "cell_type": "markdown",
   "metadata": {},
   "source": [
    "---"
   ]
  },
  {
   "cell_type": "markdown",
   "metadata": {
    "id": "nHUCwAnauj8w"
   },
   "source": [
    "## Internet\n",
    "### Compare the amount of internet traffic consumed by users by plan"
   ]
  },
  {
   "cell_type": "code",
   "execution_count": null,
   "metadata": {
    "id": "EEm27RaRuj8w"
   },
   "outputs": [
    {
     "data": {
      "image/png": "[encoded data removed]",
      "text/plain": [
       "<Figure size 640x480 with 1 Axes>"
      ]
     },
     "metadata": {},
     "output_type": "display_data"
    }
   ],
   "source": [
    "# Filtering groups by plan\n",
    "surf = final_data[final_data['plan'] == 'surf']\n",
    "ultimate = final_data[final_data['plan'] == 'ultimate']\n",
    "\n",
    "# Frequency\n",
    "freq_internet_surf = surf.groupby(surf['year_month'])['internet_used'].mean()\n",
    "freq_internet_ultimate = ultimate.groupby(ultimate['year_month'])['internet_used'].mean()\n",
    "\n",
    "# Creating a new DataFrame to plot the graph\n",
    "mean_internet = pd.DataFrame({'surf': freq_internet_surf, 'ultimate': freq_internet_ultimate})\n",
    "mean_internet\n",
    "\n",
    "# Grph\n",
    "mean_internet.plot(title='Internet consumption by plans',\n",
    "                               xlabel='Month',\n",
    "                               ylabel='Volume of data consumed per Mb',\n",
    "                               rot=70,\n",
    "                               kind='bar',\n",
    "                               grid=('--'),\n",
    "                               color= ['violet', 'orange'])\n",
    "\n",
    "plt.legend(['surf', 'ultimate'])\n",
    "plt.show()"
   ]
  },
  {
   "cell_type": "markdown",
   "metadata": {
    "id": "GsHkFpGmuj8w"
   },
   "source": [
    "Note\n",
    "- We can also see greater internet consumption for the Ultimate plan, but the surf plan tends to consume more data than what is paid for in the plan."
   ]
  },
  {
   "cell_type": "markdown",
   "metadata": {},
   "source": [
    "###  Make a box plot to visualize your monthly internet consumption"
   ]
  },
  {
   "cell_type": "code",
   "execution_count": null,
   "metadata": {},
   "outputs": [
    {
     "data": {
      "image/png": "[encoded data removed]",
      "text/plain": [
       "<Figure size 1200x600 with 1 Axes>"
      ]
     },
     "metadata": {},
     "output_type": "display_data"
    }
   ],
   "source": [
    "# Grouping and organizing values\n",
    "grafico_internet = final_data.groupby(['user_id', 'year_month','plan'])['internet_used'].sum().reset_index()\n",
    "grafico_internet = grafico_internet.sort_values(['year_month', 'user_id'])\n",
    "\n",
    "# Graph\n",
    "plt.figure(figsize = (12, 6))\n",
    "sns.boxplot(x='year_month', y='internet_used', hue='plan', data=grafico_internet, palette='Pastel1')\n",
    "plt.title('Monthly Internet Usage Distribution by Plan', fontsize = 16)\n",
    "plt.xlabel('Month', fontsize = 12)\n",
    "plt.xticks(rotation = 45)\n",
    "plt.ylabel('Internet consumption in MB', fontsize = 12)\n",
    "plt.grid(visible=True, linestyle='--', linewidth=0.5)\n",
    "plt.tight_layout()\n",
    "plt.show()"
   ]
  },
  {
   "cell_type": "markdown",
   "metadata": {
    "id": "g23qXaYNuj8x"
   },
   "source": [
    "## Revenue\n",
    "\n",
    "In the same way that you studied user behavior, statistically describe the plans' revenues."
   ]
  },
  {
   "cell_type": "code",
   "execution_count": 108,
   "metadata": {},
   "outputs": [
    {
     "data": {
      "image/png": "[encoded data removed]",
      "text/plain": [
       "<Figure size 640x480 with 1 Axes>"
      ]
     },
     "metadata": {},
     "output_type": "display_data"
    }
   ],
   "source": [
    "# Transforming the column into a string\n",
    "final_data['year_month'] = final_data['year_month'].astype(str)\n",
    "\n",
    "# Organizing in ascending order\n",
    "final_data = final_data.sort_values(by='year_month')\n",
    "\n",
    "# Graph\n",
    "sns.lineplot(data=final_data, x='year_month', y='due_total', hue='plan');\n",
    "\n",
    "plt.title('Revenue Comparison by Plan', fontsize = 16)\n",
    "plt.xlabel('Month', fontsize = 12)\n",
    "plt.xticks(rotation = 90)\n",
    "plt.ylabel('Revenue Amount (USD$)', fontsize = 12)\n",
    "plt.grid(visible=True, linestyle='--', linewidth=0.5)\n",
    "plt.xticks(rotation = 60)\n",
    "plt.tight_layout()\n",
    "plt.show()"
   ]
  },
  {
   "cell_type": "markdown",
   "metadata": {
    "id": "6X34EwHpuj8z"
   },
   "source": [
    "Note\n",
    "- We have observed that customers who pay for the Ultimate plan tend to consume what they pay for the plan and do not exceed the limits.\n",
    "Customers who pay for the Surf plan tend to consume more than they pay for the plan, they mainly use the internet and end up generating a very high value."
   ]
  },
  {
   "cell_type": "markdown",
   "metadata": {},
   "source": [
    "### Make a box plot to visualize the monthly revenue for each plan"
   ]
  },
  {
   "cell_type": "code",
   "execution_count": null,
   "metadata": {},
   "outputs": [
    {
     "data": {
      "image/png": "[encoded data removed]",
      "text/plain": [
       "<Figure size 1200x600 with 1 Axes>"
      ]
     },
     "metadata": {},
     "output_type": "display_data"
    }
   ],
   "source": [
    "# Grouping and organizing values\n",
    "grafico_receita = final_data.groupby(['user_id', 'year_month','plan'])['due_total'].mean().reset_index()\n",
    "grafico_receita = grafico_receita.sort_values(['year_month', 'user_id'])\n",
    "\n",
    "# Graph\n",
    "plt.figure(figsize = (12, 6))\n",
    "sns.boxplot(x='year_month', y='due_total', hue='plan', data=grafico_receita, palette='Pastel1')\n",
    "plt.title('Monthly Revenue Distribution by Plan', fontsize = 16)\n",
    "plt.xlabel('Month', fontsize = 12)\n",
    "plt.xticks(rotation = 45)\n",
    "plt.ylabel('Revenue', fontsize = 12)\n",
    "plt.grid(visible=True, linestyle='--', linewidth=0.5)\n",
    "plt.tight_layout()\n",
    "plt.show()"
   ]
  },
  {
   "cell_type": "markdown",
   "metadata": {},
   "source": [
    "### Make a box plot to visualize the monthly internet revenue for each plan"
   ]
  },
  {
   "cell_type": "code",
   "execution_count": null,
   "metadata": {},
   "outputs": [
    {
     "data": {
      "image/png": "[encoded data removed]",
      "text/plain": [
       "<Figure size 1200x600 with 1 Axes>"
      ]
     },
     "metadata": {},
     "output_type": "display_data"
    }
   ],
   "source": [
    "# Grouping and organizing values\n",
    "grafico_receita = final_data.groupby(['user_id', 'year_month','plan'])['due_internet'].mean().reset_index()\n",
    "grafico_receita = grafico_receita.sort_values(['year_month', 'user_id'])\n",
    "\n",
    "# Graph\n",
    "plt.figure(figsize = (12, 6))\n",
    "sns.boxplot(x='year_month', y='due_internet', hue='plan', data=grafico_receita, palette='Pastel1')\n",
    "plt.title('Monthly Internet Revenue Distribution by Plan', fontsize = 16)\n",
    "plt.xlabel('Mês', fontsize = 12)\n",
    "plt.xticks(rotation = 45)\n",
    "plt.ylabel('Internet Only Revenue', fontsize = 12)\n",
    "plt.grid(visible=True, linestyle='--', linewidth=0.5)\n",
    "plt.tight_layout()\n",
    "plt.show()"
   ]
  },
  {
   "cell_type": "markdown",
   "metadata": {
    "id": "xJ6Mu-KAuj8z"
   },
   "source": [
    "## Step 4 - Testing statistical hypotheses\n",
    "\n",
    "### The average revenues for Ultimate and Surf plan users are different\n",
    "- Null hypothesis - the plans are the same\n",
    "- Alternative hypothesis - the plans are different"
   ]
  },
  {
   "cell_type": "code",
   "execution_count": 111,
   "metadata": {
    "id": "LyGrPhpUuj80"
   },
   "outputs": [
    {
     "name": "stdout",
     "output_type": "stream",
     "text": [
      "Surf plan variance 1789.663821227564\n",
      "Ultimate plan variance 48.35607797155031\n"
     ]
    }
   ],
   "source": [
    "# Grouping the data\n",
    "df_media = final_data.groupby(['user_id', 'plan'])['due_total'].mean().reset_index()\n",
    "surf_sample = df_media[df_media['plan'] == 'surf']['due_total']\n",
    "surf_sample = surf_sample[~np.isnan(surf_sample)]\n",
    "ultimate_sample = df_media[df_media['plan'] == 'ultimate']['due_total']\n",
    "\n",
    "# Calculating variance\n",
    "print(\"Surf plan variance\" , surf_sample.var())\n",
    "print(\"Ultimate plan variance\", ultimate_sample.var())"
   ]
  },
  {
   "cell_type": "code",
   "execution_count": 112,
   "metadata": {},
   "outputs": [
    {
     "name": "stdout",
     "output_type": "stream",
     "text": [
      "valor-p:  1.2784012613632527e-11\n",
      "We reject the null hypothesis\n"
     ]
    }
   ],
   "source": [
    "alpha = 0.05\n",
    "\n",
    "results = st.ttest_ind(surf_sample, ultimate_sample, equal_var=False)\n",
    "\n",
    "# printing the resulting p-value\n",
    "print('valor-p: ', results.pvalue)\n",
    "\n",
    "# comparing the p-value with the threshold\n",
    "if results.pvalue < alpha:\n",
    "    print(\"We reject the null hypothesis\")\n",
    "else:\n",
    "    print(\"We cannot reject the null hypothesis\")"
   ]
  },
  {
   "cell_type": "markdown",
   "metadata": {
    "id": "Cz6rwE56uj80"
   },
   "source": [
    "### Test the hypothesis that the average revenue of users in the NY-NJ area differs from that of users in other regions.\n",
    "\n",
    "- Null hypothesis - the average revenue of users in the NJ/NY region is the same as that of other regions.\n",
    "- Alternative hypothesis - the average revenue of users in the NJ/NY region is different from that of other regions."
   ]
  },
  {
   "cell_type": "code",
   "execution_count": 113,
   "metadata": {
    "id": "98t8iiJyuj80"
   },
   "outputs": [
    {
     "name": "stdout",
     "output_type": "stream",
     "text": [
      "Variance of who lives in the NY and NJ region 1777.752923296625\n",
      "Variance of those living in other regions 2116.171988896687\n"
     ]
    }
   ],
   "source": [
    "# Creating the column to filter NY and NJ\n",
    "final_data['nj or ny'] = final_data['city'].str.contains('NY-NJ')\n",
    "\n",
    "sample_yes = final_data[final_data['nj or ny'] == True]['due_total']\n",
    "sample_no = final_data[final_data['nj or ny'] == False]['due_total']\n",
    "\n",
    "# Calculating variance\n",
    "print(\"Variance of who lives in the NY and NJ region\" , sample_yes.var())\n",
    "print(\"Variance of those living in other regions\", sample_no.var())"
   ]
  },
  {
   "cell_type": "code",
   "execution_count": 114,
   "metadata": {},
   "outputs": [
    {
     "name": "stdout",
     "output_type": "stream",
     "text": [
      "valor-p:  0.01860947297497193\n",
      "We reject the null hypothesis\n"
     ]
    }
   ],
   "source": [
    "alpha = 0.05\n",
    "\n",
    "results = st.ttest_ind(sample_yes, sample_no, equal_var=False)\n",
    "\n",
    "# printing the resulting p-value\n",
    "print('valor-p: ', results.pvalue)\n",
    "\n",
    "# comparing the p-value with the threshold\n",
    "if results.pvalue < alpha:\n",
    "    print(\"We reject the null hypothesis\")\n",
    "else:\n",
    "    print(\"We cannot reject the null hypothesis\")"
   ]
  },
  {
   "cell_type": "markdown",
   "metadata": {
    "id": "M8WycwWFuj81"
   },
   "source": [
    "## Step 5 - Final conclusion\n",
    "\n",
    "We concluded that many customers who pay for the Surf plan generate more revenue because they almost always exceed the limit of the plan compared to customers who pay for the Ultimate plan. In general, Ultimate customers have a consumption within the amount they pay for the plan and do not go much beyond this."
   ]
  },
  {
   "cell_type": "markdown",
   "metadata": {},
   "source": []
  }
 ],
 "metadata": {
  "ExecuteTimeLog": [
   {
    "duration": 828,
    "start_time": "2021-11-16T09:21:11.304Z"
   },
   {
    "duration": 893,
    "start_time": "2021-11-16T09:21:17.728Z"
   },
   {
    "duration": 1150,
    "start_time": "2021-11-16T09:21:29.568Z"
   },
   {
    "duration": 3,
    "start_time": "2021-11-16T09:24:14.495Z"
   },
   {
    "duration": 120,
    "start_time": "2021-11-16T09:24:46.630Z"
   },
   {
    "duration": 3,
    "start_time": "2021-11-16T09:28:27.882Z"
   },
   {
    "duration": 4,
    "start_time": "2021-11-16T09:29:54.281Z"
   },
   {
    "duration": 3,
    "start_time": "2021-11-16T09:30:45.936Z"
   },
   {
    "duration": 4,
    "start_time": "2021-11-16T09:31:06.300Z"
   },
   {
    "duration": 113,
    "start_time": "2021-11-16T09:31:37.208Z"
   },
   {
    "duration": 143,
    "start_time": "2021-11-16T09:31:48.656Z"
   },
   {
    "duration": 98,
    "start_time": "2021-11-16T09:31:55.678Z"
   },
   {
    "duration": 3,
    "start_time": "2021-11-16T09:32:08.535Z"
   },
   {
    "duration": 111,
    "start_time": "2021-11-16T09:32:10.120Z"
   },
   {
    "duration": 3,
    "start_time": "2021-11-16T09:32:15.732Z"
   },
   {
    "duration": 4,
    "start_time": "2021-11-16T09:32:29.423Z"
   },
   {
    "duration": 3,
    "start_time": "2021-11-16T10:03:03.074Z"
   },
   {
    "duration": 3,
    "start_time": "2021-11-16T10:10:01.288Z"
   },
   {
    "duration": 3,
    "start_time": "2021-11-16T10:10:46.923Z"
   },
   {
    "duration": 121,
    "start_time": "2021-11-16T10:37:46.494Z"
   },
   {
    "duration": 125,
    "start_time": "2021-11-16T10:38:20.632Z"
   },
   {
    "duration": 112,
    "start_time": "2021-11-16T10:46:53.001Z"
   },
   {
    "duration": 110,
    "start_time": "2021-11-16T10:48:25.775Z"
   },
   {
    "duration": 3,
    "start_time": "2021-11-16T10:50:18.720Z"
   },
   {
    "duration": 4,
    "start_time": "2021-11-16T10:50:37.649Z"
   },
   {
    "duration": 2,
    "start_time": "2021-11-16T10:50:51.884Z"
   },
   {
    "duration": 3,
    "start_time": "2021-11-16T10:51:56.237Z"
   },
   {
    "duration": 101,
    "start_time": "2021-11-16T10:53:13.791Z"
   },
   {
    "duration": 3,
    "start_time": "2021-11-16T10:55:59.186Z"
   },
   {
    "duration": 3,
    "start_time": "2021-11-16T10:56:10.751Z"
   },
   {
    "duration": 3,
    "start_time": "2021-11-16T10:56:49.038Z"
   },
   {
    "duration": 3,
    "start_time": "2021-11-16T10:56:49.174Z"
   },
   {
    "duration": 4,
    "start_time": "2021-11-16T10:56:49.414Z"
   },
   {
    "duration": 3,
    "start_time": "2021-11-16T10:56:49.680Z"
   },
   {
    "duration": 3,
    "start_time": "2021-11-16T10:56:50.370Z"
   },
   {
    "duration": 114,
    "start_time": "2021-11-16T10:59:34.518Z"
   },
   {
    "duration": 3,
    "start_time": "2021-11-16T11:01:41.201Z"
   },
   {
    "duration": 116,
    "start_time": "2021-11-16T11:01:48.754Z"
   },
   {
    "duration": 3,
    "start_time": "2021-11-16T11:02:16.685Z"
   },
   {
    "duration": 3,
    "start_time": "2021-11-16T11:02:19.479Z"
   },
   {
    "duration": 3,
    "start_time": "2021-11-16T11:02:47.067Z"
   },
   {
    "duration": 3,
    "start_time": "2021-11-16T11:02:49.353Z"
   },
   {
    "duration": 3,
    "start_time": "2021-11-16T11:03:07.835Z"
   },
   {
    "duration": 3,
    "start_time": "2021-11-16T11:03:07.953Z"
   },
   {
    "duration": 112,
    "start_time": "2021-11-16T11:07:52.072Z"
   },
   {
    "duration": 187,
    "start_time": "2021-11-16T11:09:23.468Z"
   },
   {
    "duration": 4,
    "start_time": "2021-11-16T11:10:01.455Z"
   },
   {
    "duration": 3,
    "start_time": "2021-11-16T11:10:05.069Z"
   },
   {
    "duration": 4,
    "start_time": "2021-11-16T11:10:13.376Z"
   },
   {
    "duration": 3,
    "start_time": "2021-11-16T11:10:14.434Z"
   },
   {
    "duration": 3,
    "start_time": "2021-11-16T11:10:22.853Z"
   },
   {
    "duration": 4,
    "start_time": "2021-11-16T11:27:29.279Z"
   },
   {
    "duration": 4,
    "start_time": "2021-11-16T11:29:08.919Z"
   },
   {
    "duration": 118,
    "start_time": "2021-11-16T11:29:46.703Z"
   },
   {
    "duration": 437,
    "start_time": "2021-11-16T11:36:02.181Z"
   },
   {
    "duration": 157,
    "start_time": "2021-11-16T11:36:14.388Z"
   },
   {
    "duration": 207,
    "start_time": "2021-11-16T11:47:15.898Z"
   },
   {
    "duration": 3,
    "start_time": "2021-11-16T11:53:52.092Z"
   },
   {
    "duration": 3,
    "start_time": "2021-11-16T11:53:52.236Z"
   },
   {
    "duration": 3,
    "start_time": "2021-11-16T11:59:12.005Z"
   },
   {
    "duration": 112,
    "start_time": "2021-11-16T12:00:33.446Z"
   },
   {
    "duration": 3,
    "start_time": "2021-11-16T12:02:14.453Z"
   },
   {
    "duration": 3,
    "start_time": "2021-11-16T12:02:39.512Z"
   },
   {
    "duration": 106,
    "start_time": "2021-11-16T12:03:03.460Z"
   },
   {
    "duration": 3,
    "start_time": "2021-11-17T20:37:21.139Z"
   },
   {
    "duration": 3,
    "start_time": "2021-11-17T20:37:22.229Z"
   },
   {
    "duration": 3,
    "start_time": "2021-11-17T20:38:38.806Z"
   },
   {
    "duration": 3,
    "start_time": "2021-11-17T20:38:41.958Z"
   },
   {
    "duration": 3,
    "start_time": "2021-11-17T20:43:46.551Z"
   },
   {
    "duration": 4,
    "start_time": "2021-11-17T20:58:21.835Z"
   },
   {
    "duration": 3,
    "start_time": "2021-11-17T20:59:21.872Z"
   },
   {
    "duration": 4,
    "start_time": "2021-11-17T20:59:45.352Z"
   },
   {
    "duration": 4,
    "start_time": "2021-11-17T20:59:49.646Z"
   },
   {
    "duration": 159,
    "start_time": "2021-11-17T21:02:26.949Z"
   },
   {
    "duration": 3,
    "start_time": "2021-11-17T21:03:53.461Z"
   },
   {
    "duration": 3,
    "start_time": "2021-11-17T21:03:53.694Z"
   },
   {
    "duration": 3,
    "start_time": "2021-11-17T21:05:28.145Z"
   },
   {
    "duration": 116,
    "start_time": "2021-11-17T21:05:57.787Z"
   },
   {
    "duration": 3,
    "start_time": "2021-11-17T21:06:37.993Z"
   },
   {
    "duration": 3,
    "start_time": "2021-11-17T21:06:38.261Z"
   },
   {
    "duration": 3,
    "start_time": "2021-11-17T21:11:54.358Z"
   },
   {
    "duration": 3,
    "start_time": "2021-11-17T21:12:43.846Z"
   },
   {
    "duration": 4,
    "start_time": "2021-11-17T21:13:08.773Z"
   },
   {
    "duration": 3,
    "start_time": "2021-11-17T21:14:44.441Z"
   },
   {
    "duration": 3,
    "start_time": "2021-11-17T21:15:42.059Z"
   },
   {
    "duration": 4,
    "start_time": "2021-11-17T21:15:51.995Z"
   },
   {
    "duration": 3,
    "start_time": "2021-11-17T21:15:53.923Z"
   },
   {
    "duration": 3,
    "start_time": "2021-11-17T21:15:55.282Z"
   },
   {
    "duration": 3,
    "start_time": "2021-11-17T21:16:28.492Z"
   },
   {
    "duration": 3,
    "start_time": "2021-11-17T21:16:32.603Z"
   },
   {
    "duration": 3,
    "start_time": "2021-11-17T21:17:06.941Z"
   },
   {
    "duration": 98,
    "start_time": "2021-11-17T21:18:05.733Z"
   },
   {
    "duration": 4,
    "start_time": "2021-11-17T21:21:35.255Z"
   },
   {
    "duration": 3,
    "start_time": "2021-11-17T21:21:37.804Z"
   },
   {
    "duration": 4,
    "start_time": "2021-11-17T21:23:06.071Z"
   },
   {
    "duration": 3,
    "start_time": "2021-11-17T21:23:24.799Z"
   },
   {
    "duration": 3,
    "start_time": "2021-11-17T21:23:32.591Z"
   },
   {
    "duration": 98,
    "start_time": "2021-11-17T21:28:31.559Z"
   },
   {
    "duration": 3,
    "start_time": "2021-11-17T21:28:45.448Z"
   },
   {
    "duration": 3,
    "start_time": "2021-11-17T21:29:17.303Z"
   },
   {
    "duration": 3,
    "start_time": "2021-11-17T21:29:29.617Z"
   },
   {
    "duration": 3,
    "start_time": "2021-11-17T21:29:32.681Z"
   },
   {
    "duration": 3,
    "start_time": "2021-11-17T21:36:11.474Z"
   },
   {
    "duration": 3,
    "start_time": "2021-11-17T21:36:14.791Z"
   },
   {
    "duration": 3,
    "start_time": "2021-11-17T21:36:53.943Z"
   },
   {
    "duration": 3,
    "start_time": "2021-11-17T21:36:56.165Z"
   },
   {
    "duration": 4,
    "start_time": "2021-11-17T21:37:16.590Z"
   },
   {
    "duration": 3,
    "start_time": "2021-11-17T21:37:22.702Z"
   },
   {
    "duration": 4,
    "start_time": "2021-11-17T21:38:03.479Z"
   },
   {
    "duration": 3,
    "start_time": "2021-11-17T21:38:08.601Z"
   },
   {
    "duration": 3,
    "start_time": "2021-11-17T21:38:12.928Z"
   },
   {
    "duration": 3,
    "start_time": "2021-11-17T21:38:48.896Z"
   },
   {
    "duration": 2,
    "start_time": "2021-11-17T21:38:49.171Z"
   },
   {
    "duration": 4,
    "start_time": "2021-11-17T21:39:57.889Z"
   },
   {
    "duration": 3,
    "start_time": "2021-11-17T21:39:58.057Z"
   },
   {
    "duration": 3,
    "start_time": "2021-11-17T21:41:20.108Z"
   },
   {
    "duration": 3,
    "start_time": "2021-11-17T21:41:20.629Z"
   },
   {
    "duration": 3,
    "start_time": "2021-11-17T21:42:49.136Z"
   },
   {
    "duration": 3,
    "start_time": "2021-11-17T21:43:15.137Z"
   },
   {
    "duration": 4,
    "start_time": "2021-11-17T21:43:16.766Z"
   },
   {
    "duration": 4,
    "start_time": "2021-11-17T21:43:31.711Z"
   },
   {
    "duration": 3,
    "start_time": "2021-11-17T21:43:36.312Z"
   },
   {
    "duration": 4,
    "start_time": "2021-11-17T21:45:08.825Z"
   },
   {
    "duration": 4,
    "start_time": "2021-11-17T21:45:10.119Z"
   },
   {
    "duration": 4,
    "start_time": "2021-11-17T21:45:13.748Z"
   },
   {
    "duration": 3,
    "start_time": "2021-11-17T21:45:22.219Z"
   },
   {
    "duration": 3,
    "start_time": "2021-11-17T21:45:33.412Z"
   },
   {
    "duration": 2,
    "start_time": "2021-11-17T21:46:01.885Z"
   },
   {
    "duration": 3,
    "start_time": "2021-11-17T21:46:03.628Z"
   },
   {
    "duration": 107,
    "start_time": "2021-11-17T21:47:32.512Z"
   },
   {
    "duration": 103,
    "start_time": "2021-11-17T21:50:36.243Z"
   },
   {
    "duration": 3,
    "start_time": "2021-11-18T06:28:31.440Z"
   },
   {
    "duration": 3,
    "start_time": "2021-11-18T06:29:00.168Z"
   },
   {
    "duration": 3,
    "start_time": "2021-11-18T06:31:27.008Z"
   },
   {
    "duration": 2,
    "start_time": "2021-11-18T06:35:34.288Z"
   },
   {
    "duration": 2,
    "start_time": "2021-11-18T06:38:04.527Z"
   },
   {
    "duration": 837,
    "start_time": "2024-08-25T18:10:53.643Z"
   },
   {
    "duration": 370,
    "start_time": "2024-08-25T18:10:54.483Z"
   },
   {
    "duration": 49,
    "start_time": "2024-08-25T18:10:54.856Z"
   },
   {
    "duration": 14,
    "start_time": "2024-08-25T18:10:54.911Z"
   },
   {
    "duration": 8,
    "start_time": "2024-08-25T18:15:23.690Z"
   },
   {
    "duration": 3,
    "start_time": "2024-08-25T18:16:53.777Z"
   },
   {
    "duration": 268,
    "start_time": "2024-08-25T18:16:53.788Z"
   },
   {
    "duration": 50,
    "start_time": "2024-08-25T18:16:54.059Z"
   },
   {
    "duration": 10,
    "start_time": "2024-08-25T18:16:54.111Z"
   },
   {
    "duration": 13,
    "start_time": "2024-08-25T18:17:31.374Z"
   },
   {
    "duration": 12,
    "start_time": "2024-08-25T18:17:46.410Z"
   },
   {
    "duration": 14,
    "start_time": "2024-08-25T18:18:28.908Z"
   },
   {
    "duration": 15,
    "start_time": "2024-08-25T18:18:45.873Z"
   },
   {
    "duration": 25,
    "start_time": "2024-08-25T18:19:09.214Z"
   },
   {
    "duration": 11,
    "start_time": "2024-08-25T18:19:22.082Z"
   },
   {
    "duration": 14,
    "start_time": "2024-08-25T18:19:43.633Z"
   },
   {
    "duration": 17,
    "start_time": "2024-08-25T18:19:48.376Z"
   },
   {
    "duration": 438,
    "start_time": "2024-08-25T18:20:19.019Z"
   },
   {
    "duration": 19,
    "start_time": "2024-08-25T18:20:36.507Z"
   },
   {
    "duration": 10,
    "start_time": "2024-08-25T18:20:49.882Z"
   },
   {
    "duration": 25,
    "start_time": "2024-08-25T18:20:59.147Z"
   },
   {
    "duration": 14,
    "start_time": "2024-08-25T18:21:04.318Z"
   },
   {
    "duration": 21,
    "start_time": "2024-08-25T18:21:19.009Z"
   },
   {
    "duration": 13,
    "start_time": "2024-08-25T18:21:31.533Z"
   },
   {
    "duration": 20,
    "start_time": "2024-08-25T18:21:39.491Z"
   },
   {
    "duration": 908,
    "start_time": "2024-08-26T15:19:44.206Z"
   },
   {
    "duration": 353,
    "start_time": "2024-08-26T15:19:45.118Z"
   },
   {
    "duration": 17,
    "start_time": "2024-08-26T15:19:45.475Z"
   },
   {
    "duration": 32,
    "start_time": "2024-08-26T15:19:45.495Z"
   },
   {
    "duration": 15,
    "start_time": "2024-08-26T15:19:45.531Z"
   },
   {
    "duration": 14,
    "start_time": "2024-08-26T15:19:45.550Z"
   },
   {
    "duration": 27,
    "start_time": "2024-08-26T15:19:45.607Z"
   },
   {
    "duration": 18,
    "start_time": "2024-08-26T15:19:45.637Z"
   },
   {
    "duration": 49,
    "start_time": "2024-08-26T15:19:45.658Z"
   },
   {
    "duration": 14,
    "start_time": "2024-08-26T15:19:45.713Z"
   },
   {
    "duration": 23,
    "start_time": "2024-08-26T15:19:45.730Z"
   },
   {
    "duration": 57,
    "start_time": "2024-08-26T15:19:45.757Z"
   },
   {
    "duration": 3,
    "start_time": "2024-08-26T15:19:45.818Z"
   },
   {
    "duration": 5,
    "start_time": "2024-08-26T15:19:45.824Z"
   },
   {
    "duration": 4,
    "start_time": "2024-08-26T15:19:45.832Z"
   },
   {
    "duration": 4,
    "start_time": "2024-08-26T15:19:45.839Z"
   },
   {
    "duration": 3,
    "start_time": "2024-08-26T15:19:45.846Z"
   },
   {
    "duration": 4,
    "start_time": "2024-08-26T15:19:45.852Z"
   },
   {
    "duration": 3,
    "start_time": "2024-08-26T15:19:45.908Z"
   },
   {
    "duration": 4,
    "start_time": "2024-08-26T15:19:45.914Z"
   },
   {
    "duration": 3,
    "start_time": "2024-08-26T15:19:45.921Z"
   },
   {
    "duration": 4,
    "start_time": "2024-08-26T15:19:45.927Z"
   },
   {
    "duration": 4,
    "start_time": "2024-08-26T15:19:45.934Z"
   },
   {
    "duration": 4,
    "start_time": "2024-08-26T15:19:45.940Z"
   },
   {
    "duration": 59,
    "start_time": "2024-08-26T15:19:45.947Z"
   },
   {
    "duration": 4,
    "start_time": "2024-08-26T15:19:46.009Z"
   },
   {
    "duration": 3,
    "start_time": "2024-08-26T15:19:46.016Z"
   },
   {
    "duration": 3,
    "start_time": "2024-08-26T15:19:46.026Z"
   },
   {
    "duration": 17,
    "start_time": "2024-08-26T15:20:16.195Z"
   },
   {
    "duration": 12,
    "start_time": "2024-08-26T15:20:59.770Z"
   },
   {
    "duration": 16,
    "start_time": "2024-08-26T15:21:06.029Z"
   },
   {
    "duration": 8,
    "start_time": "2024-08-26T15:21:39.606Z"
   },
   {
    "duration": 7,
    "start_time": "2024-08-26T15:21:51.222Z"
   },
   {
    "duration": 433,
    "start_time": "2024-08-26T15:22:17.194Z"
   },
   {
    "duration": 28,
    "start_time": "2024-08-26T15:22:28.172Z"
   },
   {
    "duration": 28,
    "start_time": "2024-08-26T15:25:16.809Z"
   },
   {
    "duration": 13,
    "start_time": "2024-08-26T15:25:23.855Z"
   },
   {
    "duration": 12,
    "start_time": "2024-08-26T15:26:14.895Z"
   },
   {
    "duration": 22,
    "start_time": "2024-08-26T15:26:25.484Z"
   },
   {
    "duration": 8,
    "start_time": "2024-08-26T15:27:39.494Z"
   },
   {
    "duration": 9,
    "start_time": "2024-08-26T15:30:47.911Z"
   },
   {
    "duration": 9,
    "start_time": "2024-08-26T15:36:30.390Z"
   },
   {
    "duration": 23,
    "start_time": "2024-08-26T15:36:46.111Z"
   },
   {
    "duration": 7,
    "start_time": "2024-08-26T15:37:59.949Z"
   },
   {
    "duration": 6,
    "start_time": "2024-08-26T15:38:05.201Z"
   },
   {
    "duration": 10,
    "start_time": "2024-08-26T15:38:16.485Z"
   },
   {
    "duration": 7,
    "start_time": "2024-08-26T15:38:20.671Z"
   },
   {
    "duration": 8,
    "start_time": "2024-08-26T15:38:50.497Z"
   },
   {
    "duration": 7,
    "start_time": "2024-08-26T15:38:55.330Z"
   },
   {
    "duration": 659,
    "start_time": "2024-08-27T10:39:34.726Z"
   },
   {
    "duration": 261,
    "start_time": "2024-08-27T10:39:35.387Z"
   },
   {
    "duration": 10,
    "start_time": "2024-08-27T10:39:35.650Z"
   },
   {
    "duration": 11,
    "start_time": "2024-08-27T10:39:35.663Z"
   },
   {
    "duration": 8,
    "start_time": "2024-08-27T10:39:35.675Z"
   },
   {
    "duration": 8,
    "start_time": "2024-08-27T10:39:35.684Z"
   },
   {
    "duration": 27,
    "start_time": "2024-08-27T10:39:35.695Z"
   },
   {
    "duration": 10,
    "start_time": "2024-08-27T10:39:35.723Z"
   },
   {
    "duration": 11,
    "start_time": "2024-08-27T10:39:35.735Z"
   },
   {
    "duration": 8,
    "start_time": "2024-08-27T10:39:35.749Z"
   },
   {
    "duration": 14,
    "start_time": "2024-08-27T10:39:35.758Z"
   },
   {
    "duration": 38,
    "start_time": "2024-08-27T10:39:35.774Z"
   },
   {
    "duration": 2,
    "start_time": "2024-08-27T10:39:35.813Z"
   },
   {
    "duration": 2,
    "start_time": "2024-08-27T10:39:35.817Z"
   },
   {
    "duration": 2,
    "start_time": "2024-08-27T10:39:35.821Z"
   },
   {
    "duration": 2,
    "start_time": "2024-08-27T10:39:35.825Z"
   },
   {
    "duration": 2,
    "start_time": "2024-08-27T10:39:35.829Z"
   },
   {
    "duration": 2,
    "start_time": "2024-08-27T10:39:35.833Z"
   },
   {
    "duration": 2,
    "start_time": "2024-08-27T10:39:35.836Z"
   },
   {
    "duration": 3,
    "start_time": "2024-08-27T10:39:35.840Z"
   },
   {
    "duration": 2,
    "start_time": "2024-08-27T10:39:35.845Z"
   },
   {
    "duration": 2,
    "start_time": "2024-08-27T10:39:35.849Z"
   },
   {
    "duration": 2,
    "start_time": "2024-08-27T10:39:35.853Z"
   },
   {
    "duration": 2,
    "start_time": "2024-08-27T10:39:35.909Z"
   },
   {
    "duration": 2,
    "start_time": "2024-08-27T10:39:35.913Z"
   },
   {
    "duration": 2,
    "start_time": "2024-08-27T10:39:35.917Z"
   },
   {
    "duration": 2,
    "start_time": "2024-08-27T10:39:35.921Z"
   },
   {
    "duration": 2,
    "start_time": "2024-08-27T10:39:35.926Z"
   },
   {
    "duration": 6,
    "start_time": "2024-08-27T10:46:52.794Z"
   },
   {
    "duration": 6,
    "start_time": "2024-08-27T10:49:03.371Z"
   },
   {
    "duration": 255,
    "start_time": "2024-08-27T11:03:17.699Z"
   },
   {
    "duration": 147,
    "start_time": "2024-08-27T11:03:23.822Z"
   },
   {
    "duration": 15,
    "start_time": "2024-08-27T11:04:21.768Z"
   },
   {
    "duration": 13,
    "start_time": "2024-08-27T11:04:32.950Z"
   },
   {
    "duration": 7,
    "start_time": "2024-08-27T11:04:42.493Z"
   },
   {
    "duration": 53,
    "start_time": "2024-08-27T11:05:07.071Z"
   },
   {
    "duration": 52,
    "start_time": "2024-08-27T11:28:11.767Z"
   },
   {
    "duration": 52,
    "start_time": "2024-08-27T11:29:01.823Z"
   },
   {
    "duration": 3,
    "start_time": "2024-08-27T11:29:07.120Z"
   },
   {
    "duration": 180,
    "start_time": "2024-08-27T11:29:07.125Z"
   },
   {
    "duration": 10,
    "start_time": "2024-08-27T11:29:07.307Z"
   },
   {
    "duration": 9,
    "start_time": "2024-08-27T11:29:07.318Z"
   },
   {
    "duration": 8,
    "start_time": "2024-08-27T11:29:07.329Z"
   },
   {
    "duration": 8,
    "start_time": "2024-08-27T11:29:07.339Z"
   },
   {
    "duration": 6,
    "start_time": "2024-08-27T11:29:22.667Z"
   },
   {
    "duration": 7,
    "start_time": "2024-08-27T11:29:32.687Z"
   },
   {
    "duration": 215,
    "start_time": "2024-08-27T11:29:47.851Z"
   },
   {
    "duration": 3,
    "start_time": "2024-08-27T11:29:56.110Z"
   },
   {
    "duration": 159,
    "start_time": "2024-08-27T11:29:56.115Z"
   },
   {
    "duration": 8,
    "start_time": "2024-08-27T11:29:56.276Z"
   },
   {
    "duration": 8,
    "start_time": "2024-08-27T11:29:56.285Z"
   },
   {
    "duration": 19,
    "start_time": "2024-08-27T11:29:56.295Z"
   },
   {
    "duration": 7,
    "start_time": "2024-08-27T11:29:56.315Z"
   },
   {
    "duration": 5,
    "start_time": "2024-08-27T11:29:56.324Z"
   },
   {
    "duration": 7,
    "start_time": "2024-08-27T11:30:01.086Z"
   },
   {
    "duration": 6,
    "start_time": "2024-08-27T11:30:31.442Z"
   },
   {
    "duration": 5,
    "start_time": "2024-08-27T11:30:56.178Z"
   },
   {
    "duration": 5,
    "start_time": "2024-08-27T11:31:08.926Z"
   },
   {
    "duration": 7,
    "start_time": "2024-08-27T11:31:29.207Z"
   },
   {
    "duration": 4,
    "start_time": "2024-08-27T11:31:32.446Z"
   },
   {
    "duration": 5,
    "start_time": "2024-08-27T11:31:56.744Z"
   },
   {
    "duration": 639,
    "start_time": "2024-08-28T14:29:50.781Z"
   },
   {
    "duration": 258,
    "start_time": "2024-08-28T14:29:51.423Z"
   },
   {
    "duration": 10,
    "start_time": "2024-08-28T14:29:51.683Z"
   },
   {
    "duration": 10,
    "start_time": "2024-08-28T14:29:51.695Z"
   },
   {
    "duration": 8,
    "start_time": "2024-08-28T14:29:51.706Z"
   },
   {
    "duration": 9,
    "start_time": "2024-08-28T14:29:51.715Z"
   },
   {
    "duration": 5,
    "start_time": "2024-08-28T14:29:51.726Z"
   },
   {
    "duration": 7,
    "start_time": "2024-08-28T14:29:51.733Z"
   },
   {
    "duration": 5,
    "start_time": "2024-08-28T14:29:51.771Z"
   },
   {
    "duration": 14,
    "start_time": "2024-08-28T14:29:51.779Z"
   },
   {
    "duration": 9,
    "start_time": "2024-08-28T14:29:51.795Z"
   },
   {
    "duration": 12,
    "start_time": "2024-08-28T14:29:51.805Z"
   },
   {
    "duration": 8,
    "start_time": "2024-08-28T14:29:51.819Z"
   },
   {
    "duration": 46,
    "start_time": "2024-08-28T14:29:51.828Z"
   },
   {
    "duration": 10,
    "start_time": "2024-08-28T14:29:51.875Z"
   },
   {
    "duration": 2,
    "start_time": "2024-08-28T14:29:51.886Z"
   },
   {
    "duration": 2,
    "start_time": "2024-08-28T14:29:51.890Z"
   },
   {
    "duration": 2,
    "start_time": "2024-08-28T14:29:51.894Z"
   },
   {
    "duration": 2,
    "start_time": "2024-08-28T14:29:51.898Z"
   },
   {
    "duration": 2,
    "start_time": "2024-08-28T14:29:51.902Z"
   },
   {
    "duration": 3,
    "start_time": "2024-08-28T14:29:51.905Z"
   },
   {
    "duration": 2,
    "start_time": "2024-08-28T14:29:51.909Z"
   },
   {
    "duration": 2,
    "start_time": "2024-08-28T14:29:51.913Z"
   },
   {
    "duration": 2,
    "start_time": "2024-08-28T14:29:51.917Z"
   },
   {
    "duration": 51,
    "start_time": "2024-08-28T14:29:51.920Z"
   },
   {
    "duration": 2,
    "start_time": "2024-08-28T14:29:51.972Z"
   },
   {
    "duration": 2,
    "start_time": "2024-08-28T14:29:51.976Z"
   },
   {
    "duration": 2,
    "start_time": "2024-08-28T14:29:51.981Z"
   },
   {
    "duration": 3,
    "start_time": "2024-08-28T14:29:51.984Z"
   },
   {
    "duration": 9,
    "start_time": "2024-08-28T14:29:51.988Z"
   },
   {
    "duration": 2,
    "start_time": "2024-08-28T14:29:51.998Z"
   },
   {
    "duration": 19,
    "start_time": "2024-08-28T14:42:12.517Z"
   },
   {
    "duration": 13,
    "start_time": "2024-08-28T14:44:26.683Z"
   },
   {
    "duration": 15,
    "start_time": "2024-08-28T14:46:49.625Z"
   },
   {
    "duration": 7,
    "start_time": "2024-08-28T14:50:49.510Z"
   },
   {
    "duration": 7,
    "start_time": "2024-08-28T14:50:56.012Z"
   },
   {
    "duration": 7,
    "start_time": "2024-08-28T14:51:07.836Z"
   },
   {
    "duration": 109,
    "start_time": "2024-08-28T14:53:44.657Z"
   },
   {
    "duration": 8,
    "start_time": "2024-08-28T14:54:04.271Z"
   },
   {
    "duration": 6,
    "start_time": "2024-08-28T14:56:25.766Z"
   },
   {
    "duration": 6,
    "start_time": "2024-08-28T14:57:17.420Z"
   },
   {
    "duration": 657,
    "start_time": "2024-08-28T15:00:54.098Z"
   },
   {
    "duration": 54,
    "start_time": "2024-08-28T15:07:15.454Z"
   },
   {
    "duration": 18,
    "start_time": "2024-08-28T15:12:17.933Z"
   },
   {
    "duration": 19,
    "start_time": "2024-08-28T15:12:27.474Z"
   },
   {
    "duration": 19,
    "start_time": "2024-08-28T15:12:33.694Z"
   },
   {
    "duration": 25,
    "start_time": "2024-08-28T15:12:44.027Z"
   },
   {
    "duration": 10,
    "start_time": "2024-08-28T15:17:27.418Z"
   },
   {
    "duration": 236,
    "start_time": "2024-08-28T15:18:20.970Z"
   },
   {
    "duration": 27,
    "start_time": "2024-08-28T15:24:07.846Z"
   },
   {
    "duration": 16,
    "start_time": "2024-08-28T15:25:38.095Z"
   },
   {
    "duration": 3,
    "start_time": "2024-08-28T15:27:14.384Z"
   },
   {
    "duration": 154,
    "start_time": "2024-08-28T15:27:14.389Z"
   },
   {
    "duration": 9,
    "start_time": "2024-08-28T15:27:14.544Z"
   },
   {
    "duration": 16,
    "start_time": "2024-08-28T15:27:14.555Z"
   },
   {
    "duration": 8,
    "start_time": "2024-08-28T15:27:14.572Z"
   },
   {
    "duration": 8,
    "start_time": "2024-08-28T15:27:14.583Z"
   },
   {
    "duration": 6,
    "start_time": "2024-08-28T15:27:14.592Z"
   },
   {
    "duration": 7,
    "start_time": "2024-08-28T15:27:14.599Z"
   },
   {
    "duration": 4,
    "start_time": "2024-08-28T15:27:14.610Z"
   },
   {
    "duration": 15,
    "start_time": "2024-08-28T15:27:14.616Z"
   },
   {
    "duration": 9,
    "start_time": "2024-08-28T15:27:14.670Z"
   },
   {
    "duration": 20,
    "start_time": "2024-08-28T15:27:14.680Z"
   },
   {
    "duration": 11,
    "start_time": "2024-08-28T15:27:14.702Z"
   },
   {
    "duration": 8,
    "start_time": "2024-08-28T15:27:14.714Z"
   },
   {
    "duration": 12,
    "start_time": "2024-08-28T15:27:14.724Z"
   },
   {
    "duration": 44,
    "start_time": "2024-08-28T15:27:14.737Z"
   },
   {
    "duration": 9,
    "start_time": "2024-08-28T15:27:14.783Z"
   },
   {
    "duration": 14,
    "start_time": "2024-08-28T15:27:14.794Z"
   },
   {
    "duration": 7,
    "start_time": "2024-08-28T15:27:14.809Z"
   },
   {
    "duration": 23,
    "start_time": "2024-08-28T15:27:14.818Z"
   },
   {
    "duration": 33,
    "start_time": "2024-08-28T15:27:14.843Z"
   },
   {
    "duration": 23,
    "start_time": "2024-08-28T15:30:24.904Z"
   },
   {
    "duration": 10,
    "start_time": "2024-08-28T15:31:27.141Z"
   },
   {
    "duration": 9,
    "start_time": "2024-08-28T15:31:55.009Z"
   },
   {
    "duration": 18,
    "start_time": "2024-08-28T15:39:44.208Z"
   },
   {
    "duration": 631,
    "start_time": "2024-08-31T14:56:36.617Z"
   },
   {
    "duration": 232,
    "start_time": "2024-08-31T14:56:37.250Z"
   },
   {
    "duration": 9,
    "start_time": "2024-08-31T14:56:37.484Z"
   },
   {
    "duration": 11,
    "start_time": "2024-08-31T14:56:37.495Z"
   },
   {
    "duration": 8,
    "start_time": "2024-08-31T14:56:37.510Z"
   },
   {
    "duration": 8,
    "start_time": "2024-08-31T14:56:37.519Z"
   },
   {
    "duration": 5,
    "start_time": "2024-08-31T14:56:37.529Z"
   },
   {
    "duration": 8,
    "start_time": "2024-08-31T14:56:37.535Z"
   },
   {
    "duration": 5,
    "start_time": "2024-08-31T14:56:37.544Z"
   },
   {
    "duration": 15,
    "start_time": "2024-08-31T14:56:37.550Z"
   },
   {
    "duration": 46,
    "start_time": "2024-08-31T14:56:37.567Z"
   },
   {
    "duration": 20,
    "start_time": "2024-08-31T14:56:37.614Z"
   },
   {
    "duration": 12,
    "start_time": "2024-08-31T14:56:37.635Z"
   },
   {
    "duration": 8,
    "start_time": "2024-08-31T14:56:37.652Z"
   },
   {
    "duration": 13,
    "start_time": "2024-08-31T14:56:37.661Z"
   },
   {
    "duration": 42,
    "start_time": "2024-08-31T14:56:37.675Z"
   },
   {
    "duration": 8,
    "start_time": "2024-08-31T14:56:37.718Z"
   },
   {
    "duration": 15,
    "start_time": "2024-08-31T14:56:37.728Z"
   },
   {
    "duration": 7,
    "start_time": "2024-08-31T14:56:37.744Z"
   },
   {
    "duration": 24,
    "start_time": "2024-08-31T14:56:37.753Z"
   },
   {
    "duration": 57,
    "start_time": "2024-08-31T14:56:37.778Z"
   },
   {
    "duration": 9,
    "start_time": "2024-08-31T14:56:37.836Z"
   },
   {
    "duration": 18,
    "start_time": "2024-08-31T14:56:37.846Z"
   },
   {
    "duration": 2,
    "start_time": "2024-08-31T14:56:37.866Z"
   },
   {
    "duration": 3,
    "start_time": "2024-08-31T14:56:37.870Z"
   },
   {
    "duration": 4,
    "start_time": "2024-08-31T14:56:37.874Z"
   },
   {
    "duration": 3,
    "start_time": "2024-08-31T14:56:37.911Z"
   },
   {
    "duration": 2,
    "start_time": "2024-08-31T14:56:37.916Z"
   },
   {
    "duration": 3,
    "start_time": "2024-08-31T14:56:37.920Z"
   },
   {
    "duration": 3,
    "start_time": "2024-08-31T14:56:37.924Z"
   },
   {
    "duration": 2,
    "start_time": "2024-08-31T14:56:37.929Z"
   },
   {
    "duration": 3,
    "start_time": "2024-08-31T14:56:37.933Z"
   },
   {
    "duration": 2,
    "start_time": "2024-08-31T14:56:37.939Z"
   },
   {
    "duration": 3,
    "start_time": "2024-08-31T14:56:37.942Z"
   },
   {
    "duration": 3,
    "start_time": "2024-08-31T14:56:37.946Z"
   },
   {
    "duration": 10,
    "start_time": "2024-08-31T15:00:19.784Z"
   },
   {
    "duration": 664,
    "start_time": "2024-08-31T15:03:39.315Z"
   },
   {
    "duration": 23,
    "start_time": "2024-08-31T15:04:08.092Z"
   },
   {
    "duration": 13,
    "start_time": "2024-08-31T15:06:08.397Z"
   },
   {
    "duration": 3,
    "start_time": "2024-08-31T15:06:32.155Z"
   },
   {
    "duration": 4,
    "start_time": "2024-08-31T15:06:46.095Z"
   },
   {
    "duration": 7,
    "start_time": "2024-08-31T15:06:59.971Z"
   },
   {
    "duration": 13,
    "start_time": "2024-08-31T15:21:46.902Z"
   },
   {
    "duration": 3,
    "start_time": "2024-08-31T15:22:19.160Z"
   },
   {
    "duration": 595,
    "start_time": "2024-08-31T15:23:15.413Z"
   },
   {
    "duration": 267,
    "start_time": "2024-08-31T15:23:16.012Z"
   },
   {
    "duration": 10,
    "start_time": "2024-08-31T15:23:16.281Z"
   },
   {
    "duration": 11,
    "start_time": "2024-08-31T15:23:16.294Z"
   },
   {
    "duration": 8,
    "start_time": "2024-08-31T15:23:16.307Z"
   },
   {
    "duration": 7,
    "start_time": "2024-08-31T15:23:16.317Z"
   },
   {
    "duration": 6,
    "start_time": "2024-08-31T15:23:16.326Z"
   },
   {
    "duration": 8,
    "start_time": "2024-08-31T15:23:16.333Z"
   },
   {
    "duration": 5,
    "start_time": "2024-08-31T15:23:16.342Z"
   },
   {
    "duration": 14,
    "start_time": "2024-08-31T15:23:16.351Z"
   },
   {
    "duration": 46,
    "start_time": "2024-08-31T15:23:16.367Z"
   },
   {
    "duration": 20,
    "start_time": "2024-08-31T15:23:16.415Z"
   },
   {
    "duration": 12,
    "start_time": "2024-08-31T15:23:16.436Z"
   },
   {
    "duration": 8,
    "start_time": "2024-08-31T15:23:16.450Z"
   },
   {
    "duration": 13,
    "start_time": "2024-08-31T15:23:16.459Z"
   },
   {
    "duration": 42,
    "start_time": "2024-08-31T15:23:16.473Z"
   },
   {
    "duration": 9,
    "start_time": "2024-08-31T15:23:16.518Z"
   },
   {
    "duration": 15,
    "start_time": "2024-08-31T15:23:16.528Z"
   },
   {
    "duration": 7,
    "start_time": "2024-08-31T15:23:16.545Z"
   },
   {
    "duration": 25,
    "start_time": "2024-08-31T15:23:16.554Z"
   },
   {
    "duration": 26,
    "start_time": "2024-08-31T15:23:16.612Z"
   },
   {
    "duration": 19,
    "start_time": "2024-08-31T15:23:16.640Z"
   },
   {
    "duration": 19,
    "start_time": "2024-08-31T15:23:16.661Z"
   },
   {
    "duration": 161,
    "start_time": "2024-08-31T15:30:08.889Z"
   },
   {
    "duration": 658,
    "start_time": "2024-08-31T15:30:33.545Z"
   },
   {
    "duration": 226,
    "start_time": "2024-08-31T15:30:34.205Z"
   },
   {
    "duration": 9,
    "start_time": "2024-08-31T15:30:34.433Z"
   },
   {
    "duration": 10,
    "start_time": "2024-08-31T15:30:34.445Z"
   },
   {
    "duration": 8,
    "start_time": "2024-08-31T15:30:34.457Z"
   },
   {
    "duration": 8,
    "start_time": "2024-08-31T15:30:34.466Z"
   },
   {
    "duration": 5,
    "start_time": "2024-08-31T15:30:34.476Z"
   },
   {
    "duration": 8,
    "start_time": "2024-08-31T15:30:34.512Z"
   },
   {
    "duration": 4,
    "start_time": "2024-08-31T15:30:34.522Z"
   },
   {
    "duration": 14,
    "start_time": "2024-08-31T15:30:34.529Z"
   },
   {
    "duration": 10,
    "start_time": "2024-08-31T15:30:34.545Z"
   },
   {
    "duration": 19,
    "start_time": "2024-08-31T15:30:34.556Z"
   },
   {
    "duration": 43,
    "start_time": "2024-08-31T15:30:34.576Z"
   },
   {
    "duration": 9,
    "start_time": "2024-08-31T15:30:34.620Z"
   },
   {
    "duration": 14,
    "start_time": "2024-08-31T15:30:34.630Z"
   },
   {
    "duration": 15,
    "start_time": "2024-08-31T15:30:34.645Z"
   },
   {
    "duration": 10,
    "start_time": "2024-08-31T15:30:34.661Z"
   },
   {
    "duration": 52,
    "start_time": "2024-08-31T15:30:34.673Z"
   },
   {
    "duration": 8,
    "start_time": "2024-08-31T15:30:34.727Z"
   },
   {
    "duration": 25,
    "start_time": "2024-08-31T15:30:34.736Z"
   },
   {
    "duration": 52,
    "start_time": "2024-08-31T15:30:34.762Z"
   },
   {
    "duration": 20,
    "start_time": "2024-08-31T15:30:34.816Z"
   },
   {
    "duration": 19,
    "start_time": "2024-08-31T15:30:34.838Z"
   },
   {
    "duration": 3,
    "start_time": "2024-08-31T15:30:38.899Z"
   },
   {
    "duration": 4,
    "start_time": "2024-08-31T15:31:33.517Z"
   },
   {
    "duration": 3,
    "start_time": "2024-08-31T15:31:48.867Z"
   },
   {
    "duration": 96,
    "start_time": "2024-08-31T15:42:24.834Z"
   },
   {
    "duration": 52,
    "start_time": "2024-08-31T15:46:49.372Z"
   },
   {
    "duration": 70,
    "start_time": "2024-08-31T15:55:00.174Z"
   },
   {
    "duration": 69,
    "start_time": "2024-08-31T16:04:44.987Z"
   },
   {
    "duration": 116,
    "start_time": "2024-08-31T16:05:54.277Z"
   },
   {
    "duration": 63,
    "start_time": "2024-08-31T16:06:03.672Z"
   },
   {
    "duration": 75,
    "start_time": "2024-08-31T16:06:11.805Z"
   },
   {
    "duration": 75,
    "start_time": "2024-08-31T16:06:40.904Z"
   },
   {
    "duration": 68,
    "start_time": "2024-08-31T16:07:15.544Z"
   },
   {
    "duration": 71,
    "start_time": "2024-08-31T16:08:05.359Z"
   },
   {
    "duration": 18,
    "start_time": "2024-08-31T16:15:09.288Z"
   },
   {
    "duration": 6,
    "start_time": "2024-08-31T16:15:59.286Z"
   },
   {
    "duration": 9,
    "start_time": "2024-08-31T16:16:38.118Z"
   },
   {
    "duration": 16,
    "start_time": "2024-08-31T16:48:52.387Z"
   },
   {
    "duration": 15,
    "start_time": "2024-08-31T16:56:37.602Z"
   },
   {
    "duration": 14,
    "start_time": "2024-08-31T16:56:56.744Z"
   },
   {
    "duration": 4,
    "start_time": "2024-08-31T16:57:08.888Z"
   },
   {
    "duration": 3,
    "start_time": "2024-08-31T16:57:27.250Z"
   },
   {
    "duration": 8,
    "start_time": "2024-08-31T16:58:31.650Z"
   },
   {
    "duration": 13,
    "start_time": "2024-08-31T16:59:01.358Z"
   },
   {
    "duration": 80,
    "start_time": "2024-08-31T16:59:23.851Z"
   },
   {
    "duration": 5,
    "start_time": "2024-08-31T17:13:42.542Z"
   },
   {
    "duration": 8,
    "start_time": "2024-08-31T17:14:28.506Z"
   },
   {
    "duration": 13,
    "start_time": "2024-08-31T17:14:46.491Z"
   },
   {
    "duration": 9,
    "start_time": "2024-08-31T17:15:02.569Z"
   },
   {
    "duration": 13,
    "start_time": "2024-08-31T17:15:15.992Z"
   },
   {
    "duration": 8,
    "start_time": "2024-08-31T17:15:21.823Z"
   },
   {
    "duration": 9,
    "start_time": "2024-08-31T17:16:20.342Z"
   },
   {
    "duration": 4,
    "start_time": "2024-08-31T17:29:47.535Z"
   },
   {
    "duration": 3,
    "start_time": "2024-08-31T17:38:43.523Z"
   },
   {
    "duration": 4,
    "start_time": "2024-08-31T17:38:52.135Z"
   },
   {
    "duration": 7,
    "start_time": "2024-08-31T17:39:00.100Z"
   },
   {
    "duration": 18,
    "start_time": "2024-08-31T17:39:20.368Z"
   },
   {
    "duration": 5,
    "start_time": "2024-08-31T17:39:30.618Z"
   },
   {
    "duration": 17,
    "start_time": "2024-08-31T17:45:55.532Z"
   },
   {
    "duration": 18,
    "start_time": "2024-08-31T17:46:21.696Z"
   },
   {
    "duration": 4,
    "start_time": "2024-08-31T17:46:50.285Z"
   },
   {
    "duration": 17,
    "start_time": "2024-08-31T17:46:56.946Z"
   },
   {
    "duration": 6,
    "start_time": "2024-08-31T17:47:04.277Z"
   },
   {
    "duration": 18,
    "start_time": "2024-08-31T17:47:15.965Z"
   },
   {
    "duration": 16,
    "start_time": "2024-08-31T17:48:34.773Z"
   },
   {
    "duration": 3,
    "start_time": "2024-08-31T17:48:57.675Z"
   },
   {
    "duration": 2,
    "start_time": "2024-08-31T17:50:52.963Z"
   },
   {
    "duration": 139,
    "start_time": "2024-08-31T17:50:52.967Z"
   },
   {
    "duration": 8,
    "start_time": "2024-08-31T17:50:53.108Z"
   },
   {
    "duration": 7,
    "start_time": "2024-08-31T17:50:53.117Z"
   },
   {
    "duration": 7,
    "start_time": "2024-08-31T17:50:53.126Z"
   },
   {
    "duration": 7,
    "start_time": "2024-08-31T17:50:53.135Z"
   },
   {
    "duration": 5,
    "start_time": "2024-08-31T17:50:53.144Z"
   },
   {
    "duration": 7,
    "start_time": "2024-08-31T17:50:53.151Z"
   },
   {
    "duration": 5,
    "start_time": "2024-08-31T17:50:53.159Z"
   },
   {
    "duration": 52,
    "start_time": "2024-08-31T17:50:53.165Z"
   },
   {
    "duration": 9,
    "start_time": "2024-08-31T17:50:53.220Z"
   },
   {
    "duration": 26,
    "start_time": "2024-08-31T17:50:53.230Z"
   },
   {
    "duration": 14,
    "start_time": "2024-08-31T17:50:53.258Z"
   },
   {
    "duration": 8,
    "start_time": "2024-08-31T17:50:53.273Z"
   },
   {
    "duration": 45,
    "start_time": "2024-08-31T17:50:53.282Z"
   },
   {
    "duration": 13,
    "start_time": "2024-08-31T17:50:53.328Z"
   },
   {
    "duration": 8,
    "start_time": "2024-08-31T17:50:53.343Z"
   },
   {
    "duration": 14,
    "start_time": "2024-08-31T17:50:53.353Z"
   },
   {
    "duration": 6,
    "start_time": "2024-08-31T17:50:53.369Z"
   },
   {
    "duration": 49,
    "start_time": "2024-08-31T17:50:53.377Z"
   },
   {
    "duration": 20,
    "start_time": "2024-08-31T17:50:53.428Z"
   },
   {
    "duration": 17,
    "start_time": "2024-08-31T17:50:53.449Z"
   },
   {
    "duration": 45,
    "start_time": "2024-08-31T17:50:53.467Z"
   },
   {
    "duration": 19,
    "start_time": "2024-08-31T17:50:53.514Z"
   },
   {
    "duration": 173,
    "start_time": "2024-08-31T18:12:10.768Z"
   },
   {
    "duration": 10,
    "start_time": "2024-08-31T18:12:38.255Z"
   },
   {
    "duration": 9,
    "start_time": "2024-08-31T18:12:41.878Z"
   },
   {
    "duration": 300,
    "start_time": "2024-08-31T18:15:15.599Z"
   },
   {
    "duration": 314,
    "start_time": "2024-08-31T18:15:39.417Z"
   },
   {
    "duration": 133,
    "start_time": "2024-08-31T18:16:01.150Z"
   },
   {
    "duration": 9,
    "start_time": "2024-08-31T18:16:10.810Z"
   },
   {
    "duration": 8,
    "start_time": "2024-08-31T18:16:25.501Z"
   },
   {
    "duration": 136,
    "start_time": "2024-08-31T18:18:44.430Z"
   },
   {
    "duration": 7,
    "start_time": "2024-08-31T18:18:50.635Z"
   },
   {
    "duration": 6,
    "start_time": "2024-08-31T18:18:55.954Z"
   },
   {
    "duration": 8,
    "start_time": "2024-08-31T18:23:26.377Z"
   },
   {
    "duration": 15,
    "start_time": "2024-08-31T18:31:53.165Z"
   },
   {
    "duration": 611,
    "start_time": "2024-09-01T10:04:34.019Z"
   },
   {
    "duration": 242,
    "start_time": "2024-09-01T10:04:34.632Z"
   },
   {
    "duration": 9,
    "start_time": "2024-09-01T10:04:34.876Z"
   },
   {
    "duration": 10,
    "start_time": "2024-09-01T10:04:34.887Z"
   },
   {
    "duration": 8,
    "start_time": "2024-09-01T10:04:34.899Z"
   },
   {
    "duration": 9,
    "start_time": "2024-09-01T10:04:34.909Z"
   },
   {
    "duration": 6,
    "start_time": "2024-09-01T10:04:34.931Z"
   },
   {
    "duration": 7,
    "start_time": "2024-09-01T10:04:34.939Z"
   },
   {
    "duration": 5,
    "start_time": "2024-09-01T10:04:34.948Z"
   },
   {
    "duration": 15,
    "start_time": "2024-09-01T10:04:34.955Z"
   },
   {
    "duration": 10,
    "start_time": "2024-09-01T10:04:34.971Z"
   },
   {
    "duration": 57,
    "start_time": "2024-09-01T10:04:34.982Z"
   },
   {
    "duration": 14,
    "start_time": "2024-09-01T10:04:35.041Z"
   },
   {
    "duration": 8,
    "start_time": "2024-09-01T10:04:35.059Z"
   },
   {
    "duration": 14,
    "start_time": "2024-09-01T10:04:35.069Z"
   },
   {
    "duration": 13,
    "start_time": "2024-09-01T10:04:35.085Z"
   },
   {
    "duration": 40,
    "start_time": "2024-09-01T10:04:35.100Z"
   },
   {
    "duration": 16,
    "start_time": "2024-09-01T10:04:35.142Z"
   },
   {
    "duration": 8,
    "start_time": "2024-09-01T10:04:35.160Z"
   },
   {
    "duration": 25,
    "start_time": "2024-09-01T10:04:35.170Z"
   },
   {
    "duration": 52,
    "start_time": "2024-09-01T10:04:35.197Z"
   },
   {
    "duration": 17,
    "start_time": "2024-09-01T10:04:35.251Z"
   },
   {
    "duration": 20,
    "start_time": "2024-09-01T10:04:35.269Z"
   },
   {
    "duration": 43,
    "start_time": "2024-09-01T10:04:35.290Z"
   },
   {
    "duration": 15,
    "start_time": "2024-09-01T10:04:35.335Z"
   },
   {
    "duration": 8,
    "start_time": "2024-09-01T10:04:35.352Z"
   },
   {
    "duration": 2,
    "start_time": "2024-09-01T10:04:35.362Z"
   },
   {
    "duration": 7,
    "start_time": "2024-09-01T10:04:35.366Z"
   },
   {
    "duration": 4,
    "start_time": "2024-09-01T10:04:35.374Z"
   },
   {
    "duration": 2,
    "start_time": "2024-09-01T10:04:35.381Z"
   },
   {
    "duration": 3,
    "start_time": "2024-09-01T10:04:35.385Z"
   },
   {
    "duration": 2,
    "start_time": "2024-09-01T10:04:35.390Z"
   },
   {
    "duration": 3,
    "start_time": "2024-09-01T10:04:35.430Z"
   },
   {
    "duration": 2,
    "start_time": "2024-09-01T10:04:35.435Z"
   },
   {
    "duration": 2,
    "start_time": "2024-09-01T10:04:35.440Z"
   },
   {
    "duration": 236,
    "start_time": "2024-09-01T10:08:30.413Z"
   },
   {
    "duration": 7,
    "start_time": "2024-09-01T10:08:36.374Z"
   },
   {
    "duration": 3,
    "start_time": "2024-09-01T10:11:43.918Z"
   },
   {
    "duration": 8,
    "start_time": "2024-09-01T10:11:53.450Z"
   },
   {
    "duration": 14,
    "start_time": "2024-09-01T10:16:16.650Z"
   },
   {
    "duration": 14,
    "start_time": "2024-09-01T10:16:21.002Z"
   },
   {
    "duration": 20,
    "start_time": "2024-09-01T10:16:27.015Z"
   },
   {
    "duration": 15,
    "start_time": "2024-09-01T10:16:48.783Z"
   },
   {
    "duration": 17,
    "start_time": "2024-09-01T10:17:23.873Z"
   },
   {
    "duration": 13,
    "start_time": "2024-09-01T10:17:36.691Z"
   },
   {
    "duration": 20,
    "start_time": "2024-09-01T10:18:14.829Z"
   },
   {
    "duration": 14,
    "start_time": "2024-09-01T10:18:50.849Z"
   },
   {
    "duration": 596,
    "start_time": "2024-09-05T10:17:45.225Z"
   },
   {
    "duration": 248,
    "start_time": "2024-09-05T10:17:45.823Z"
   },
   {
    "duration": 11,
    "start_time": "2024-09-05T10:17:46.072Z"
   },
   {
    "duration": 12,
    "start_time": "2024-09-05T10:17:46.086Z"
   },
   {
    "duration": 8,
    "start_time": "2024-09-05T10:17:46.101Z"
   },
   {
    "duration": 11,
    "start_time": "2024-09-05T10:17:46.110Z"
   },
   {
    "duration": 21,
    "start_time": "2024-09-05T10:17:46.123Z"
   },
   {
    "duration": 9,
    "start_time": "2024-09-05T10:17:46.145Z"
   },
   {
    "duration": 5,
    "start_time": "2024-09-05T10:17:46.155Z"
   },
   {
    "duration": 15,
    "start_time": "2024-09-05T10:17:46.163Z"
   },
   {
    "duration": 11,
    "start_time": "2024-09-05T10:17:46.179Z"
   },
   {
    "duration": 18,
    "start_time": "2024-09-05T10:17:46.192Z"
   },
   {
    "duration": 40,
    "start_time": "2024-09-05T10:17:46.212Z"
   },
   {
    "duration": 8,
    "start_time": "2024-09-05T10:17:46.254Z"
   },
   {
    "duration": 12,
    "start_time": "2024-09-05T10:17:46.264Z"
   },
   {
    "duration": 18,
    "start_time": "2024-09-05T10:17:46.278Z"
   },
   {
    "duration": 10,
    "start_time": "2024-09-05T10:17:46.297Z"
   },
   {
    "duration": 57,
    "start_time": "2024-09-05T10:17:46.308Z"
   },
   {
    "duration": 7,
    "start_time": "2024-09-05T10:17:46.367Z"
   },
   {
    "duration": 25,
    "start_time": "2024-09-05T10:17:46.376Z"
   },
   {
    "duration": 47,
    "start_time": "2024-09-05T10:17:46.403Z"
   },
   {
    "duration": 18,
    "start_time": "2024-09-05T10:17:46.453Z"
   },
   {
    "duration": 19,
    "start_time": "2024-09-05T10:17:46.473Z"
   },
   {
    "duration": 17,
    "start_time": "2024-09-05T10:17:46.495Z"
   },
   {
    "duration": 36,
    "start_time": "2024-09-05T10:17:46.514Z"
   },
   {
    "duration": 16,
    "start_time": "2024-09-05T10:17:46.551Z"
   },
   {
    "duration": 8,
    "start_time": "2024-09-05T10:17:46.568Z"
   },
   {
    "duration": 0,
    "start_time": "2024-09-05T10:17:46.579Z"
   },
   {
    "duration": 0,
    "start_time": "2024-09-05T10:17:46.580Z"
   },
   {
    "duration": 0,
    "start_time": "2024-09-05T10:17:46.581Z"
   },
   {
    "duration": 0,
    "start_time": "2024-09-05T10:17:46.582Z"
   },
   {
    "duration": 0,
    "start_time": "2024-09-05T10:17:46.583Z"
   },
   {
    "duration": 0,
    "start_time": "2024-09-05T10:17:46.584Z"
   },
   {
    "duration": 0,
    "start_time": "2024-09-05T10:17:46.585Z"
   },
   {
    "duration": 0,
    "start_time": "2024-09-05T10:17:46.586Z"
   },
   {
    "duration": 20,
    "start_time": "2024-09-05T10:18:36.349Z"
   },
   {
    "duration": 16,
    "start_time": "2024-09-05T10:19:20.063Z"
   },
   {
    "duration": 16,
    "start_time": "2024-09-05T10:19:42.654Z"
   },
   {
    "duration": 137,
    "start_time": "2024-09-05T10:25:51.767Z"
   },
   {
    "duration": 18,
    "start_time": "2024-09-05T10:26:18.747Z"
   },
   {
    "duration": 17,
    "start_time": "2024-09-05T10:28:49.012Z"
   },
   {
    "duration": 20,
    "start_time": "2024-09-05T10:28:59.432Z"
   },
   {
    "duration": 17,
    "start_time": "2024-09-05T10:29:08.546Z"
   },
   {
    "duration": 138,
    "start_time": "2024-09-05T10:32:36.041Z"
   },
   {
    "duration": 23,
    "start_time": "2024-09-05T10:33:05.868Z"
   },
   {
    "duration": 37,
    "start_time": "2024-09-05T10:33:31.990Z"
   },
   {
    "duration": 3,
    "start_time": "2024-09-05T10:34:04.858Z"
   },
   {
    "duration": 163,
    "start_time": "2024-09-05T10:34:04.865Z"
   },
   {
    "duration": 8,
    "start_time": "2024-09-05T10:34:05.030Z"
   },
   {
    "duration": 10,
    "start_time": "2024-09-05T10:34:05.040Z"
   },
   {
    "duration": 9,
    "start_time": "2024-09-05T10:34:05.052Z"
   },
   {
    "duration": 12,
    "start_time": "2024-09-05T10:34:05.062Z"
   },
   {
    "duration": 6,
    "start_time": "2024-09-05T10:34:05.077Z"
   },
   {
    "duration": 8,
    "start_time": "2024-09-05T10:34:05.085Z"
   },
   {
    "duration": 6,
    "start_time": "2024-09-05T10:34:05.094Z"
   },
   {
    "duration": 52,
    "start_time": "2024-09-05T10:34:05.101Z"
   },
   {
    "duration": 12,
    "start_time": "2024-09-05T10:34:05.156Z"
   },
   {
    "duration": 25,
    "start_time": "2024-09-05T10:34:05.170Z"
   },
   {
    "duration": 13,
    "start_time": "2024-09-05T10:34:05.198Z"
   },
   {
    "duration": 7,
    "start_time": "2024-09-05T10:34:05.214Z"
   },
   {
    "duration": 12,
    "start_time": "2024-09-05T10:34:05.243Z"
   },
   {
    "duration": 18,
    "start_time": "2024-09-05T10:34:05.256Z"
   },
   {
    "duration": 11,
    "start_time": "2024-09-05T10:34:05.275Z"
   },
   {
    "duration": 14,
    "start_time": "2024-09-05T10:34:05.287Z"
   },
   {
    "duration": 8,
    "start_time": "2024-09-05T10:34:05.303Z"
   },
   {
    "duration": 53,
    "start_time": "2024-09-05T10:34:05.312Z"
   },
   {
    "duration": 22,
    "start_time": "2024-09-05T10:34:05.367Z"
   },
   {
    "duration": 20,
    "start_time": "2024-09-05T10:34:05.391Z"
   },
   {
    "duration": 44,
    "start_time": "2024-09-05T10:34:05.413Z"
   },
   {
    "duration": 24,
    "start_time": "2024-09-05T10:34:05.458Z"
   },
   {
    "duration": 22,
    "start_time": "2024-09-05T10:34:12.564Z"
   },
   {
    "duration": 21,
    "start_time": "2024-09-05T10:34:49.225Z"
   },
   {
    "duration": 150,
    "start_time": "2024-09-05T10:36:27.215Z"
   },
   {
    "duration": 26,
    "start_time": "2024-09-05T10:36:51.799Z"
   },
   {
    "duration": 8,
    "start_time": "2024-09-05T10:37:34.260Z"
   },
   {
    "duration": 19,
    "start_time": "2024-09-05T10:39:06.178Z"
   },
   {
    "duration": 23,
    "start_time": "2024-09-05T10:39:23.677Z"
   },
   {
    "duration": 23,
    "start_time": "2024-09-05T10:40:44.417Z"
   },
   {
    "duration": 18,
    "start_time": "2024-09-05T10:41:03.798Z"
   },
   {
    "duration": 23,
    "start_time": "2024-09-05T10:42:30.332Z"
   },
   {
    "duration": 23,
    "start_time": "2024-09-05T10:42:34.580Z"
   },
   {
    "duration": 29,
    "start_time": "2024-09-05T10:42:49.062Z"
   },
   {
    "duration": 22,
    "start_time": "2024-09-05T10:43:05.307Z"
   },
   {
    "duration": 20,
    "start_time": "2024-09-05T10:57:40.482Z"
   },
   {
    "duration": 6,
    "start_time": "2024-09-05T11:12:35.945Z"
   },
   {
    "duration": 6,
    "start_time": "2024-09-05T11:14:36.946Z"
   },
   {
    "duration": 20,
    "start_time": "2024-09-05T11:18:16.088Z"
   },
   {
    "duration": 22,
    "start_time": "2024-09-05T11:36:26.641Z"
   },
   {
    "duration": 21,
    "start_time": "2024-09-05T11:42:41.455Z"
   },
   {
    "duration": 7,
    "start_time": "2024-09-05T11:43:31.394Z"
   },
   {
    "duration": 11,
    "start_time": "2024-09-05T11:50:10.020Z"
   },
   {
    "duration": 10,
    "start_time": "2024-09-05T11:50:38.266Z"
   },
   {
    "duration": 13,
    "start_time": "2024-09-05T11:53:14.822Z"
   },
   {
    "duration": 13,
    "start_time": "2024-09-05T11:54:05.274Z"
   },
   {
    "duration": 4,
    "start_time": "2024-09-05T16:01:50.487Z"
   },
   {
    "duration": 6,
    "start_time": "2024-09-05T16:02:02.626Z"
   },
   {
    "duration": 13,
    "start_time": "2024-09-05T16:03:10.075Z"
   },
   {
    "duration": 6,
    "start_time": "2024-09-05T16:03:25.394Z"
   },
   {
    "duration": 6,
    "start_time": "2024-09-05T16:03:35.135Z"
   },
   {
    "duration": 12,
    "start_time": "2024-09-05T16:03:50.010Z"
   },
   {
    "duration": 6,
    "start_time": "2024-09-05T16:04:01.544Z"
   },
   {
    "duration": 15,
    "start_time": "2024-09-05T16:06:18.330Z"
   },
   {
    "duration": 15,
    "start_time": "2024-09-05T16:06:29.775Z"
   },
   {
    "duration": 8,
    "start_time": "2024-09-05T16:12:45.272Z"
   },
   {
    "duration": 14,
    "start_time": "2024-09-05T16:16:36.690Z"
   },
   {
    "duration": 26,
    "start_time": "2024-09-05T16:21:31.532Z"
   },
   {
    "duration": 24,
    "start_time": "2024-09-05T16:23:21.516Z"
   },
   {
    "duration": 444,
    "start_time": "2024-09-05T16:28:10.201Z"
   },
   {
    "duration": 3,
    "start_time": "2024-09-05T16:28:38.747Z"
   },
   {
    "duration": 2,
    "start_time": "2024-09-05T16:28:41.795Z"
   },
   {
    "duration": 167,
    "start_time": "2024-09-05T16:28:45.688Z"
   },
   {
    "duration": 200,
    "start_time": "2024-09-05T16:29:26.010Z"
   },
   {
    "duration": 4,
    "start_time": "2024-09-05T16:30:28.611Z"
   },
   {
    "duration": 17,
    "start_time": "2024-09-05T16:52:17.250Z"
   },
   {
    "duration": 17,
    "start_time": "2024-09-05T16:52:40.089Z"
   },
   {
    "duration": 2556,
    "start_time": "2024-09-06T10:14:12.161Z"
   },
   {
    "duration": 276,
    "start_time": "2024-09-06T10:14:14.720Z"
   },
   {
    "duration": 9,
    "start_time": "2024-09-06T10:14:14.998Z"
   },
   {
    "duration": 11,
    "start_time": "2024-09-06T10:14:15.009Z"
   },
   {
    "duration": 8,
    "start_time": "2024-09-06T10:14:15.022Z"
   },
   {
    "duration": 11,
    "start_time": "2024-09-06T10:14:15.032Z"
   },
   {
    "duration": 7,
    "start_time": "2024-09-06T10:14:15.045Z"
   },
   {
    "duration": 8,
    "start_time": "2024-09-06T10:14:15.055Z"
   },
   {
    "duration": 5,
    "start_time": "2024-09-06T10:14:15.065Z"
   },
   {
    "duration": 16,
    "start_time": "2024-09-06T10:14:15.071Z"
   },
   {
    "duration": 47,
    "start_time": "2024-09-06T10:14:15.089Z"
   },
   {
    "duration": 20,
    "start_time": "2024-09-06T10:14:15.137Z"
   },
   {
    "duration": 13,
    "start_time": "2024-09-06T10:14:15.159Z"
   },
   {
    "duration": 8,
    "start_time": "2024-09-06T10:14:15.176Z"
   },
   {
    "duration": 45,
    "start_time": "2024-09-06T10:14:15.186Z"
   },
   {
    "duration": 15,
    "start_time": "2024-09-06T10:14:15.233Z"
   },
   {
    "duration": 9,
    "start_time": "2024-09-06T10:14:15.250Z"
   },
   {
    "duration": 14,
    "start_time": "2024-09-06T10:14:15.261Z"
   },
   {
    "duration": 7,
    "start_time": "2024-09-06T10:14:15.277Z"
   },
   {
    "duration": 59,
    "start_time": "2024-09-06T10:14:15.286Z"
   },
   {
    "duration": 25,
    "start_time": "2024-09-06T10:14:15.347Z"
   },
   {
    "duration": 18,
    "start_time": "2024-09-06T10:14:15.373Z"
   },
   {
    "duration": 40,
    "start_time": "2024-09-06T10:14:15.393Z"
   },
   {
    "duration": 20,
    "start_time": "2024-09-06T10:14:15.435Z"
   },
   {
    "duration": 21,
    "start_time": "2024-09-06T10:14:15.457Z"
   },
   {
    "duration": 17,
    "start_time": "2024-09-06T10:14:15.480Z"
   },
   {
    "duration": 205,
    "start_time": "2024-09-06T10:14:15.499Z"
   },
   {
    "duration": 2,
    "start_time": "2024-09-06T10:14:15.707Z"
   },
   {
    "duration": 3,
    "start_time": "2024-09-06T10:14:15.710Z"
   },
   {
    "duration": 2,
    "start_time": "2024-09-06T10:14:15.715Z"
   },
   {
    "duration": 14,
    "start_time": "2024-09-06T10:14:15.719Z"
   },
   {
    "duration": 4,
    "start_time": "2024-09-06T10:14:15.735Z"
   },
   {
    "duration": 4,
    "start_time": "2024-09-06T10:14:15.740Z"
   },
   {
    "duration": 3,
    "start_time": "2024-09-06T10:14:15.745Z"
   },
   {
    "duration": 25,
    "start_time": "2024-09-06T10:16:23.389Z"
   },
   {
    "duration": 16,
    "start_time": "2024-09-06T10:16:38.529Z"
   },
   {
    "duration": 18,
    "start_time": "2024-09-06T10:24:56.760Z"
   },
   {
    "duration": 25,
    "start_time": "2024-09-06T10:26:31.949Z"
   },
   {
    "duration": 16,
    "start_time": "2024-09-06T10:27:25.349Z"
   },
   {
    "duration": 22,
    "start_time": "2024-09-06T10:27:46.145Z"
   },
   {
    "duration": 19,
    "start_time": "2024-09-06T10:29:32.220Z"
   },
   {
    "duration": 14,
    "start_time": "2024-09-06T10:31:13.390Z"
   },
   {
    "duration": 140,
    "start_time": "2024-09-06T10:34:32.565Z"
   },
   {
    "duration": 7,
    "start_time": "2024-09-06T10:36:49.714Z"
   },
   {
    "duration": 5,
    "start_time": "2024-09-06T10:37:09.946Z"
   },
   {
    "duration": 1067,
    "start_time": "2024-09-06T10:46:52.002Z"
   },
   {
    "duration": 256,
    "start_time": "2024-09-06T10:47:29.307Z"
   },
   {
    "duration": 198,
    "start_time": "2024-09-06T10:47:36.597Z"
   },
   {
    "duration": 196,
    "start_time": "2024-09-06T10:48:00.355Z"
   },
   {
    "duration": 189,
    "start_time": "2024-09-06T10:48:44.491Z"
   },
   {
    "duration": 194,
    "start_time": "2024-09-06T10:49:00.696Z"
   },
   {
    "duration": 241,
    "start_time": "2024-09-06T10:49:17.301Z"
   },
   {
    "duration": 136,
    "start_time": "2024-09-06T10:49:33.015Z"
   },
   {
    "duration": 166,
    "start_time": "2024-09-06T10:50:41.170Z"
   },
   {
    "duration": 139,
    "start_time": "2024-09-06T10:50:47.877Z"
   },
   {
    "duration": 136,
    "start_time": "2024-09-06T10:50:54.927Z"
   },
   {
    "duration": 142,
    "start_time": "2024-09-06T10:51:01.905Z"
   },
   {
    "duration": 154,
    "start_time": "2024-09-06T10:51:55.791Z"
   },
   {
    "duration": 130,
    "start_time": "2024-09-06T10:52:07.753Z"
   },
   {
    "duration": 149,
    "start_time": "2024-09-06T10:58:26.364Z"
   },
   {
    "duration": 280,
    "start_time": "2024-09-06T10:59:33.582Z"
   },
   {
    "duration": 146,
    "start_time": "2024-09-06T10:59:44.605Z"
   },
   {
    "duration": 13,
    "start_time": "2024-09-06T11:22:47.089Z"
   },
   {
    "duration": 13,
    "start_time": "2024-09-06T11:24:29.607Z"
   },
   {
    "duration": 10,
    "start_time": "2024-09-06T11:27:39.235Z"
   },
   {
    "duration": 14,
    "start_time": "2024-09-06T11:28:04.854Z"
   },
   {
    "duration": 154,
    "start_time": "2024-09-06T11:29:17.192Z"
   },
   {
    "duration": 160,
    "start_time": "2024-09-06T11:31:12.144Z"
   },
   {
    "duration": 129,
    "start_time": "2024-09-06T11:32:57.544Z"
   },
   {
    "duration": 202,
    "start_time": "2024-09-06T11:35:50.487Z"
   },
   {
    "duration": 25,
    "start_time": "2024-09-06T11:37:14.218Z"
   },
   {
    "duration": 15,
    "start_time": "2024-09-06T11:37:29.136Z"
   },
   {
    "duration": 232,
    "start_time": "2024-09-06T11:38:15.123Z"
   },
   {
    "duration": 193,
    "start_time": "2024-09-06T11:38:49.181Z"
   },
   {
    "duration": 47,
    "start_time": "2024-09-06T11:39:51.592Z"
   },
   {
    "duration": 138,
    "start_time": "2024-09-06T11:42:19.831Z"
   },
   {
    "duration": 66,
    "start_time": "2024-09-06T17:55:38.619Z"
   },
   {
    "duration": 334,
    "start_time": "2024-09-06T17:59:40.222Z"
   },
   {
    "duration": 18,
    "start_time": "2024-09-06T18:15:31.410Z"
   },
   {
    "duration": 16,
    "start_time": "2024-09-06T18:15:34.242Z"
   },
   {
    "duration": 3,
    "start_time": "2024-09-06T18:28:00.347Z"
   },
   {
    "duration": 5,
    "start_time": "2024-09-06T18:28:12.031Z"
   },
   {
    "duration": 4,
    "start_time": "2024-09-06T18:28:20.245Z"
   },
   {
    "duration": 448,
    "start_time": "2024-09-06T18:40:41.579Z"
   },
   {
    "duration": 54,
    "start_time": "2024-09-06T18:41:38.667Z"
   },
   {
    "duration": 41,
    "start_time": "2024-09-06T18:42:46.625Z"
   },
   {
    "duration": 6,
    "start_time": "2024-09-06T18:45:30.622Z"
   },
   {
    "duration": 7,
    "start_time": "2024-09-06T18:45:56.323Z"
   },
   {
    "duration": 10,
    "start_time": "2024-09-06T18:48:22.851Z"
   },
   {
    "duration": 4,
    "start_time": "2024-09-06T18:48:33.324Z"
   },
   {
    "duration": 9,
    "start_time": "2024-09-06T19:06:55.795Z"
   },
   {
    "duration": 9,
    "start_time": "2024-09-06T19:07:06.295Z"
   },
   {
    "duration": 20,
    "start_time": "2024-09-06T19:08:06.846Z"
   },
   {
    "duration": 9,
    "start_time": "2024-09-06T19:09:50.667Z"
   },
   {
    "duration": 11,
    "start_time": "2024-09-06T19:10:04.289Z"
   },
   {
    "duration": 10,
    "start_time": "2024-09-06T19:12:00.105Z"
   },
   {
    "duration": 8,
    "start_time": "2024-09-06T19:12:18.258Z"
   },
   {
    "duration": 8,
    "start_time": "2024-09-06T19:13:08.869Z"
   },
   {
    "duration": 17,
    "start_time": "2024-09-06T19:21:59.034Z"
   },
   {
    "duration": 185,
    "start_time": "2024-09-06T19:22:14.695Z"
   },
   {
    "duration": 7,
    "start_time": "2024-09-06T19:32:02.871Z"
   },
   {
    "duration": 5,
    "start_time": "2024-09-06T19:32:16.018Z"
   },
   {
    "duration": 469,
    "start_time": "2024-09-06T19:33:21.891Z"
   },
   {
    "duration": 125,
    "start_time": "2024-09-06T19:33:49.531Z"
   },
   {
    "duration": 22,
    "start_time": "2024-09-06T19:34:05.191Z"
   },
   {
    "duration": 27,
    "start_time": "2024-09-06T19:34:55.629Z"
   },
   {
    "duration": 54,
    "start_time": "2024-09-06T19:36:57.032Z"
   },
   {
    "duration": 52,
    "start_time": "2024-09-06T19:38:15.246Z"
   },
   {
    "duration": 60,
    "start_time": "2024-09-06T19:38:53.439Z"
   },
   {
    "duration": 11,
    "start_time": "2024-09-06T19:39:18.431Z"
   },
   {
    "duration": 556,
    "start_time": "2024-09-06T19:39:48.292Z"
   },
   {
    "duration": 3,
    "start_time": "2024-09-06T19:40:35.531Z"
   },
   {
    "duration": 167,
    "start_time": "2024-09-06T19:40:35.536Z"
   },
   {
    "duration": 9,
    "start_time": "2024-09-06T19:40:35.705Z"
   },
   {
    "duration": 7,
    "start_time": "2024-09-06T19:40:35.715Z"
   },
   {
    "duration": 9,
    "start_time": "2024-09-06T19:40:35.731Z"
   },
   {
    "duration": 10,
    "start_time": "2024-09-06T19:40:35.741Z"
   },
   {
    "duration": 6,
    "start_time": "2024-09-06T19:40:35.752Z"
   },
   {
    "duration": 7,
    "start_time": "2024-09-06T19:40:35.760Z"
   },
   {
    "duration": 4,
    "start_time": "2024-09-06T19:40:35.769Z"
   },
   {
    "duration": 16,
    "start_time": "2024-09-06T19:40:35.775Z"
   },
   {
    "duration": 11,
    "start_time": "2024-09-06T19:40:35.830Z"
   },
   {
    "duration": 19,
    "start_time": "2024-09-06T19:40:35.843Z"
   },
   {
    "duration": 12,
    "start_time": "2024-09-06T19:40:35.864Z"
   },
   {
    "duration": 8,
    "start_time": "2024-09-06T19:40:35.877Z"
   },
   {
    "duration": 44,
    "start_time": "2024-09-06T19:40:35.887Z"
   },
   {
    "duration": 14,
    "start_time": "2024-09-06T19:40:35.933Z"
   },
   {
    "duration": 10,
    "start_time": "2024-09-06T19:40:35.949Z"
   },
   {
    "duration": 15,
    "start_time": "2024-09-06T19:40:35.961Z"
   },
   {
    "duration": 6,
    "start_time": "2024-09-06T19:40:35.978Z"
   },
   {
    "duration": 51,
    "start_time": "2024-09-06T19:40:35.986Z"
   },
   {
    "duration": 23,
    "start_time": "2024-09-06T19:40:36.039Z"
   },
   {
    "duration": 17,
    "start_time": "2024-09-06T19:40:36.064Z"
   },
   {
    "duration": 19,
    "start_time": "2024-09-06T19:40:36.083Z"
   },
   {
    "duration": 46,
    "start_time": "2024-09-06T19:40:36.104Z"
   },
   {
    "duration": 23,
    "start_time": "2024-09-06T19:40:36.151Z"
   },
   {
    "duration": 16,
    "start_time": "2024-09-06T19:40:36.175Z"
   },
   {
    "duration": 43,
    "start_time": "2024-09-06T19:40:36.193Z"
   },
   {
    "duration": 170,
    "start_time": "2024-09-06T19:40:36.238Z"
   },
   {
    "duration": 348,
    "start_time": "2024-09-06T19:40:36.413Z"
   },
   {
    "duration": 16,
    "start_time": "2024-09-06T19:40:36.763Z"
   },
   {
    "duration": 15,
    "start_time": "2024-09-06T19:40:49.332Z"
   },
   {
    "duration": 50,
    "start_time": "2024-09-06T19:41:55.840Z"
   },
   {
    "duration": 555,
    "start_time": "2024-09-06T19:42:05.569Z"
   },
   {
    "duration": 521,
    "start_time": "2024-09-06T19:43:17.145Z"
   },
   {
    "duration": 14,
    "start_time": "2024-09-06T19:52:21.235Z"
   },
   {
    "duration": 16,
    "start_time": "2024-09-06T19:52:29.842Z"
   },
   {
    "duration": 192,
    "start_time": "2024-09-06T19:53:26.592Z"
   },
   {
    "duration": 163,
    "start_time": "2024-09-06T19:54:49.122Z"
   },
   {
    "duration": 163,
    "start_time": "2024-09-06T19:55:02.816Z"
   },
   {
    "duration": 169,
    "start_time": "2024-09-06T19:55:13.848Z"
   },
   {
    "duration": 353,
    "start_time": "2024-09-06T19:55:20.963Z"
   },
   {
    "duration": 158,
    "start_time": "2024-09-06T19:55:30.424Z"
   },
   {
    "duration": 17,
    "start_time": "2024-09-06T20:00:08.449Z"
   },
   {
    "duration": 156,
    "start_time": "2024-09-06T20:01:06.295Z"
   },
   {
    "duration": 176,
    "start_time": "2024-09-06T20:01:33.044Z"
   },
   {
    "duration": 5,
    "start_time": "2024-09-06T20:02:37.359Z"
   },
   {
    "duration": 163,
    "start_time": "2024-09-06T20:04:16.996Z"
   },
   {
    "duration": 335,
    "start_time": "2024-09-06T20:06:03.522Z"
   },
   {
    "duration": 179,
    "start_time": "2024-09-06T20:06:58.347Z"
   },
   {
    "duration": 7,
    "start_time": "2024-09-06T20:07:05.783Z"
   },
   {
    "duration": 165,
    "start_time": "2024-09-06T20:10:34.364Z"
   },
   {
    "duration": 2498,
    "start_time": "2024-09-07T09:47:55.629Z"
   },
   {
    "duration": 250,
    "start_time": "2024-09-07T09:47:58.130Z"
   },
   {
    "duration": 9,
    "start_time": "2024-09-07T09:47:58.382Z"
   },
   {
    "duration": 9,
    "start_time": "2024-09-07T09:47:58.394Z"
   },
   {
    "duration": 8,
    "start_time": "2024-09-07T09:47:58.404Z"
   },
   {
    "duration": 9,
    "start_time": "2024-09-07T09:47:58.414Z"
   },
   {
    "duration": 6,
    "start_time": "2024-09-07T09:47:58.424Z"
   },
   {
    "duration": 6,
    "start_time": "2024-09-07T09:47:58.432Z"
   },
   {
    "duration": 5,
    "start_time": "2024-09-07T09:47:58.440Z"
   },
   {
    "duration": 15,
    "start_time": "2024-09-07T09:47:58.449Z"
   },
   {
    "duration": 9,
    "start_time": "2024-09-07T09:47:58.466Z"
   },
   {
    "duration": 51,
    "start_time": "2024-09-07T09:47:58.477Z"
   },
   {
    "duration": 11,
    "start_time": "2024-09-07T09:47:58.530Z"
   },
   {
    "duration": 8,
    "start_time": "2024-09-07T09:47:58.542Z"
   },
   {
    "duration": 13,
    "start_time": "2024-09-07T09:47:58.551Z"
   },
   {
    "duration": 14,
    "start_time": "2024-09-07T09:47:58.565Z"
   },
   {
    "duration": 44,
    "start_time": "2024-09-07T09:47:58.580Z"
   },
   {
    "duration": 14,
    "start_time": "2024-09-07T09:47:58.626Z"
   },
   {
    "duration": 6,
    "start_time": "2024-09-07T09:47:58.642Z"
   },
   {
    "duration": 24,
    "start_time": "2024-09-07T09:47:58.650Z"
   },
   {
    "duration": 24,
    "start_time": "2024-09-07T09:47:58.676Z"
   },
   {
    "duration": 17,
    "start_time": "2024-09-07T09:47:58.725Z"
   },
   {
    "duration": 19,
    "start_time": "2024-09-07T09:47:58.744Z"
   },
   {
    "duration": 20,
    "start_time": "2024-09-07T09:47:58.764Z"
   },
   {
    "duration": 45,
    "start_time": "2024-09-07T09:47:58.785Z"
   },
   {
    "duration": 13,
    "start_time": "2024-09-07T09:47:58.831Z"
   },
   {
    "duration": 188,
    "start_time": "2024-09-07T09:47:58.846Z"
   },
   {
    "duration": 360,
    "start_time": "2024-09-07T09:47:59.037Z"
   },
   {
    "duration": 8,
    "start_time": "2024-09-07T09:47:59.398Z"
   },
   {
    "duration": 588,
    "start_time": "2024-09-07T09:47:59.407Z"
   },
   {
    "duration": 162,
    "start_time": "2024-09-07T09:47:59.996Z"
   },
   {
    "duration": 167,
    "start_time": "2024-09-07T09:48:00.159Z"
   },
   {
    "duration": 3,
    "start_time": "2024-09-07T09:48:00.328Z"
   },
   {
    "duration": 2,
    "start_time": "2024-09-07T09:48:00.333Z"
   },
   {
    "duration": 167,
    "start_time": "2024-09-07T09:48:51.451Z"
   },
   {
    "duration": 159,
    "start_time": "2024-09-07T09:49:20.694Z"
   },
   {
    "duration": 16,
    "start_time": "2024-09-07T10:10:31.400Z"
   },
   {
    "duration": 25725,
    "start_time": "2024-09-07T10:11:35.483Z"
   },
   {
    "duration": 179,
    "start_time": "2024-09-07T10:19:45.506Z"
   },
   {
    "duration": 46,
    "start_time": "2024-09-07T10:21:45.695Z"
   },
   {
    "duration": 13478,
    "start_time": "2024-09-07T10:24:22.759Z"
   },
   {
    "duration": 13353,
    "start_time": "2024-09-07T10:25:00.471Z"
   },
   {
    "duration": 13103,
    "start_time": "2024-09-07T10:27:38.823Z"
   },
   {
    "duration": 13115,
    "start_time": "2024-09-07T10:27:52.950Z"
   },
   {
    "duration": 3880,
    "start_time": "2024-09-07T10:29:07.901Z"
   },
   {
    "duration": 9,
    "start_time": "2024-09-07T10:34:29.732Z"
   },
   {
    "duration": 7,
    "start_time": "2024-09-07T10:36:29.353Z"
   },
   {
    "duration": 8,
    "start_time": "2024-09-07T10:37:26.797Z"
   },
   {
    "duration": 8,
    "start_time": "2024-09-07T10:37:38.532Z"
   },
   {
    "duration": 26,
    "start_time": "2024-09-07T10:42:55.739Z"
   },
   {
    "duration": 14,
    "start_time": "2024-09-07T13:46:06.807Z"
   },
   {
    "duration": 15,
    "start_time": "2024-09-07T13:46:14.606Z"
   },
   {
    "duration": 14,
    "start_time": "2024-09-07T13:46:38.873Z"
   },
   {
    "duration": 18,
    "start_time": "2024-09-07T13:47:23.680Z"
   },
   {
    "duration": 244,
    "start_time": "2024-09-07T13:50:41.849Z"
   },
   {
    "duration": 12,
    "start_time": "2024-09-07T13:51:10.612Z"
   },
   {
    "duration": 16,
    "start_time": "2024-09-07T13:54:08.835Z"
   },
   {
    "duration": 15,
    "start_time": "2024-09-07T13:54:48.830Z"
   },
   {
    "duration": 15,
    "start_time": "2024-09-07T13:58:25.334Z"
   },
   {
    "duration": 13,
    "start_time": "2024-09-07T13:58:41.340Z"
   },
   {
    "duration": 15,
    "start_time": "2024-09-07T14:00:48.285Z"
   },
   {
    "duration": 16,
    "start_time": "2024-09-07T14:01:25.106Z"
   },
   {
    "duration": 19,
    "start_time": "2024-09-07T14:04:50.756Z"
   },
   {
    "duration": 162,
    "start_time": "2024-09-07T14:19:07.879Z"
   },
   {
    "duration": 9,
    "start_time": "2024-09-07T14:19:09.782Z"
   },
   {
    "duration": 7,
    "start_time": "2024-09-07T14:19:14.404Z"
   },
   {
    "duration": 8,
    "start_time": "2024-09-07T14:19:33.126Z"
   },
   {
    "duration": 9,
    "start_time": "2024-09-07T14:19:35.799Z"
   },
   {
    "duration": 9,
    "start_time": "2024-09-07T14:20:10.294Z"
   },
   {
    "duration": 6,
    "start_time": "2024-09-07T14:20:45.190Z"
   },
   {
    "duration": 9,
    "start_time": "2024-09-07T14:21:00.925Z"
   },
   {
    "duration": 8,
    "start_time": "2024-09-07T14:21:10.417Z"
   },
   {
    "duration": 6,
    "start_time": "2024-09-07T14:21:23.639Z"
   },
   {
    "duration": 7,
    "start_time": "2024-09-07T14:21:26.246Z"
   },
   {
    "duration": 5,
    "start_time": "2024-09-07T14:21:32.927Z"
   },
   {
    "duration": 15,
    "start_time": "2024-09-07T14:21:42.925Z"
   },
   {
    "duration": 8,
    "start_time": "2024-09-07T14:23:47.395Z"
   },
   {
    "duration": 10,
    "start_time": "2024-09-07T14:24:49.250Z"
   },
   {
    "duration": 142,
    "start_time": "2024-09-07T14:26:17.966Z"
   },
   {
    "duration": 8,
    "start_time": "2024-09-07T14:30:55.263Z"
   },
   {
    "duration": 10,
    "start_time": "2024-09-07T14:31:01.913Z"
   },
   {
    "duration": 5,
    "start_time": "2024-09-07T15:15:59.515Z"
   },
   {
    "duration": 5,
    "start_time": "2024-09-07T15:16:47.997Z"
   },
   {
    "duration": 15,
    "start_time": "2024-09-07T15:17:54.687Z"
   },
   {
    "duration": 11,
    "start_time": "2024-09-07T15:18:09.629Z"
   },
   {
    "duration": 3,
    "start_time": "2024-09-07T16:37:03.893Z"
   },
   {
    "duration": 149,
    "start_time": "2024-09-07T16:37:03.898Z"
   },
   {
    "duration": 8,
    "start_time": "2024-09-07T16:37:04.051Z"
   },
   {
    "duration": 9,
    "start_time": "2024-09-07T16:37:07.921Z"
   },
   {
    "duration": 3,
    "start_time": "2024-09-07T16:40:08.429Z"
   },
   {
    "duration": 143,
    "start_time": "2024-09-07T16:40:08.434Z"
   },
   {
    "duration": 7,
    "start_time": "2024-09-07T16:40:08.579Z"
   },
   {
    "duration": 7,
    "start_time": "2024-09-07T16:40:08.588Z"
   },
   {
    "duration": 4,
    "start_time": "2024-09-07T16:40:08.597Z"
   },
   {
    "duration": 4,
    "start_time": "2024-09-07T16:40:08.602Z"
   },
   {
    "duration": 23,
    "start_time": "2024-09-07T16:40:08.607Z"
   },
   {
    "duration": 7,
    "start_time": "2024-09-07T16:40:08.632Z"
   },
   {
    "duration": 7,
    "start_time": "2024-09-07T16:40:08.640Z"
   },
   {
    "duration": 5,
    "start_time": "2024-09-07T16:40:08.650Z"
   },
   {
    "duration": 6,
    "start_time": "2024-09-07T16:40:23.648Z"
   },
   {
    "duration": 6,
    "start_time": "2024-09-07T16:40:30.618Z"
   },
   {
    "duration": 12,
    "start_time": "2024-09-07T16:41:39.773Z"
   },
   {
    "duration": 6,
    "start_time": "2024-09-07T16:43:16.607Z"
   },
   {
    "duration": 6,
    "start_time": "2024-09-07T16:45:03.842Z"
   },
   {
    "duration": 709,
    "start_time": "2024-09-07T16:46:49.468Z"
   },
   {
    "duration": 3,
    "start_time": "2024-09-07T16:50:02.476Z"
   },
   {
    "duration": 137,
    "start_time": "2024-09-07T16:50:02.481Z"
   },
   {
    "duration": 8,
    "start_time": "2024-09-07T16:50:02.620Z"
   },
   {
    "duration": 6,
    "start_time": "2024-09-07T16:50:02.630Z"
   },
   {
    "duration": 3,
    "start_time": "2024-09-07T16:50:02.639Z"
   },
   {
    "duration": 5,
    "start_time": "2024-09-07T16:50:02.644Z"
   },
   {
    "duration": 8,
    "start_time": "2024-09-07T16:50:02.651Z"
   },
   {
    "duration": 8,
    "start_time": "2024-09-07T16:50:02.661Z"
   },
   {
    "duration": 5,
    "start_time": "2024-09-07T16:50:02.671Z"
   },
   {
    "duration": 5,
    "start_time": "2024-09-07T16:50:02.678Z"
   },
   {
    "duration": 6,
    "start_time": "2024-09-07T16:50:02.725Z"
   },
   {
    "duration": 17,
    "start_time": "2024-09-07T16:50:02.733Z"
   },
   {
    "duration": 7,
    "start_time": "2024-09-07T16:50:02.752Z"
   },
   {
    "duration": 17,
    "start_time": "2024-09-07T16:50:02.760Z"
   },
   {
    "duration": 9,
    "start_time": "2024-09-07T16:50:05.619Z"
   },
   {
    "duration": 6,
    "start_time": "2024-09-07T16:51:44.270Z"
   },
   {
    "duration": 9,
    "start_time": "2024-09-07T17:13:54.082Z"
   },
   {
    "duration": 6,
    "start_time": "2024-09-07T17:14:03.757Z"
   },
   {
    "duration": 3,
    "start_time": "2024-09-07T17:14:13.068Z"
   },
   {
    "duration": 144,
    "start_time": "2024-09-07T17:14:13.073Z"
   },
   {
    "duration": 9,
    "start_time": "2024-09-07T17:14:13.219Z"
   },
   {
    "duration": 7,
    "start_time": "2024-09-07T17:14:13.229Z"
   },
   {
    "duration": 3,
    "start_time": "2024-09-07T17:14:13.238Z"
   },
   {
    "duration": 3,
    "start_time": "2024-09-07T17:14:13.243Z"
   },
   {
    "duration": 7,
    "start_time": "2024-09-07T17:14:13.248Z"
   },
   {
    "duration": 7,
    "start_time": "2024-09-07T17:14:13.257Z"
   },
   {
    "duration": 5,
    "start_time": "2024-09-07T17:14:13.265Z"
   },
   {
    "duration": 5,
    "start_time": "2024-09-07T17:14:13.272Z"
   },
   {
    "duration": 46,
    "start_time": "2024-09-07T17:14:13.280Z"
   },
   {
    "duration": 15,
    "start_time": "2024-09-07T17:14:13.327Z"
   },
   {
    "duration": 6,
    "start_time": "2024-09-07T17:14:13.343Z"
   },
   {
    "duration": 16,
    "start_time": "2024-09-07T17:14:13.351Z"
   },
   {
    "duration": 10,
    "start_time": "2024-09-07T17:14:13.369Z"
   },
   {
    "duration": 11,
    "start_time": "2024-09-07T17:14:13.382Z"
   },
   {
    "duration": 5,
    "start_time": "2024-09-07T17:14:13.425Z"
   },
   {
    "duration": 12,
    "start_time": "2024-09-07T17:14:13.432Z"
   },
   {
    "duration": 234,
    "start_time": "2024-09-07T17:14:13.445Z"
   },
   {
    "duration": 0,
    "start_time": "2024-09-07T17:14:13.681Z"
   },
   {
    "duration": 0,
    "start_time": "2024-09-07T17:14:13.683Z"
   },
   {
    "duration": 7,
    "start_time": "2024-09-07T17:17:08.490Z"
   },
   {
    "duration": 3,
    "start_time": "2024-09-07T17:19:24.205Z"
   },
   {
    "duration": 150,
    "start_time": "2024-09-07T17:19:24.210Z"
   },
   {
    "duration": 8,
    "start_time": "2024-09-07T17:19:24.362Z"
   },
   {
    "duration": 7,
    "start_time": "2024-09-07T17:19:24.372Z"
   },
   {
    "duration": 3,
    "start_time": "2024-09-07T17:19:24.382Z"
   },
   {
    "duration": 5,
    "start_time": "2024-09-07T17:19:24.387Z"
   },
   {
    "duration": 8,
    "start_time": "2024-09-07T17:19:24.393Z"
   },
   {
    "duration": 28,
    "start_time": "2024-09-07T17:19:24.403Z"
   },
   {
    "duration": 7,
    "start_time": "2024-09-07T17:19:24.432Z"
   },
   {
    "duration": 6,
    "start_time": "2024-09-07T17:19:24.440Z"
   },
   {
    "duration": 6,
    "start_time": "2024-09-07T17:19:24.448Z"
   },
   {
    "duration": 15,
    "start_time": "2024-09-07T17:19:24.456Z"
   },
   {
    "duration": 7,
    "start_time": "2024-09-07T17:19:24.472Z"
   },
   {
    "duration": 49,
    "start_time": "2024-09-07T17:19:24.481Z"
   },
   {
    "duration": 8,
    "start_time": "2024-09-07T17:19:24.531Z"
   },
   {
    "duration": 11,
    "start_time": "2024-09-07T17:19:24.540Z"
   },
   {
    "duration": 6,
    "start_time": "2024-09-07T17:19:24.552Z"
   },
   {
    "duration": 11,
    "start_time": "2024-09-07T17:19:24.560Z"
   },
   {
    "duration": 6,
    "start_time": "2024-09-07T17:19:24.573Z"
   },
   {
    "duration": 49,
    "start_time": "2024-09-07T17:19:24.581Z"
   },
   {
    "duration": 7,
    "start_time": "2024-09-07T17:19:24.631Z"
   },
   {
    "duration": 19,
    "start_time": "2024-09-07T17:19:24.639Z"
   },
   {
    "duration": 8,
    "start_time": "2024-09-07T19:54:31.730Z"
   },
   {
    "duration": 18,
    "start_time": "2024-09-07T19:56:14.606Z"
   },
   {
    "duration": 14,
    "start_time": "2024-09-07T19:58:00.925Z"
   },
   {
    "duration": 10,
    "start_time": "2024-09-07T20:06:42.373Z"
   },
   {
    "duration": 12,
    "start_time": "2024-09-07T20:07:05.749Z"
   },
   {
    "duration": 46,
    "start_time": "2024-09-07T20:08:19.267Z"
   },
   {
    "duration": 10,
    "start_time": "2024-09-07T20:08:41.040Z"
   },
   {
    "duration": 4,
    "start_time": "2024-09-07T20:09:11.130Z"
   },
   {
    "duration": 18,
    "start_time": "2024-09-07T20:09:23.875Z"
   },
   {
    "duration": 152,
    "start_time": "2024-09-07T20:09:31.670Z"
   },
   {
    "duration": 9,
    "start_time": "2024-09-07T20:09:52.692Z"
   },
   {
    "duration": 13,
    "start_time": "2024-09-07T20:29:47.110Z"
   },
   {
    "duration": 41,
    "start_time": "2024-09-07T20:30:05.593Z"
   },
   {
    "duration": 14,
    "start_time": "2024-09-07T20:30:37.909Z"
   },
   {
    "duration": 3,
    "start_time": "2024-09-07T20:30:48.512Z"
   },
   {
    "duration": 152,
    "start_time": "2024-09-07T20:30:48.517Z"
   },
   {
    "duration": 8,
    "start_time": "2024-09-07T20:30:48.671Z"
   },
   {
    "duration": 9,
    "start_time": "2024-09-07T20:30:48.680Z"
   },
   {
    "duration": 4,
    "start_time": "2024-09-07T20:30:48.690Z"
   },
   {
    "duration": 3,
    "start_time": "2024-09-07T20:30:48.695Z"
   },
   {
    "duration": 27,
    "start_time": "2024-09-07T20:30:48.700Z"
   },
   {
    "duration": 7,
    "start_time": "2024-09-07T20:30:48.729Z"
   },
   {
    "duration": 5,
    "start_time": "2024-09-07T20:30:48.738Z"
   },
   {
    "duration": 6,
    "start_time": "2024-09-07T20:30:48.745Z"
   },
   {
    "duration": 5,
    "start_time": "2024-09-07T20:30:48.755Z"
   },
   {
    "duration": 14,
    "start_time": "2024-09-07T20:30:48.762Z"
   },
   {
    "duration": 46,
    "start_time": "2024-09-07T20:30:48.778Z"
   },
   {
    "duration": 17,
    "start_time": "2024-09-07T20:30:48.825Z"
   },
   {
    "duration": 9,
    "start_time": "2024-09-07T20:30:48.843Z"
   },
   {
    "duration": 11,
    "start_time": "2024-09-07T20:30:48.853Z"
   },
   {
    "duration": 5,
    "start_time": "2024-09-07T20:30:48.866Z"
   },
   {
    "duration": 12,
    "start_time": "2024-09-07T20:30:48.873Z"
   },
   {
    "duration": 6,
    "start_time": "2024-09-07T20:30:48.886Z"
   },
   {
    "duration": 13,
    "start_time": "2024-09-07T20:30:48.924Z"
   },
   {
    "duration": 6,
    "start_time": "2024-09-07T20:30:48.938Z"
   },
   {
    "duration": 27,
    "start_time": "2024-09-07T20:30:48.946Z"
   },
   {
    "duration": 26,
    "start_time": "2024-09-07T20:30:52.317Z"
   },
   {
    "duration": 813,
    "start_time": "2024-09-07T20:33:13.276Z"
   },
   {
    "duration": 161,
    "start_time": "2024-09-07T20:33:14.091Z"
   },
   {
    "duration": 12,
    "start_time": "2024-09-07T20:33:14.253Z"
   },
   {
    "duration": 9,
    "start_time": "2024-09-07T20:33:14.266Z"
   },
   {
    "duration": 3,
    "start_time": "2024-09-07T20:33:14.277Z"
   },
   {
    "duration": 3,
    "start_time": "2024-09-07T20:33:14.282Z"
   },
   {
    "duration": 14,
    "start_time": "2024-09-07T20:33:14.287Z"
   },
   {
    "duration": 25,
    "start_time": "2024-09-07T20:33:14.303Z"
   },
   {
    "duration": 6,
    "start_time": "2024-09-07T20:33:14.329Z"
   },
   {
    "duration": 5,
    "start_time": "2024-09-07T20:33:14.337Z"
   },
   {
    "duration": 5,
    "start_time": "2024-09-07T20:33:14.344Z"
   },
   {
    "duration": 15,
    "start_time": "2024-09-07T20:33:14.350Z"
   },
   {
    "duration": 6,
    "start_time": "2024-09-07T20:33:14.366Z"
   },
   {
    "duration": 55,
    "start_time": "2024-09-07T20:33:14.374Z"
   },
   {
    "duration": 8,
    "start_time": "2024-09-07T20:33:14.430Z"
   },
   {
    "duration": 11,
    "start_time": "2024-09-07T20:33:14.440Z"
   },
   {
    "duration": 5,
    "start_time": "2024-09-07T20:33:14.453Z"
   },
   {
    "duration": 12,
    "start_time": "2024-09-07T20:33:14.460Z"
   },
   {
    "duration": 6,
    "start_time": "2024-09-07T20:33:14.474Z"
   },
   {
    "duration": 46,
    "start_time": "2024-09-07T20:33:14.481Z"
   },
   {
    "duration": 7,
    "start_time": "2024-09-07T20:33:14.528Z"
   },
   {
    "duration": 509,
    "start_time": "2024-09-07T20:33:19.257Z"
   },
   {
    "duration": 20,
    "start_time": "2024-09-07T20:35:52.484Z"
   },
   {
    "duration": 7,
    "start_time": "2024-09-07T20:36:10.833Z"
   },
   {
    "duration": 17,
    "start_time": "2024-09-07T20:36:39.706Z"
   },
   {
    "duration": 7,
    "start_time": "2024-09-07T20:36:54.265Z"
   },
   {
    "duration": 13,
    "start_time": "2024-09-07T20:37:09.816Z"
   },
   {
    "duration": 6,
    "start_time": "2024-09-07T20:37:20.329Z"
   },
   {
    "duration": 6,
    "start_time": "2024-09-07T20:37:48.586Z"
   },
   {
    "duration": 4,
    "start_time": "2024-09-07T20:41:28.341Z"
   },
   {
    "duration": 6,
    "start_time": "2024-09-07T20:41:31.435Z"
   },
   {
    "duration": 9,
    "start_time": "2024-09-07T20:41:45.482Z"
   },
   {
    "duration": 350,
    "start_time": "2024-09-07T20:44:02.469Z"
   },
   {
    "duration": 128,
    "start_time": "2024-09-07T20:45:24.942Z"
   },
   {
    "duration": 5,
    "start_time": "2024-09-07T20:46:06.783Z"
   },
   {
    "duration": 7,
    "start_time": "2024-09-07T20:47:12.813Z"
   },
   {
    "duration": 7,
    "start_time": "2024-09-07T20:47:53.017Z"
   },
   {
    "duration": 11,
    "start_time": "2024-09-07T20:48:06.386Z"
   },
   {
    "duration": 2,
    "start_time": "2024-09-07T20:48:28.101Z"
   },
   {
    "duration": 164,
    "start_time": "2024-09-07T20:48:28.105Z"
   },
   {
    "duration": 8,
    "start_time": "2024-09-07T20:48:28.271Z"
   },
   {
    "duration": 8,
    "start_time": "2024-09-07T20:48:28.280Z"
   },
   {
    "duration": 3,
    "start_time": "2024-09-07T20:48:28.290Z"
   },
   {
    "duration": 3,
    "start_time": "2024-09-07T20:48:28.296Z"
   },
   {
    "duration": 28,
    "start_time": "2024-09-07T20:48:28.301Z"
   },
   {
    "duration": 8,
    "start_time": "2024-09-07T20:48:28.330Z"
   },
   {
    "duration": 5,
    "start_time": "2024-09-07T20:48:28.340Z"
   },
   {
    "duration": 6,
    "start_time": "2024-09-07T20:48:28.346Z"
   },
   {
    "duration": 5,
    "start_time": "2024-09-07T20:48:28.355Z"
   },
   {
    "duration": 15,
    "start_time": "2024-09-07T20:48:28.361Z"
   },
   {
    "duration": 7,
    "start_time": "2024-09-07T20:48:28.377Z"
   },
   {
    "duration": 18,
    "start_time": "2024-09-07T20:48:28.424Z"
   },
   {
    "duration": 8,
    "start_time": "2024-09-07T20:48:28.444Z"
   },
   {
    "duration": 11,
    "start_time": "2024-09-07T20:48:28.454Z"
   },
   {
    "duration": 6,
    "start_time": "2024-09-07T20:48:28.466Z"
   },
   {
    "duration": 11,
    "start_time": "2024-09-07T20:48:28.474Z"
   },
   {
    "duration": 38,
    "start_time": "2024-09-07T20:48:28.486Z"
   },
   {
    "duration": 12,
    "start_time": "2024-09-07T20:48:28.526Z"
   },
   {
    "duration": 6,
    "start_time": "2024-09-07T20:48:28.540Z"
   },
   {
    "duration": 16,
    "start_time": "2024-09-07T20:48:28.547Z"
   },
   {
    "duration": 3,
    "start_time": "2024-09-07T20:48:28.565Z"
   },
   {
    "duration": 8,
    "start_time": "2024-09-07T20:48:28.570Z"
   },
   {
    "duration": 51,
    "start_time": "2024-09-07T20:48:28.580Z"
   },
   {
    "duration": 17,
    "start_time": "2024-09-07T20:48:28.632Z"
   },
   {
    "duration": 13,
    "start_time": "2024-09-07T20:48:28.651Z"
   },
   {
    "duration": 12,
    "start_time": "2024-09-07T20:48:28.665Z"
   },
   {
    "duration": 16,
    "start_time": "2024-09-07T20:48:49.737Z"
   },
   {
    "duration": 25,
    "start_time": "2024-09-07T20:49:28.552Z"
   },
   {
    "duration": 19,
    "start_time": "2024-09-07T20:49:53.627Z"
   },
   {
    "duration": 25,
    "start_time": "2024-09-07T20:51:06.358Z"
   },
   {
    "duration": 3,
    "start_time": "2024-09-07T20:51:35.716Z"
   },
   {
    "duration": 158,
    "start_time": "2024-09-07T20:51:35.721Z"
   },
   {
    "duration": 9,
    "start_time": "2024-09-07T20:51:35.882Z"
   },
   {
    "duration": 7,
    "start_time": "2024-09-07T20:51:35.892Z"
   },
   {
    "duration": 22,
    "start_time": "2024-09-07T20:51:35.902Z"
   },
   {
    "duration": 3,
    "start_time": "2024-09-07T20:51:35.925Z"
   },
   {
    "duration": 8,
    "start_time": "2024-09-07T20:51:35.930Z"
   },
   {
    "duration": 8,
    "start_time": "2024-09-07T20:51:35.939Z"
   },
   {
    "duration": 6,
    "start_time": "2024-09-07T20:51:35.949Z"
   },
   {
    "duration": 6,
    "start_time": "2024-09-07T20:51:35.956Z"
   },
   {
    "duration": 5,
    "start_time": "2024-09-07T20:51:35.966Z"
   },
   {
    "duration": 51,
    "start_time": "2024-09-07T20:51:35.973Z"
   },
   {
    "duration": 6,
    "start_time": "2024-09-07T20:51:36.026Z"
   },
   {
    "duration": 18,
    "start_time": "2024-09-07T20:51:36.034Z"
   },
   {
    "duration": 8,
    "start_time": "2024-09-07T20:51:36.054Z"
   },
   {
    "duration": 11,
    "start_time": "2024-09-07T20:51:36.063Z"
   },
   {
    "duration": 6,
    "start_time": "2024-09-07T20:51:36.075Z"
   },
   {
    "duration": 44,
    "start_time": "2024-09-07T20:51:36.083Z"
   },
   {
    "duration": 6,
    "start_time": "2024-09-07T20:51:36.128Z"
   },
   {
    "duration": 13,
    "start_time": "2024-09-07T20:51:36.136Z"
   },
   {
    "duration": 6,
    "start_time": "2024-09-07T20:51:36.150Z"
   },
   {
    "duration": 16,
    "start_time": "2024-09-07T20:51:36.158Z"
   },
   {
    "duration": 3,
    "start_time": "2024-09-07T20:51:36.176Z"
   },
   {
    "duration": 8,
    "start_time": "2024-09-07T20:51:36.181Z"
   },
   {
    "duration": 22,
    "start_time": "2024-09-07T20:51:36.223Z"
   },
   {
    "duration": 17,
    "start_time": "2024-09-07T20:51:36.247Z"
   },
   {
    "duration": 13,
    "start_time": "2024-09-07T20:51:36.266Z"
   },
   {
    "duration": 12,
    "start_time": "2024-09-07T20:51:36.280Z"
   },
   {
    "duration": 14,
    "start_time": "2024-09-07T20:51:36.323Z"
   },
   {
    "duration": 24,
    "start_time": "2024-09-07T20:51:43.193Z"
   },
   {
    "duration": 2540,
    "start_time": "2024-09-08T13:17:58.001Z"
   },
   {
    "duration": 272,
    "start_time": "2024-09-08T13:18:00.543Z"
   },
   {
    "duration": 10,
    "start_time": "2024-09-08T13:18:00.816Z"
   },
   {
    "duration": 9,
    "start_time": "2024-09-08T13:18:00.828Z"
   },
   {
    "duration": 4,
    "start_time": "2024-09-08T13:18:00.838Z"
   },
   {
    "duration": 4,
    "start_time": "2024-09-08T13:18:00.843Z"
   },
   {
    "duration": 9,
    "start_time": "2024-09-08T13:18:00.848Z"
   },
   {
    "duration": 8,
    "start_time": "2024-09-08T13:18:00.858Z"
   },
   {
    "duration": 6,
    "start_time": "2024-09-08T13:18:00.868Z"
   },
   {
    "duration": 5,
    "start_time": "2024-09-08T13:18:00.877Z"
   },
   {
    "duration": 7,
    "start_time": "2024-09-08T13:18:00.883Z"
   },
   {
    "duration": 16,
    "start_time": "2024-09-08T13:18:00.931Z"
   },
   {
    "duration": 7,
    "start_time": "2024-09-08T13:18:00.948Z"
   },
   {
    "duration": 20,
    "start_time": "2024-09-08T13:18:00.957Z"
   },
   {
    "duration": 9,
    "start_time": "2024-09-08T13:18:00.978Z"
   },
   {
    "duration": 42,
    "start_time": "2024-09-08T13:18:00.989Z"
   },
   {
    "duration": 7,
    "start_time": "2024-09-08T13:18:01.033Z"
   },
   {
    "duration": 12,
    "start_time": "2024-09-08T13:18:01.041Z"
   },
   {
    "duration": 6,
    "start_time": "2024-09-08T13:18:01.055Z"
   },
   {
    "duration": 13,
    "start_time": "2024-09-08T13:18:01.063Z"
   },
   {
    "duration": 6,
    "start_time": "2024-09-08T13:18:01.078Z"
   },
   {
    "duration": 50,
    "start_time": "2024-09-08T13:18:01.085Z"
   },
   {
    "duration": 4,
    "start_time": "2024-09-08T13:18:01.137Z"
   },
   {
    "duration": 9,
    "start_time": "2024-09-08T13:18:01.142Z"
   },
   {
    "duration": 23,
    "start_time": "2024-09-08T13:18:01.153Z"
   },
   {
    "duration": 19,
    "start_time": "2024-09-08T13:18:01.179Z"
   },
   {
    "duration": 43,
    "start_time": "2024-09-08T13:18:01.199Z"
   },
   {
    "duration": 12,
    "start_time": "2024-09-08T13:18:01.246Z"
   },
   {
    "duration": 16,
    "start_time": "2024-09-08T13:18:01.259Z"
   },
   {
    "duration": 20,
    "start_time": "2024-09-08T13:21:02.726Z"
   },
   {
    "duration": 24,
    "start_time": "2024-09-08T13:21:46.473Z"
   },
   {
    "duration": 632,
    "start_time": "2024-09-08T13:22:44.592Z"
   },
   {
    "duration": 3,
    "start_time": "2024-09-08T13:24:12.327Z"
   },
   {
    "duration": 176,
    "start_time": "2024-09-08T13:24:12.332Z"
   },
   {
    "duration": 9,
    "start_time": "2024-09-08T13:24:12.510Z"
   },
   {
    "duration": 12,
    "start_time": "2024-09-08T13:24:12.520Z"
   },
   {
    "duration": 4,
    "start_time": "2024-09-08T13:24:12.535Z"
   },
   {
    "duration": 3,
    "start_time": "2024-09-08T13:24:12.541Z"
   },
   {
    "duration": 8,
    "start_time": "2024-09-08T13:24:12.546Z"
   },
   {
    "duration": 8,
    "start_time": "2024-09-08T13:24:12.556Z"
   },
   {
    "duration": 6,
    "start_time": "2024-09-08T13:24:12.566Z"
   },
   {
    "duration": 7,
    "start_time": "2024-09-08T13:24:12.574Z"
   },
   {
    "duration": 51,
    "start_time": "2024-09-08T13:24:12.584Z"
   },
   {
    "duration": 15,
    "start_time": "2024-09-08T13:24:12.638Z"
   },
   {
    "duration": 7,
    "start_time": "2024-09-08T13:24:12.654Z"
   },
   {
    "duration": 20,
    "start_time": "2024-09-08T13:24:12.662Z"
   },
   {
    "duration": 8,
    "start_time": "2024-09-08T13:24:12.683Z"
   },
   {
    "duration": 40,
    "start_time": "2024-09-08T13:24:12.693Z"
   },
   {
    "duration": 6,
    "start_time": "2024-09-08T13:24:12.735Z"
   },
   {
    "duration": 12,
    "start_time": "2024-09-08T13:24:12.743Z"
   },
   {
    "duration": 7,
    "start_time": "2024-09-08T13:24:12.757Z"
   },
   {
    "duration": 13,
    "start_time": "2024-09-08T13:24:12.766Z"
   },
   {
    "duration": 7,
    "start_time": "2024-09-08T13:24:12.780Z"
   },
   {
    "duration": 50,
    "start_time": "2024-09-08T13:24:12.788Z"
   },
   {
    "duration": 4,
    "start_time": "2024-09-08T13:24:12.839Z"
   },
   {
    "duration": 11,
    "start_time": "2024-09-08T13:24:12.845Z"
   },
   {
    "duration": 24,
    "start_time": "2024-09-08T13:24:12.858Z"
   },
   {
    "duration": 18,
    "start_time": "2024-09-08T13:24:12.884Z"
   },
   {
    "duration": 40,
    "start_time": "2024-09-08T13:24:12.903Z"
   },
   {
    "duration": 12,
    "start_time": "2024-09-08T13:24:12.945Z"
   },
   {
    "duration": 14,
    "start_time": "2024-09-08T13:24:12.960Z"
   },
   {
    "duration": 20,
    "start_time": "2024-09-08T13:24:12.976Z"
   },
   {
    "duration": 57,
    "start_time": "2024-09-08T13:24:12.997Z"
   },
   {
    "duration": 49,
    "start_time": "2024-09-08T13:24:16.455Z"
   },
   {
    "duration": 191,
    "start_time": "2024-09-08T13:24:59.250Z"
   },
   {
    "duration": 27,
    "start_time": "2024-09-08T13:25:17.814Z"
   },
   {
    "duration": 3,
    "start_time": "2024-09-08T13:25:33.072Z"
   },
   {
    "duration": 162,
    "start_time": "2024-09-08T13:25:33.088Z"
   },
   {
    "duration": 8,
    "start_time": "2024-09-08T13:25:33.252Z"
   },
   {
    "duration": 8,
    "start_time": "2024-09-08T13:25:33.262Z"
   },
   {
    "duration": 4,
    "start_time": "2024-09-08T13:25:33.271Z"
   },
   {
    "duration": 3,
    "start_time": "2024-09-08T13:25:33.277Z"
   },
   {
    "duration": 8,
    "start_time": "2024-09-08T13:25:33.282Z"
   },
   {
    "duration": 9,
    "start_time": "2024-09-08T13:25:33.292Z"
   },
   {
    "duration": 7,
    "start_time": "2024-09-08T13:25:33.332Z"
   },
   {
    "duration": 7,
    "start_time": "2024-09-08T13:25:33.341Z"
   },
   {
    "duration": 6,
    "start_time": "2024-09-08T13:25:33.349Z"
   },
   {
    "duration": 15,
    "start_time": "2024-09-08T13:25:33.356Z"
   },
   {
    "duration": 9,
    "start_time": "2024-09-08T13:25:33.373Z"
   },
   {
    "duration": 51,
    "start_time": "2024-09-08T13:25:33.383Z"
   },
   {
    "duration": 8,
    "start_time": "2024-09-08T13:25:33.438Z"
   },
   {
    "duration": 12,
    "start_time": "2024-09-08T13:25:33.448Z"
   },
   {
    "duration": 7,
    "start_time": "2024-09-08T13:25:33.461Z"
   },
   {
    "duration": 13,
    "start_time": "2024-09-08T13:25:33.469Z"
   },
   {
    "duration": 7,
    "start_time": "2024-09-08T13:25:33.483Z"
   },
   {
    "duration": 47,
    "start_time": "2024-09-08T13:25:33.491Z"
   },
   {
    "duration": 6,
    "start_time": "2024-09-08T13:25:33.540Z"
   },
   {
    "duration": 18,
    "start_time": "2024-09-08T13:25:33.548Z"
   },
   {
    "duration": 3,
    "start_time": "2024-09-08T13:25:33.568Z"
   },
   {
    "duration": 9,
    "start_time": "2024-09-08T13:25:33.573Z"
   },
   {
    "duration": 53,
    "start_time": "2024-09-08T13:25:33.583Z"
   },
   {
    "duration": 20,
    "start_time": "2024-09-08T13:25:33.638Z"
   },
   {
    "duration": 14,
    "start_time": "2024-09-08T13:25:33.659Z"
   },
   {
    "duration": 12,
    "start_time": "2024-09-08T13:25:33.674Z"
   },
   {
    "duration": 44,
    "start_time": "2024-09-08T13:25:33.688Z"
   },
   {
    "duration": 21,
    "start_time": "2024-09-08T13:25:33.734Z"
   },
   {
    "duration": 25,
    "start_time": "2024-09-08T13:25:33.756Z"
   },
   {
    "duration": 18,
    "start_time": "2024-09-08T13:26:06.264Z"
   },
   {
    "duration": 17,
    "start_time": "2024-09-08T13:26:40.844Z"
   },
   {
    "duration": 39,
    "start_time": "2024-09-08T13:27:38.955Z"
   },
   {
    "duration": 17,
    "start_time": "2024-09-08T13:27:49.594Z"
   },
   {
    "duration": 16,
    "start_time": "2024-09-08T13:28:06.029Z"
   },
   {
    "duration": 26,
    "start_time": "2024-09-08T13:28:20.885Z"
   },
   {
    "duration": 3,
    "start_time": "2024-09-08T13:28:55.750Z"
   },
   {
    "duration": 159,
    "start_time": "2024-09-08T13:28:55.755Z"
   },
   {
    "duration": 9,
    "start_time": "2024-09-08T13:28:55.915Z"
   },
   {
    "duration": 10,
    "start_time": "2024-09-08T13:28:55.926Z"
   },
   {
    "duration": 3,
    "start_time": "2024-09-08T13:28:55.939Z"
   },
   {
    "duration": 4,
    "start_time": "2024-09-08T13:28:55.943Z"
   },
   {
    "duration": 8,
    "start_time": "2024-09-08T13:28:55.949Z"
   },
   {
    "duration": 7,
    "start_time": "2024-09-08T13:28:55.958Z"
   },
   {
    "duration": 6,
    "start_time": "2024-09-08T13:28:55.968Z"
   },
   {
    "duration": 6,
    "start_time": "2024-09-08T13:28:55.977Z"
   },
   {
    "duration": 6,
    "start_time": "2024-09-08T13:28:55.984Z"
   },
   {
    "duration": 51,
    "start_time": "2024-09-08T13:28:55.992Z"
   },
   {
    "duration": 6,
    "start_time": "2024-09-08T13:28:56.045Z"
   },
   {
    "duration": 17,
    "start_time": "2024-09-08T13:28:56.055Z"
   },
   {
    "duration": 8,
    "start_time": "2024-09-08T13:28:56.074Z"
   },
   {
    "duration": 12,
    "start_time": "2024-09-08T13:28:56.083Z"
   },
   {
    "duration": 36,
    "start_time": "2024-09-08T13:28:56.096Z"
   },
   {
    "duration": 13,
    "start_time": "2024-09-08T13:28:56.133Z"
   },
   {
    "duration": 6,
    "start_time": "2024-09-08T13:28:56.148Z"
   },
   {
    "duration": 13,
    "start_time": "2024-09-08T13:28:56.155Z"
   },
   {
    "duration": 8,
    "start_time": "2024-09-08T13:28:56.170Z"
   },
   {
    "duration": 17,
    "start_time": "2024-09-08T13:28:56.180Z"
   },
   {
    "duration": 3,
    "start_time": "2024-09-08T13:28:56.231Z"
   },
   {
    "duration": 8,
    "start_time": "2024-09-08T13:28:56.236Z"
   },
   {
    "duration": 23,
    "start_time": "2024-09-08T13:28:56.245Z"
   },
   {
    "duration": 19,
    "start_time": "2024-09-08T13:28:56.270Z"
   },
   {
    "duration": 41,
    "start_time": "2024-09-08T13:28:56.291Z"
   },
   {
    "duration": 13,
    "start_time": "2024-09-08T13:28:56.333Z"
   },
   {
    "duration": 13,
    "start_time": "2024-09-08T13:28:56.347Z"
   },
   {
    "duration": 19,
    "start_time": "2024-09-08T13:29:05.914Z"
   },
   {
    "duration": 26,
    "start_time": "2024-09-08T13:29:24.656Z"
   },
   {
    "duration": 8,
    "start_time": "2024-09-08T13:30:34.945Z"
   },
   {
    "duration": 23,
    "start_time": "2024-09-08T13:31:16.402Z"
   },
   {
    "duration": 21,
    "start_time": "2024-09-08T13:31:26.843Z"
   },
   {
    "duration": 26,
    "start_time": "2024-09-08T13:31:57.116Z"
   },
   {
    "duration": 25,
    "start_time": "2024-09-08T13:32:09.077Z"
   },
   {
    "duration": 18,
    "start_time": "2024-09-08T13:32:39.226Z"
   },
   {
    "duration": 16,
    "start_time": "2024-09-08T13:33:08.604Z"
   },
   {
    "duration": 26,
    "start_time": "2024-09-08T13:33:23.102Z"
   },
   {
    "duration": 180,
    "start_time": "2024-09-08T13:35:00.052Z"
   },
   {
    "duration": 180,
    "start_time": "2024-09-08T13:35:31.372Z"
   },
   {
    "duration": 379,
    "start_time": "2024-09-08T13:35:44.949Z"
   },
   {
    "duration": 472,
    "start_time": "2024-09-08T13:36:30.762Z"
   },
   {
    "duration": 285,
    "start_time": "2024-09-08T13:36:55.841Z"
   },
   {
    "duration": 167,
    "start_time": "2024-09-08T13:37:09.867Z"
   },
   {
    "duration": 26,
    "start_time": "2024-09-08T13:42:16.406Z"
   },
   {
    "duration": 15,
    "start_time": "2024-09-08T13:45:09.438Z"
   },
   {
    "duration": 8,
    "start_time": "2024-09-08T13:49:05.445Z"
   },
   {
    "duration": 26,
    "start_time": "2024-09-08T13:49:16.950Z"
   },
   {
    "duration": 19,
    "start_time": "2024-09-08T13:49:43.825Z"
   },
   {
    "duration": 26,
    "start_time": "2024-09-08T13:51:35.094Z"
   },
   {
    "duration": 17,
    "start_time": "2024-09-08T13:52:55.904Z"
   },
   {
    "duration": 31,
    "start_time": "2024-09-08T13:54:45.788Z"
   },
   {
    "duration": 19,
    "start_time": "2024-09-08T13:54:59.276Z"
   },
   {
    "duration": 15,
    "start_time": "2024-09-08T13:58:34.453Z"
   },
   {
    "duration": 13,
    "start_time": "2024-09-08T13:58:54.801Z"
   },
   {
    "duration": 19,
    "start_time": "2024-09-08T13:58:54.817Z"
   },
   {
    "duration": 7,
    "start_time": "2024-09-08T13:58:54.838Z"
   },
   {
    "duration": 25,
    "start_time": "2024-09-08T13:58:54.847Z"
   },
   {
    "duration": 25,
    "start_time": "2024-09-08T13:58:54.873Z"
   },
   {
    "duration": 58,
    "start_time": "2024-09-08T13:58:54.900Z"
   },
   {
    "duration": 0,
    "start_time": "2024-09-08T13:58:54.959Z"
   },
   {
    "duration": 0,
    "start_time": "2024-09-08T13:58:54.961Z"
   },
   {
    "duration": 0,
    "start_time": "2024-09-08T13:58:54.962Z"
   },
   {
    "duration": 0,
    "start_time": "2024-09-08T13:58:54.963Z"
   },
   {
    "duration": 0,
    "start_time": "2024-09-08T13:58:54.964Z"
   },
   {
    "duration": 0,
    "start_time": "2024-09-08T13:58:54.965Z"
   },
   {
    "duration": 0,
    "start_time": "2024-09-08T13:58:54.966Z"
   },
   {
    "duration": 0,
    "start_time": "2024-09-08T13:58:54.967Z"
   },
   {
    "duration": 0,
    "start_time": "2024-09-08T13:58:54.968Z"
   },
   {
    "duration": 3,
    "start_time": "2024-09-08T13:58:54.973Z"
   },
   {
    "duration": 3,
    "start_time": "2024-09-08T13:58:54.978Z"
   },
   {
    "duration": 19,
    "start_time": "2024-09-08T13:59:08.667Z"
   },
   {
    "duration": 19,
    "start_time": "2024-09-08T14:02:52.992Z"
   },
   {
    "duration": 25,
    "start_time": "2024-09-08T14:03:07.140Z"
   },
   {
    "duration": 18,
    "start_time": "2024-09-08T14:03:23.192Z"
   },
   {
    "duration": 3,
    "start_time": "2024-09-08T14:04:09.400Z"
   },
   {
    "duration": 158,
    "start_time": "2024-09-08T14:04:09.405Z"
   },
   {
    "duration": 9,
    "start_time": "2024-09-08T14:04:09.564Z"
   },
   {
    "duration": 7,
    "start_time": "2024-09-08T14:04:09.576Z"
   },
   {
    "duration": 4,
    "start_time": "2024-09-08T14:04:09.585Z"
   },
   {
    "duration": 3,
    "start_time": "2024-09-08T14:04:09.591Z"
   },
   {
    "duration": 37,
    "start_time": "2024-09-08T14:04:09.595Z"
   },
   {
    "duration": 8,
    "start_time": "2024-09-08T14:04:09.634Z"
   },
   {
    "duration": 5,
    "start_time": "2024-09-08T14:04:09.644Z"
   },
   {
    "duration": 5,
    "start_time": "2024-09-08T14:04:09.653Z"
   },
   {
    "duration": 6,
    "start_time": "2024-09-08T14:04:09.659Z"
   },
   {
    "duration": 15,
    "start_time": "2024-09-08T14:04:09.666Z"
   },
   {
    "duration": 9,
    "start_time": "2024-09-08T14:04:09.683Z"
   },
   {
    "duration": 50,
    "start_time": "2024-09-08T14:04:09.694Z"
   },
   {
    "duration": 8,
    "start_time": "2024-09-08T14:04:09.746Z"
   },
   {
    "duration": 12,
    "start_time": "2024-09-08T14:04:09.756Z"
   },
   {
    "duration": 6,
    "start_time": "2024-09-08T14:04:09.770Z"
   },
   {
    "duration": 13,
    "start_time": "2024-09-08T14:04:09.777Z"
   },
   {
    "duration": 6,
    "start_time": "2024-09-08T14:04:09.792Z"
   },
   {
    "duration": 14,
    "start_time": "2024-09-08T14:04:09.832Z"
   },
   {
    "duration": 7,
    "start_time": "2024-09-08T14:04:09.848Z"
   },
   {
    "duration": 17,
    "start_time": "2024-09-08T14:04:09.857Z"
   },
   {
    "duration": 3,
    "start_time": "2024-09-08T14:04:09.876Z"
   },
   {
    "duration": 8,
    "start_time": "2024-09-08T14:04:09.881Z"
   },
   {
    "duration": 56,
    "start_time": "2024-09-08T14:04:09.890Z"
   },
   {
    "duration": 16,
    "start_time": "2024-09-08T14:04:09.948Z"
   },
   {
    "duration": 13,
    "start_time": "2024-09-08T14:04:09.965Z"
   },
   {
    "duration": 12,
    "start_time": "2024-09-08T14:04:09.983Z"
   },
   {
    "duration": 38,
    "start_time": "2024-09-08T14:04:09.996Z"
   },
   {
    "duration": 20,
    "start_time": "2024-09-08T14:04:10.036Z"
   },
   {
    "duration": 25,
    "start_time": "2024-09-08T14:04:10.057Z"
   },
   {
    "duration": 17,
    "start_time": "2024-09-08T14:04:10.084Z"
   },
   {
    "duration": 71,
    "start_time": "2024-09-08T14:04:10.103Z"
   },
   {
    "duration": 0,
    "start_time": "2024-09-08T14:04:10.176Z"
   },
   {
    "duration": 0,
    "start_time": "2024-09-08T14:04:10.177Z"
   },
   {
    "duration": 0,
    "start_time": "2024-09-08T14:04:10.178Z"
   },
   {
    "duration": 0,
    "start_time": "2024-09-08T14:04:10.179Z"
   },
   {
    "duration": 0,
    "start_time": "2024-09-08T14:04:10.180Z"
   },
   {
    "duration": 0,
    "start_time": "2024-09-08T14:04:10.181Z"
   },
   {
    "duration": 0,
    "start_time": "2024-09-08T14:04:10.182Z"
   },
   {
    "duration": 0,
    "start_time": "2024-09-08T14:04:10.183Z"
   },
   {
    "duration": 44,
    "start_time": "2024-09-08T14:04:52.537Z"
   },
   {
    "duration": 165,
    "start_time": "2024-09-08T14:05:33.477Z"
   },
   {
    "duration": 3,
    "start_time": "2024-09-08T14:05:54.213Z"
   },
   {
    "duration": 156,
    "start_time": "2024-09-08T14:05:54.217Z"
   },
   {
    "duration": 9,
    "start_time": "2024-09-08T14:05:54.376Z"
   },
   {
    "duration": 8,
    "start_time": "2024-09-08T14:05:54.386Z"
   },
   {
    "duration": 3,
    "start_time": "2024-09-08T14:05:54.396Z"
   },
   {
    "duration": 3,
    "start_time": "2024-09-08T14:05:54.400Z"
   },
   {
    "duration": 27,
    "start_time": "2024-09-08T14:05:54.405Z"
   },
   {
    "duration": 8,
    "start_time": "2024-09-08T14:05:54.433Z"
   },
   {
    "duration": 6,
    "start_time": "2024-09-08T14:05:54.442Z"
   },
   {
    "duration": 5,
    "start_time": "2024-09-08T14:05:54.449Z"
   },
   {
    "duration": 5,
    "start_time": "2024-09-08T14:05:54.458Z"
   },
   {
    "duration": 14,
    "start_time": "2024-09-08T14:05:54.465Z"
   },
   {
    "duration": 6,
    "start_time": "2024-09-08T14:05:54.481Z"
   },
   {
    "duration": 59,
    "start_time": "2024-09-08T14:05:54.489Z"
   },
   {
    "duration": 9,
    "start_time": "2024-09-08T14:05:54.550Z"
   },
   {
    "duration": 12,
    "start_time": "2024-09-08T14:05:54.560Z"
   },
   {
    "duration": 6,
    "start_time": "2024-09-08T14:05:54.573Z"
   },
   {
    "duration": 12,
    "start_time": "2024-09-08T14:05:54.581Z"
   },
   {
    "duration": 6,
    "start_time": "2024-09-08T14:05:54.594Z"
   },
   {
    "duration": 42,
    "start_time": "2024-09-08T14:05:54.601Z"
   },
   {
    "duration": 8,
    "start_time": "2024-09-08T14:05:54.645Z"
   },
   {
    "duration": 18,
    "start_time": "2024-09-08T14:05:54.655Z"
   },
   {
    "duration": 4,
    "start_time": "2024-09-08T14:05:54.675Z"
   },
   {
    "duration": 9,
    "start_time": "2024-09-08T14:05:54.680Z"
   },
   {
    "duration": 51,
    "start_time": "2024-09-08T14:05:54.691Z"
   },
   {
    "duration": 16,
    "start_time": "2024-09-08T14:05:54.744Z"
   },
   {
    "duration": 13,
    "start_time": "2024-09-08T14:05:54.762Z"
   },
   {
    "duration": 12,
    "start_time": "2024-09-08T14:05:54.777Z"
   },
   {
    "duration": 37,
    "start_time": "2024-09-08T14:05:54.794Z"
   },
   {
    "duration": 20,
    "start_time": "2024-09-08T14:05:54.833Z"
   },
   {
    "duration": 26,
    "start_time": "2024-09-08T14:05:54.854Z"
   },
   {
    "duration": 18,
    "start_time": "2024-09-08T14:05:54.882Z"
   },
   {
    "duration": 45,
    "start_time": "2024-09-08T14:05:59.219Z"
   },
   {
    "duration": 23,
    "start_time": "2024-09-08T14:07:06.433Z"
   },
   {
    "duration": 15,
    "start_time": "2024-09-08T14:09:18.474Z"
   },
   {
    "duration": 2,
    "start_time": "2024-09-08T14:09:48.737Z"
   },
   {
    "duration": 171,
    "start_time": "2024-09-08T14:09:48.742Z"
   },
   {
    "duration": 8,
    "start_time": "2024-09-08T14:09:48.916Z"
   },
   {
    "duration": 8,
    "start_time": "2024-09-08T14:09:48.930Z"
   },
   {
    "duration": 3,
    "start_time": "2024-09-08T14:09:48.940Z"
   },
   {
    "duration": 6,
    "start_time": "2024-09-08T14:09:48.945Z"
   },
   {
    "duration": 7,
    "start_time": "2024-09-08T14:09:48.953Z"
   },
   {
    "duration": 8,
    "start_time": "2024-09-08T14:09:48.962Z"
   },
   {
    "duration": 6,
    "start_time": "2024-09-08T14:09:48.972Z"
   },
   {
    "duration": 6,
    "start_time": "2024-09-08T14:09:48.980Z"
   },
   {
    "duration": 2,
    "start_time": "2024-09-08T14:09:48.989Z"
   },
   {
    "duration": 52,
    "start_time": "2024-09-08T14:09:48.993Z"
   },
   {
    "duration": 7,
    "start_time": "2024-09-08T14:09:49.047Z"
   },
   {
    "duration": 18,
    "start_time": "2024-09-08T14:09:49.056Z"
   },
   {
    "duration": 8,
    "start_time": "2024-09-08T14:09:49.076Z"
   },
   {
    "duration": 46,
    "start_time": "2024-09-08T14:09:49.086Z"
   },
   {
    "duration": 6,
    "start_time": "2024-09-08T14:09:49.133Z"
   },
   {
    "duration": 13,
    "start_time": "2024-09-08T14:09:49.141Z"
   },
   {
    "duration": 6,
    "start_time": "2024-09-08T14:09:49.155Z"
   },
   {
    "duration": 14,
    "start_time": "2024-09-08T14:09:49.163Z"
   },
   {
    "duration": 7,
    "start_time": "2024-09-08T14:09:49.179Z"
   },
   {
    "duration": 50,
    "start_time": "2024-09-08T14:09:49.188Z"
   },
   {
    "duration": 3,
    "start_time": "2024-09-08T14:09:49.240Z"
   },
   {
    "duration": 8,
    "start_time": "2024-09-08T14:09:49.246Z"
   },
   {
    "duration": 21,
    "start_time": "2024-09-08T14:09:49.255Z"
   },
   {
    "duration": 17,
    "start_time": "2024-09-08T14:09:49.278Z"
   },
   {
    "duration": 42,
    "start_time": "2024-09-08T14:09:49.297Z"
   },
   {
    "duration": 12,
    "start_time": "2024-09-08T14:09:49.341Z"
   },
   {
    "duration": 13,
    "start_time": "2024-09-08T14:09:49.357Z"
   },
   {
    "duration": 13,
    "start_time": "2024-09-08T14:09:49.372Z"
   },
   {
    "duration": 52,
    "start_time": "2024-09-08T14:09:49.387Z"
   },
   {
    "duration": 24,
    "start_time": "2024-09-08T14:09:49.441Z"
   },
   {
    "duration": 19,
    "start_time": "2024-09-08T14:09:49.467Z"
   },
   {
    "duration": 23,
    "start_time": "2024-09-08T14:09:49.488Z"
   },
   {
    "duration": 169,
    "start_time": "2024-09-08T14:09:49.532Z"
   },
   {
    "duration": 341,
    "start_time": "2024-09-08T14:09:49.703Z"
   },
   {
    "duration": 9,
    "start_time": "2024-09-08T14:09:50.045Z"
   },
   {
    "duration": 548,
    "start_time": "2024-09-08T14:09:50.056Z"
   },
   {
    "duration": 172,
    "start_time": "2024-09-08T14:09:50.606Z"
   },
   {
    "duration": 304,
    "start_time": "2024-09-08T14:09:50.779Z"
   },
   {
    "duration": 17,
    "start_time": "2024-09-08T14:09:51.085Z"
   },
   {
    "duration": 3,
    "start_time": "2024-09-08T14:09:51.103Z"
   },
   {
    "duration": 3,
    "start_time": "2024-09-08T14:09:51.107Z"
   },
   {
    "duration": 8,
    "start_time": "2024-09-08T14:10:46.825Z"
   },
   {
    "duration": 25,
    "start_time": "2024-09-08T14:11:28.565Z"
   },
   {
    "duration": 163,
    "start_time": "2024-09-08T14:11:41.089Z"
   },
   {
    "duration": 956,
    "start_time": "2024-09-08T14:15:35.093Z"
   },
   {
    "duration": 655,
    "start_time": "2024-09-08T15:40:47.453Z"
   },
   {
    "duration": 128,
    "start_time": "2024-09-08T15:44:08.944Z"
   },
   {
    "duration": 474,
    "start_time": "2024-09-08T15:44:42.125Z"
   },
   {
    "duration": 623,
    "start_time": "2024-09-08T15:47:32.300Z"
   },
   {
    "duration": 587,
    "start_time": "2024-09-08T15:51:09.208Z"
   },
   {
    "duration": 166,
    "start_time": "2024-09-08T15:52:21.912Z"
   },
   {
    "duration": 163,
    "start_time": "2024-09-08T15:52:38.407Z"
   },
   {
    "duration": 350,
    "start_time": "2024-09-08T15:53:59.201Z"
   },
   {
    "duration": 163,
    "start_time": "2024-09-08T15:54:11.115Z"
   },
   {
    "duration": 514,
    "start_time": "2024-09-08T15:54:54.639Z"
   },
   {
    "duration": 164,
    "start_time": "2024-09-08T15:55:23.811Z"
   },
   {
    "duration": 7,
    "start_time": "2024-09-08T15:55:43.747Z"
   },
   {
    "duration": 187,
    "start_time": "2024-09-08T15:55:47.832Z"
   },
   {
    "duration": 586,
    "start_time": "2024-09-08T15:56:18.228Z"
   },
   {
    "duration": 10,
    "start_time": "2024-09-08T16:09:25.726Z"
   },
   {
    "duration": 490,
    "start_time": "2024-09-08T16:12:45.516Z"
   },
   {
    "duration": 166,
    "start_time": "2024-09-08T16:13:07.339Z"
   },
   {
    "duration": 365,
    "start_time": "2024-09-08T16:13:58.400Z"
   },
   {
    "duration": 153,
    "start_time": "2024-09-08T16:14:04.771Z"
   },
   {
    "duration": 370,
    "start_time": "2024-09-08T16:14:09.386Z"
   },
   {
    "duration": 532,
    "start_time": "2024-09-08T16:16:14.176Z"
   },
   {
    "duration": 5,
    "start_time": "2024-09-08T16:27:51.765Z"
   },
   {
    "duration": 3,
    "start_time": "2024-09-08T16:27:55.264Z"
   },
   {
    "duration": 3,
    "start_time": "2024-09-08T16:28:02.745Z"
   },
   {
    "duration": 4,
    "start_time": "2024-09-08T16:28:38.232Z"
   },
   {
    "duration": 3,
    "start_time": "2024-09-08T16:29:09.329Z"
   },
   {
    "duration": 5,
    "start_time": "2024-09-08T16:35:08.918Z"
   },
   {
    "duration": 9,
    "start_time": "2024-09-08T16:59:39.136Z"
   },
   {
    "duration": 8,
    "start_time": "2024-09-08T17:01:27.034Z"
   },
   {
    "duration": 4,
    "start_time": "2024-09-08T17:04:27.678Z"
   },
   {
    "duration": 8,
    "start_time": "2024-09-08T17:04:31.719Z"
   },
   {
    "duration": 4,
    "start_time": "2024-09-08T17:04:34.203Z"
   },
   {
    "duration": 4,
    "start_time": "2024-09-08T17:06:18.117Z"
   },
   {
    "duration": 9,
    "start_time": "2024-09-08T17:08:24.621Z"
   },
   {
    "duration": 5,
    "start_time": "2024-09-08T17:08:40.049Z"
   },
   {
    "duration": 5,
    "start_time": "2024-09-08T17:09:43.698Z"
   },
   {
    "duration": 6,
    "start_time": "2024-09-08T17:10:05.234Z"
   },
   {
    "duration": 5,
    "start_time": "2024-09-08T17:10:14.298Z"
   },
   {
    "duration": 4,
    "start_time": "2024-09-08T17:10:32.280Z"
   },
   {
    "duration": 5,
    "start_time": "2024-09-08T17:15:26.940Z"
   },
   {
    "duration": 6,
    "start_time": "2024-09-08T17:16:17.899Z"
   },
   {
    "duration": 4,
    "start_time": "2024-09-08T17:17:34.652Z"
   },
   {
    "duration": 7,
    "start_time": "2024-09-08T17:17:46.553Z"
   },
   {
    "duration": 12,
    "start_time": "2024-09-08T17:18:04.981Z"
   },
   {
    "duration": 4,
    "start_time": "2024-09-08T17:18:57.676Z"
   },
   {
    "duration": 8,
    "start_time": "2024-09-08T17:20:09.993Z"
   },
   {
    "duration": 4,
    "start_time": "2024-09-08T17:20:19.261Z"
   },
   {
    "duration": 14,
    "start_time": "2024-09-08T17:25:48.744Z"
   },
   {
    "duration": 31,
    "start_time": "2024-09-08T17:26:01.569Z"
   },
   {
    "duration": 7,
    "start_time": "2024-09-08T17:30:52.194Z"
   },
   {
    "duration": 9,
    "start_time": "2024-09-08T17:32:30.416Z"
   },
   {
    "duration": 5,
    "start_time": "2024-09-08T17:33:51.558Z"
   },
   {
    "duration": 5,
    "start_time": "2024-09-08T17:34:34.786Z"
   },
   {
    "duration": 5,
    "start_time": "2024-09-08T17:34:41.024Z"
   },
   {
    "duration": 5,
    "start_time": "2024-09-08T17:34:59.721Z"
   },
   {
    "duration": 153,
    "start_time": "2024-09-08T17:36:00.989Z"
   },
   {
    "duration": 13,
    "start_time": "2024-09-08T17:36:34.713Z"
   },
   {
    "duration": 7,
    "start_time": "2024-09-08T17:36:41.438Z"
   },
   {
    "duration": 9,
    "start_time": "2024-09-08T17:37:27.395Z"
   },
   {
    "duration": 7,
    "start_time": "2024-09-08T17:38:12.261Z"
   },
   {
    "duration": 12,
    "start_time": "2024-09-08T17:38:22.673Z"
   },
   {
    "duration": 9,
    "start_time": "2024-09-08T17:40:22.753Z"
   },
   {
    "duration": 5,
    "start_time": "2024-09-08T17:40:25.227Z"
   },
   {
    "duration": 4,
    "start_time": "2024-09-08T17:42:19.024Z"
   },
   {
    "duration": 6,
    "start_time": "2024-09-08T17:42:45.247Z"
   },
   {
    "duration": 180,
    "start_time": "2024-09-08T17:52:22.947Z"
   },
   {
    "duration": 168,
    "start_time": "2024-09-08T17:55:32.047Z"
   },
   {
    "duration": 24,
    "start_time": "2024-09-08T17:55:57.583Z"
   },
   {
    "duration": 8,
    "start_time": "2024-09-08T17:56:16.920Z"
   },
   {
    "duration": 102,
    "start_time": "2024-09-08T17:57:34.855Z"
   },
   {
    "duration": 17,
    "start_time": "2024-09-08T17:57:56.556Z"
   },
   {
    "duration": 67,
    "start_time": "2024-09-08T18:00:20.035Z"
   },
   {
    "duration": 68,
    "start_time": "2024-09-08T18:01:57.448Z"
   },
   {
    "duration": 4,
    "start_time": "2024-09-08T18:04:02.355Z"
   },
   {
    "duration": 30,
    "start_time": "2024-09-08T18:06:31.822Z"
   },
   {
    "duration": 3,
    "start_time": "2024-09-08T18:15:11.591Z"
   },
   {
    "duration": 251,
    "start_time": "2024-09-08T18:15:11.596Z"
   },
   {
    "duration": 11,
    "start_time": "2024-09-08T18:15:11.850Z"
   },
   {
    "duration": 13,
    "start_time": "2024-09-08T18:15:11.864Z"
   },
   {
    "duration": 4,
    "start_time": "2024-09-08T18:15:11.882Z"
   },
   {
    "duration": 4,
    "start_time": "2024-09-08T18:15:11.887Z"
   },
   {
    "duration": 9,
    "start_time": "2024-09-08T18:15:11.892Z"
   },
   {
    "duration": 34,
    "start_time": "2024-09-08T18:15:11.903Z"
   },
   {
    "duration": 8,
    "start_time": "2024-09-08T18:15:11.939Z"
   },
   {
    "duration": 12,
    "start_time": "2024-09-08T18:15:11.950Z"
   },
   {
    "duration": 3,
    "start_time": "2024-09-08T18:15:11.967Z"
   },
   {
    "duration": 23,
    "start_time": "2024-09-08T18:15:11.972Z"
   },
   {
    "duration": 34,
    "start_time": "2024-09-08T18:15:11.997Z"
   },
   {
    "duration": 19,
    "start_time": "2024-09-08T18:15:12.033Z"
   },
   {
    "duration": 9,
    "start_time": "2024-09-08T18:15:12.054Z"
   },
   {
    "duration": 12,
    "start_time": "2024-09-08T18:15:12.065Z"
   },
   {
    "duration": 10,
    "start_time": "2024-09-08T18:15:12.078Z"
   },
   {
    "duration": 45,
    "start_time": "2024-09-08T18:15:12.090Z"
   },
   {
    "duration": 8,
    "start_time": "2024-09-08T18:15:12.142Z"
   },
   {
    "duration": 18,
    "start_time": "2024-09-08T18:15:12.154Z"
   },
   {
    "duration": 9,
    "start_time": "2024-09-08T18:15:12.174Z"
   },
   {
    "duration": 25,
    "start_time": "2024-09-08T18:15:12.185Z"
   },
   {
    "duration": 20,
    "start_time": "2024-09-08T18:15:12.212Z"
   },
   {
    "duration": 9,
    "start_time": "2024-09-08T18:15:12.236Z"
   },
   {
    "duration": 21,
    "start_time": "2024-09-08T18:15:12.247Z"
   },
   {
    "duration": 18,
    "start_time": "2024-09-08T18:15:12.271Z"
   },
   {
    "duration": 13,
    "start_time": "2024-09-08T18:15:12.291Z"
   },
   {
    "duration": 13,
    "start_time": "2024-09-08T18:15:12.331Z"
   },
   {
    "duration": 18,
    "start_time": "2024-09-08T18:15:12.348Z"
   },
   {
    "duration": 27,
    "start_time": "2024-09-08T18:15:12.368Z"
   },
   {
    "duration": 50,
    "start_time": "2024-09-08T18:15:12.397Z"
   },
   {
    "duration": 179,
    "start_time": "2024-09-08T18:15:12.449Z"
   },
   {
    "duration": 365,
    "start_time": "2024-09-08T18:15:12.632Z"
   },
   {
    "duration": 11,
    "start_time": "2024-09-08T18:15:13.001Z"
   },
   {
    "duration": 784,
    "start_time": "2024-09-08T18:15:13.014Z"
   },
   {
    "duration": 194,
    "start_time": "2024-09-08T18:15:13.800Z"
   },
   {
    "duration": 191,
    "start_time": "2024-09-08T18:15:13.998Z"
   },
   {
    "duration": 619,
    "start_time": "2024-09-08T18:15:14.190Z"
   },
   {
    "duration": 10,
    "start_time": "2024-09-08T18:15:14.811Z"
   },
   {
    "duration": 5,
    "start_time": "2024-09-08T18:15:14.832Z"
   },
   {
    "duration": 8,
    "start_time": "2024-09-08T18:15:14.839Z"
   },
   {
    "duration": 4,
    "start_time": "2024-09-08T18:15:14.849Z"
   },
   {
    "duration": 4,
    "start_time": "2024-09-08T18:24:02.986Z"
   },
   {
    "duration": 216,
    "start_time": "2024-09-08T18:24:02.992Z"
   },
   {
    "duration": 10,
    "start_time": "2024-09-08T18:24:03.211Z"
   },
   {
    "duration": 14,
    "start_time": "2024-09-08T18:24:03.224Z"
   },
   {
    "duration": 4,
    "start_time": "2024-09-08T18:24:03.241Z"
   },
   {
    "duration": 4,
    "start_time": "2024-09-08T18:24:03.246Z"
   },
   {
    "duration": 12,
    "start_time": "2024-09-08T18:24:03.252Z"
   },
   {
    "duration": 13,
    "start_time": "2024-09-08T18:24:03.266Z"
   },
   {
    "duration": 8,
    "start_time": "2024-09-08T18:24:03.282Z"
   },
   {
    "duration": 47,
    "start_time": "2024-09-08T18:24:03.292Z"
   },
   {
    "duration": 5,
    "start_time": "2024-09-08T18:24:03.344Z"
   },
   {
    "duration": 23,
    "start_time": "2024-09-08T18:24:03.351Z"
   },
   {
    "duration": 10,
    "start_time": "2024-09-08T18:24:03.378Z"
   },
   {
    "duration": 52,
    "start_time": "2024-09-08T18:24:03.391Z"
   },
   {
    "duration": 12,
    "start_time": "2024-09-08T18:24:03.446Z"
   },
   {
    "duration": 16,
    "start_time": "2024-09-08T18:24:03.460Z"
   },
   {
    "duration": 11,
    "start_time": "2024-09-08T18:24:03.479Z"
   },
   {
    "duration": 50,
    "start_time": "2024-09-08T18:24:03.493Z"
   },
   {
    "duration": 3,
    "start_time": "2024-09-08T18:24:03.544Z"
   },
   {
    "duration": 15,
    "start_time": "2024-09-08T18:24:03.549Z"
   },
   {
    "duration": 11,
    "start_time": "2024-09-08T18:24:03.566Z"
   },
   {
    "duration": 20,
    "start_time": "2024-09-08T18:24:03.579Z"
   },
   {
    "duration": 5,
    "start_time": "2024-09-08T18:24:03.632Z"
   },
   {
    "duration": 10,
    "start_time": "2024-09-08T18:24:03.639Z"
   },
   {
    "duration": 37,
    "start_time": "2024-09-08T18:24:03.651Z"
   },
   {
    "duration": 53,
    "start_time": "2024-09-08T18:24:03.690Z"
   },
   {
    "duration": 50,
    "start_time": "2024-09-08T18:24:03.745Z"
   },
   {
    "duration": 0,
    "start_time": "2024-09-08T18:24:03.799Z"
   },
   {
    "duration": 0,
    "start_time": "2024-09-08T18:24:03.801Z"
   },
   {
    "duration": 0,
    "start_time": "2024-09-08T18:24:03.803Z"
   },
   {
    "duration": 0,
    "start_time": "2024-09-08T18:24:03.806Z"
   },
   {
    "duration": 0,
    "start_time": "2024-09-08T18:24:03.832Z"
   },
   {
    "duration": 1,
    "start_time": "2024-09-08T18:24:03.833Z"
   },
   {
    "duration": 0,
    "start_time": "2024-09-08T18:24:03.836Z"
   },
   {
    "duration": 0,
    "start_time": "2024-09-08T18:24:03.837Z"
   },
   {
    "duration": 0,
    "start_time": "2024-09-08T18:24:03.838Z"
   },
   {
    "duration": 0,
    "start_time": "2024-09-08T18:24:03.841Z"
   },
   {
    "duration": 0,
    "start_time": "2024-09-08T18:24:03.843Z"
   },
   {
    "duration": 0,
    "start_time": "2024-09-08T18:24:03.845Z"
   },
   {
    "duration": 0,
    "start_time": "2024-09-08T18:24:03.847Z"
   },
   {
    "duration": 0,
    "start_time": "2024-09-08T18:24:03.849Z"
   },
   {
    "duration": 0,
    "start_time": "2024-09-08T18:24:03.851Z"
   },
   {
    "duration": 3,
    "start_time": "2024-09-08T18:25:03.820Z"
   },
   {
    "duration": 202,
    "start_time": "2024-09-08T18:25:03.826Z"
   },
   {
    "duration": 17,
    "start_time": "2024-09-08T18:25:04.033Z"
   },
   {
    "duration": 16,
    "start_time": "2024-09-08T18:25:04.052Z"
   },
   {
    "duration": 4,
    "start_time": "2024-09-08T18:25:04.071Z"
   },
   {
    "duration": 4,
    "start_time": "2024-09-08T18:25:04.076Z"
   },
   {
    "duration": 9,
    "start_time": "2024-09-08T18:25:04.081Z"
   },
   {
    "duration": 9,
    "start_time": "2024-09-08T18:25:04.092Z"
   },
   {
    "duration": 13,
    "start_time": "2024-09-08T18:25:04.134Z"
   },
   {
    "duration": 15,
    "start_time": "2024-09-08T18:25:04.149Z"
   },
   {
    "duration": 3,
    "start_time": "2024-09-08T18:25:04.170Z"
   },
   {
    "duration": 18,
    "start_time": "2024-09-08T18:25:04.175Z"
   },
   {
    "duration": 8,
    "start_time": "2024-09-08T18:25:04.194Z"
   },
   {
    "duration": 63,
    "start_time": "2024-09-08T18:25:04.204Z"
   },
   {
    "duration": 8,
    "start_time": "2024-09-08T18:25:04.269Z"
   },
   {
    "duration": 13,
    "start_time": "2024-09-08T18:25:04.280Z"
   },
   {
    "duration": 9,
    "start_time": "2024-09-08T18:25:04.294Z"
   },
   {
    "duration": 36,
    "start_time": "2024-09-08T18:25:04.305Z"
   },
   {
    "duration": 4,
    "start_time": "2024-09-08T18:25:04.343Z"
   },
   {
    "duration": 22,
    "start_time": "2024-09-08T18:25:04.349Z"
   },
   {
    "duration": 7,
    "start_time": "2024-09-08T18:25:04.373Z"
   },
   {
    "duration": 16,
    "start_time": "2024-09-08T18:25:04.382Z"
   },
   {
    "duration": 3,
    "start_time": "2024-09-08T18:25:04.400Z"
   },
   {
    "duration": 35,
    "start_time": "2024-09-08T18:25:04.405Z"
   },
   {
    "duration": 32,
    "start_time": "2024-09-08T18:25:04.445Z"
   },
   {
    "duration": 17,
    "start_time": "2024-09-08T18:25:04.479Z"
   },
   {
    "duration": 19,
    "start_time": "2024-09-08T18:25:04.498Z"
   },
   {
    "duration": 36,
    "start_time": "2024-09-08T18:25:04.533Z"
   },
   {
    "duration": 237,
    "start_time": "2024-09-08T18:25:04.574Z"
   },
   {
    "duration": 0,
    "start_time": "2024-09-08T18:25:04.813Z"
   },
   {
    "duration": 0,
    "start_time": "2024-09-08T18:25:04.815Z"
   },
   {
    "duration": 0,
    "start_time": "2024-09-08T18:25:04.816Z"
   },
   {
    "duration": 0,
    "start_time": "2024-09-08T18:25:04.817Z"
   },
   {
    "duration": 0,
    "start_time": "2024-09-08T18:25:04.818Z"
   },
   {
    "duration": 0,
    "start_time": "2024-09-08T18:25:04.819Z"
   },
   {
    "duration": 0,
    "start_time": "2024-09-08T18:25:04.821Z"
   },
   {
    "duration": 0,
    "start_time": "2024-09-08T18:25:04.822Z"
   },
   {
    "duration": 0,
    "start_time": "2024-09-08T18:25:04.833Z"
   },
   {
    "duration": 0,
    "start_time": "2024-09-08T18:25:04.834Z"
   },
   {
    "duration": 0,
    "start_time": "2024-09-08T18:25:04.836Z"
   },
   {
    "duration": 0,
    "start_time": "2024-09-08T18:25:04.837Z"
   },
   {
    "duration": 0,
    "start_time": "2024-09-08T18:25:04.839Z"
   },
   {
    "duration": 2,
    "start_time": "2024-09-08T18:26:27.411Z"
   },
   {
    "duration": 175,
    "start_time": "2024-09-08T18:26:27.418Z"
   },
   {
    "duration": 8,
    "start_time": "2024-09-08T18:26:27.595Z"
   },
   {
    "duration": 8,
    "start_time": "2024-09-08T18:26:27.606Z"
   },
   {
    "duration": 16,
    "start_time": "2024-09-08T18:26:27.616Z"
   },
   {
    "duration": 5,
    "start_time": "2024-09-08T18:26:27.633Z"
   },
   {
    "duration": 16,
    "start_time": "2024-09-08T18:26:27.639Z"
   },
   {
    "duration": 34,
    "start_time": "2024-09-08T18:26:27.659Z"
   },
   {
    "duration": 7,
    "start_time": "2024-09-08T18:26:27.695Z"
   },
   {
    "duration": 6,
    "start_time": "2024-09-08T18:26:27.704Z"
   },
   {
    "duration": 2,
    "start_time": "2024-09-08T18:26:27.714Z"
   },
   {
    "duration": 50,
    "start_time": "2024-09-08T18:26:27.718Z"
   },
   {
    "duration": 7,
    "start_time": "2024-09-08T18:26:27.770Z"
   },
   {
    "duration": 18,
    "start_time": "2024-09-08T18:26:27.783Z"
   },
   {
    "duration": 9,
    "start_time": "2024-09-08T18:26:27.803Z"
   },
   {
    "duration": 45,
    "start_time": "2024-09-08T18:26:27.814Z"
   },
   {
    "duration": 10,
    "start_time": "2024-09-08T18:26:27.861Z"
   },
   {
    "duration": 3,
    "start_time": "2024-09-08T18:26:27.872Z"
   },
   {
    "duration": 88,
    "start_time": "2024-09-08T18:26:27.876Z"
   },
   {
    "duration": 0,
    "start_time": "2024-09-08T18:26:27.966Z"
   },
   {
    "duration": 0,
    "start_time": "2024-09-08T18:26:27.967Z"
   },
   {
    "duration": 0,
    "start_time": "2024-09-08T18:26:27.968Z"
   },
   {
    "duration": 0,
    "start_time": "2024-09-08T18:26:27.971Z"
   },
   {
    "duration": 0,
    "start_time": "2024-09-08T18:26:27.972Z"
   },
   {
    "duration": 0,
    "start_time": "2024-09-08T18:26:27.973Z"
   },
   {
    "duration": 0,
    "start_time": "2024-09-08T18:26:27.974Z"
   },
   {
    "duration": 0,
    "start_time": "2024-09-08T18:26:27.976Z"
   },
   {
    "duration": 0,
    "start_time": "2024-09-08T18:26:27.977Z"
   },
   {
    "duration": 0,
    "start_time": "2024-09-08T18:26:27.979Z"
   },
   {
    "duration": 0,
    "start_time": "2024-09-08T18:26:27.980Z"
   },
   {
    "duration": 0,
    "start_time": "2024-09-08T18:26:27.981Z"
   },
   {
    "duration": 0,
    "start_time": "2024-09-08T18:26:27.983Z"
   },
   {
    "duration": 0,
    "start_time": "2024-09-08T18:26:27.984Z"
   },
   {
    "duration": 0,
    "start_time": "2024-09-08T18:26:27.986Z"
   },
   {
    "duration": 0,
    "start_time": "2024-09-08T18:26:27.987Z"
   },
   {
    "duration": 0,
    "start_time": "2024-09-08T18:26:27.988Z"
   },
   {
    "duration": 0,
    "start_time": "2024-09-08T18:26:27.989Z"
   },
   {
    "duration": 0,
    "start_time": "2024-09-08T18:26:27.995Z"
   },
   {
    "duration": 0,
    "start_time": "2024-09-08T18:26:27.996Z"
   },
   {
    "duration": 0,
    "start_time": "2024-09-08T18:26:27.999Z"
   },
   {
    "duration": 0,
    "start_time": "2024-09-08T18:26:28.000Z"
   },
   {
    "duration": 0,
    "start_time": "2024-09-08T18:26:28.001Z"
   },
   {
    "duration": 3,
    "start_time": "2024-09-08T18:28:40.913Z"
   },
   {
    "duration": 187,
    "start_time": "2024-09-08T18:28:40.918Z"
   },
   {
    "duration": 9,
    "start_time": "2024-09-08T18:28:41.107Z"
   },
   {
    "duration": 7,
    "start_time": "2024-09-08T18:28:41.118Z"
   },
   {
    "duration": 24,
    "start_time": "2024-09-08T18:28:41.134Z"
   },
   {
    "duration": 3,
    "start_time": "2024-09-08T18:28:41.160Z"
   },
   {
    "duration": 8,
    "start_time": "2024-09-08T18:28:41.165Z"
   },
   {
    "duration": 9,
    "start_time": "2024-09-08T18:28:41.175Z"
   },
   {
    "duration": 5,
    "start_time": "2024-09-08T18:28:41.185Z"
   },
   {
    "duration": 5,
    "start_time": "2024-09-08T18:28:41.192Z"
   },
   {
    "duration": 2,
    "start_time": "2024-09-08T18:28:41.200Z"
   },
   {
    "duration": 42,
    "start_time": "2024-09-08T18:28:41.204Z"
   },
   {
    "duration": 9,
    "start_time": "2024-09-08T18:28:41.253Z"
   },
   {
    "duration": 17,
    "start_time": "2024-09-08T18:28:41.264Z"
   },
   {
    "duration": 8,
    "start_time": "2024-09-08T18:28:41.283Z"
   },
   {
    "duration": 11,
    "start_time": "2024-09-08T18:28:41.293Z"
   },
   {
    "duration": 33,
    "start_time": "2024-09-08T18:28:41.305Z"
   },
   {
    "duration": 15,
    "start_time": "2024-09-08T18:28:41.342Z"
   },
   {
    "duration": 35,
    "start_time": "2024-09-08T18:28:41.359Z"
   },
   {
    "duration": 0,
    "start_time": "2024-09-08T18:28:41.396Z"
   },
   {
    "duration": 0,
    "start_time": "2024-09-08T18:28:41.398Z"
   },
   {
    "duration": 0,
    "start_time": "2024-09-08T18:28:41.399Z"
   },
   {
    "duration": 0,
    "start_time": "2024-09-08T18:28:41.401Z"
   },
   {
    "duration": 1,
    "start_time": "2024-09-08T18:28:41.401Z"
   },
   {
    "duration": 0,
    "start_time": "2024-09-08T18:28:41.403Z"
   },
   {
    "duration": 0,
    "start_time": "2024-09-08T18:28:41.404Z"
   },
   {
    "duration": 0,
    "start_time": "2024-09-08T18:28:41.405Z"
   },
   {
    "duration": 0,
    "start_time": "2024-09-08T18:28:41.406Z"
   },
   {
    "duration": 0,
    "start_time": "2024-09-08T18:28:41.407Z"
   },
   {
    "duration": 0,
    "start_time": "2024-09-08T18:28:41.433Z"
   },
   {
    "duration": 0,
    "start_time": "2024-09-08T18:28:41.434Z"
   },
   {
    "duration": 0,
    "start_time": "2024-09-08T18:28:41.436Z"
   },
   {
    "duration": 0,
    "start_time": "2024-09-08T18:28:41.437Z"
   },
   {
    "duration": 0,
    "start_time": "2024-09-08T18:28:41.439Z"
   },
   {
    "duration": 0,
    "start_time": "2024-09-08T18:28:41.440Z"
   },
   {
    "duration": 0,
    "start_time": "2024-09-08T18:28:41.441Z"
   },
   {
    "duration": 0,
    "start_time": "2024-09-08T18:28:41.447Z"
   },
   {
    "duration": 0,
    "start_time": "2024-09-08T18:28:41.447Z"
   },
   {
    "duration": 0,
    "start_time": "2024-09-08T18:28:41.450Z"
   },
   {
    "duration": 0,
    "start_time": "2024-09-08T18:28:41.451Z"
   },
   {
    "duration": 0,
    "start_time": "2024-09-08T18:28:41.452Z"
   },
   {
    "duration": 0,
    "start_time": "2024-09-08T18:28:41.458Z"
   },
   {
    "duration": 3,
    "start_time": "2024-09-08T18:31:14.180Z"
   },
   {
    "duration": 227,
    "start_time": "2024-09-08T18:31:14.185Z"
   },
   {
    "duration": 17,
    "start_time": "2024-09-08T18:31:14.415Z"
   },
   {
    "duration": 8,
    "start_time": "2024-09-08T18:31:14.435Z"
   },
   {
    "duration": 4,
    "start_time": "2024-09-08T18:31:14.446Z"
   },
   {
    "duration": 4,
    "start_time": "2024-09-08T18:31:14.452Z"
   },
   {
    "duration": 10,
    "start_time": "2024-09-08T18:31:14.457Z"
   },
   {
    "duration": 9,
    "start_time": "2024-09-08T18:31:14.469Z"
   },
   {
    "duration": 51,
    "start_time": "2024-09-08T18:31:14.480Z"
   },
   {
    "duration": 22,
    "start_time": "2024-09-08T18:31:14.534Z"
   },
   {
    "duration": 3,
    "start_time": "2024-09-08T18:31:14.559Z"
   },
   {
    "duration": 17,
    "start_time": "2024-09-08T18:31:14.566Z"
   },
   {
    "duration": 7,
    "start_time": "2024-09-08T18:31:14.585Z"
   },
   {
    "duration": 18,
    "start_time": "2024-09-08T18:31:14.594Z"
   },
   {
    "duration": 9,
    "start_time": "2024-09-08T18:31:14.631Z"
   },
   {
    "duration": 14,
    "start_time": "2024-09-08T18:31:14.641Z"
   },
   {
    "duration": 9,
    "start_time": "2024-09-08T18:31:14.657Z"
   },
   {
    "duration": 17,
    "start_time": "2024-09-08T18:31:14.668Z"
   },
   {
    "duration": 6,
    "start_time": "2024-09-08T18:31:14.686Z"
   },
   {
    "duration": 46,
    "start_time": "2024-09-08T18:31:14.698Z"
   },
   {
    "duration": 17,
    "start_time": "2024-09-08T18:31:14.745Z"
   },
   {
    "duration": 20,
    "start_time": "2024-09-08T18:31:14.764Z"
   },
   {
    "duration": 4,
    "start_time": "2024-09-08T18:31:14.785Z"
   },
   {
    "duration": 9,
    "start_time": "2024-09-08T18:31:14.791Z"
   },
   {
    "duration": 64,
    "start_time": "2024-09-08T18:31:14.802Z"
   },
   {
    "duration": 18,
    "start_time": "2024-09-08T18:31:14.867Z"
   },
   {
    "duration": 13,
    "start_time": "2024-09-08T18:31:14.887Z"
   },
   {
    "duration": 12,
    "start_time": "2024-09-08T18:31:14.902Z"
   },
   {
    "duration": 31,
    "start_time": "2024-09-08T18:31:14.938Z"
   },
   {
    "duration": 25,
    "start_time": "2024-09-08T18:31:14.970Z"
   },
   {
    "duration": 20,
    "start_time": "2024-09-08T18:31:14.997Z"
   },
   {
    "duration": 232,
    "start_time": "2024-09-08T18:31:15.018Z"
   },
   {
    "duration": 401,
    "start_time": "2024-09-08T18:31:15.256Z"
   },
   {
    "duration": 9,
    "start_time": "2024-09-08T18:31:15.659Z"
   },
   {
    "duration": 559,
    "start_time": "2024-09-08T18:31:15.669Z"
   },
   {
    "duration": 169,
    "start_time": "2024-09-08T18:31:16.237Z"
   },
   {
    "duration": 205,
    "start_time": "2024-09-08T18:31:16.408Z"
   },
   {
    "duration": 630,
    "start_time": "2024-09-08T18:31:16.615Z"
   },
   {
    "duration": 14,
    "start_time": "2024-09-08T18:31:17.246Z"
   },
   {
    "duration": 4,
    "start_time": "2024-09-08T18:31:17.262Z"
   },
   {
    "duration": 9,
    "start_time": "2024-09-08T18:31:17.268Z"
   },
   {
    "duration": 4,
    "start_time": "2024-09-08T18:31:17.279Z"
   },
   {
    "duration": 16,
    "start_time": "2024-09-08T18:34:11.713Z"
   },
   {
    "duration": 17,
    "start_time": "2024-09-08T18:34:20.548Z"
   },
   {
    "duration": 17,
    "start_time": "2024-09-08T18:34:26.853Z"
   },
   {
    "duration": 17,
    "start_time": "2024-09-08T18:34:38.913Z"
   },
   {
    "duration": 2832,
    "start_time": "2024-09-09T09:06:10.394Z"
   },
   {
    "duration": 310,
    "start_time": "2024-09-09T09:06:13.228Z"
   },
   {
    "duration": 13,
    "start_time": "2024-09-09T09:06:13.539Z"
   },
   {
    "duration": 12,
    "start_time": "2024-09-09T09:06:13.554Z"
   },
   {
    "duration": 4,
    "start_time": "2024-09-09T09:06:13.569Z"
   },
   {
    "duration": 5,
    "start_time": "2024-09-09T09:06:13.575Z"
   },
   {
    "duration": 33,
    "start_time": "2024-09-09T09:06:13.582Z"
   },
   {
    "duration": 8,
    "start_time": "2024-09-09T09:06:13.618Z"
   },
   {
    "duration": 7,
    "start_time": "2024-09-09T09:06:13.628Z"
   },
   {
    "duration": 8,
    "start_time": "2024-09-09T09:06:13.639Z"
   },
   {
    "duration": 3,
    "start_time": "2024-09-09T09:06:13.650Z"
   },
   {
    "duration": 54,
    "start_time": "2024-09-09T09:06:13.656Z"
   },
   {
    "duration": 9,
    "start_time": "2024-09-09T09:06:13.712Z"
   },
   {
    "duration": 21,
    "start_time": "2024-09-09T09:06:13.723Z"
   },
   {
    "duration": 12,
    "start_time": "2024-09-09T09:06:13.746Z"
   },
   {
    "duration": 17,
    "start_time": "2024-09-09T09:06:13.760Z"
   },
   {
    "duration": 13,
    "start_time": "2024-09-09T09:06:13.811Z"
   },
   {
    "duration": 15,
    "start_time": "2024-09-09T09:06:13.826Z"
   },
   {
    "duration": 8,
    "start_time": "2024-09-09T09:06:13.843Z"
   },
   {
    "duration": 54,
    "start_time": "2024-09-09T09:06:13.854Z"
   },
   {
    "duration": 10,
    "start_time": "2024-09-09T09:06:13.911Z"
   },
   {
    "duration": 22,
    "start_time": "2024-09-09T09:06:13.923Z"
   },
   {
    "duration": 5,
    "start_time": "2024-09-09T09:06:13.947Z"
   },
   {
    "duration": 10,
    "start_time": "2024-09-09T09:06:13.954Z"
   },
   {
    "duration": 67,
    "start_time": "2024-09-09T09:06:13.966Z"
   },
   {
    "duration": 23,
    "start_time": "2024-09-09T09:06:14.035Z"
   },
   {
    "duration": 19,
    "start_time": "2024-09-09T09:06:14.060Z"
   },
   {
    "duration": 43,
    "start_time": "2024-09-09T09:06:14.083Z"
   },
   {
    "duration": 255,
    "start_time": "2024-09-09T09:06:17.786Z"
   },
   {
    "duration": 4,
    "start_time": "2024-09-09T09:06:32.913Z"
   },
   {
    "duration": 201,
    "start_time": "2024-09-09T09:06:32.920Z"
   },
   {
    "duration": 10,
    "start_time": "2024-09-09T09:06:33.123Z"
   },
   {
    "duration": 8,
    "start_time": "2024-09-09T09:06:33.134Z"
   },
   {
    "duration": 4,
    "start_time": "2024-09-09T09:06:33.145Z"
   },
   {
    "duration": 4,
    "start_time": "2024-09-09T09:06:33.151Z"
   },
   {
    "duration": 11,
    "start_time": "2024-09-09T09:06:33.157Z"
   },
   {
    "duration": 42,
    "start_time": "2024-09-09T09:06:33.170Z"
   },
   {
    "duration": 8,
    "start_time": "2024-09-09T09:06:33.214Z"
   },
   {
    "duration": 9,
    "start_time": "2024-09-09T09:06:33.225Z"
   },
   {
    "duration": 4,
    "start_time": "2024-09-09T09:06:33.239Z"
   },
   {
    "duration": 19,
    "start_time": "2024-09-09T09:06:33.245Z"
   },
   {
    "duration": 45,
    "start_time": "2024-09-09T09:06:33.267Z"
   },
   {
    "duration": 20,
    "start_time": "2024-09-09T09:06:33.314Z"
   },
   {
    "duration": 11,
    "start_time": "2024-09-09T09:06:33.336Z"
   },
   {
    "duration": 19,
    "start_time": "2024-09-09T09:06:33.349Z"
   },
   {
    "duration": 37,
    "start_time": "2024-09-09T09:06:33.373Z"
   },
   {
    "duration": 17,
    "start_time": "2024-09-09T09:06:33.412Z"
   },
   {
    "duration": 7,
    "start_time": "2024-09-09T09:06:33.432Z"
   },
   {
    "duration": 16,
    "start_time": "2024-09-09T09:06:33.441Z"
   },
   {
    "duration": 7,
    "start_time": "2024-09-09T09:06:33.459Z"
   },
   {
    "duration": 53,
    "start_time": "2024-09-09T09:06:33.469Z"
   },
   {
    "duration": 4,
    "start_time": "2024-09-09T09:06:33.524Z"
   },
   {
    "duration": 10,
    "start_time": "2024-09-09T09:06:33.530Z"
   },
   {
    "duration": 25,
    "start_time": "2024-09-09T09:06:33.542Z"
   },
   {
    "duration": 51,
    "start_time": "2024-09-09T09:06:33.569Z"
   },
   {
    "duration": 15,
    "start_time": "2024-09-09T09:06:33.623Z"
   },
   {
    "duration": 18,
    "start_time": "2024-09-09T09:06:33.640Z"
   },
   {
    "duration": 18,
    "start_time": "2024-09-09T09:06:37.109Z"
   },
   {
    "duration": 5,
    "start_time": "2024-09-09T09:08:17.923Z"
   },
   {
    "duration": 9,
    "start_time": "2024-09-09T09:08:47.117Z"
   },
   {
    "duration": 19,
    "start_time": "2024-09-09T09:09:09.736Z"
   },
   {
    "duration": 130,
    "start_time": "2024-09-09T09:11:04.273Z"
   },
   {
    "duration": 23,
    "start_time": "2024-09-09T09:11:43.215Z"
   },
   {
    "duration": 87,
    "start_time": "2024-09-09T09:13:55.594Z"
   },
   {
    "duration": 2,
    "start_time": "2024-09-09T09:15:45.234Z"
   },
   {
    "duration": 223,
    "start_time": "2024-09-09T09:15:45.239Z"
   },
   {
    "duration": 10,
    "start_time": "2024-09-09T09:15:45.464Z"
   },
   {
    "duration": 8,
    "start_time": "2024-09-09T09:15:45.476Z"
   },
   {
    "duration": 4,
    "start_time": "2024-09-09T09:15:45.486Z"
   },
   {
    "duration": 18,
    "start_time": "2024-09-09T09:15:45.491Z"
   },
   {
    "duration": 11,
    "start_time": "2024-09-09T09:15:45.512Z"
   },
   {
    "duration": 10,
    "start_time": "2024-09-09T09:15:45.525Z"
   },
   {
    "duration": 6,
    "start_time": "2024-09-09T09:15:45.537Z"
   },
   {
    "duration": 6,
    "start_time": "2024-09-09T09:15:45.546Z"
   },
   {
    "duration": 3,
    "start_time": "2024-09-09T09:15:45.555Z"
   },
   {
    "duration": 50,
    "start_time": "2024-09-09T09:15:45.559Z"
   },
   {
    "duration": 7,
    "start_time": "2024-09-09T09:15:45.611Z"
   },
   {
    "duration": 18,
    "start_time": "2024-09-09T09:15:45.620Z"
   },
   {
    "duration": 8,
    "start_time": "2024-09-09T09:15:45.640Z"
   },
   {
    "duration": 13,
    "start_time": "2024-09-09T09:15:45.651Z"
   },
   {
    "duration": 9,
    "start_time": "2024-09-09T09:15:45.666Z"
   },
   {
    "duration": 14,
    "start_time": "2024-09-09T09:15:45.710Z"
   },
   {
    "duration": 7,
    "start_time": "2024-09-09T09:15:45.726Z"
   },
   {
    "duration": 15,
    "start_time": "2024-09-09T09:15:45.734Z"
   },
   {
    "duration": 8,
    "start_time": "2024-09-09T09:15:45.751Z"
   },
   {
    "duration": 49,
    "start_time": "2024-09-09T09:15:45.761Z"
   },
   {
    "duration": 3,
    "start_time": "2024-09-09T09:15:45.812Z"
   },
   {
    "duration": 9,
    "start_time": "2024-09-09T09:15:45.817Z"
   },
   {
    "duration": 28,
    "start_time": "2024-09-09T09:15:45.828Z"
   },
   {
    "duration": 22,
    "start_time": "2024-09-09T09:15:45.857Z"
   },
   {
    "duration": 18,
    "start_time": "2024-09-09T09:15:45.909Z"
   },
   {
    "duration": 15,
    "start_time": "2024-09-09T09:15:45.929Z"
   },
   {
    "duration": 22,
    "start_time": "2024-09-09T09:15:49.380Z"
   },
   {
    "duration": 24,
    "start_time": "2024-09-09T09:16:44.449Z"
   },
   {
    "duration": 26,
    "start_time": "2024-09-09T09:17:44.087Z"
   },
   {
    "duration": 10,
    "start_time": "2024-09-09T09:18:05.345Z"
   },
   {
    "duration": 4,
    "start_time": "2024-09-09T09:19:50.719Z"
   },
   {
    "duration": 26,
    "start_time": "2024-09-09T09:20:16.815Z"
   },
   {
    "duration": 19,
    "start_time": "2024-09-09T09:20:26.065Z"
   },
   {
    "duration": 10,
    "start_time": "2024-09-09T09:21:04.475Z"
   },
   {
    "duration": 4,
    "start_time": "2024-09-09T09:21:29.738Z"
   },
   {
    "duration": 175,
    "start_time": "2024-09-09T09:21:41.797Z"
   },
   {
    "duration": 10,
    "start_time": "2024-09-09T09:24:52.723Z"
   },
   {
    "duration": 30,
    "start_time": "2024-09-09T09:27:57.188Z"
   },
   {
    "duration": 16,
    "start_time": "2024-09-09T09:28:06.264Z"
   },
   {
    "duration": 89,
    "start_time": "2024-09-09T09:29:08.283Z"
   },
   {
    "duration": 3,
    "start_time": "2024-09-09T09:29:34.255Z"
   },
   {
    "duration": 162,
    "start_time": "2024-09-09T09:29:34.264Z"
   },
   {
    "duration": 9,
    "start_time": "2024-09-09T09:29:34.428Z"
   },
   {
    "duration": 7,
    "start_time": "2024-09-09T09:29:34.439Z"
   },
   {
    "duration": 3,
    "start_time": "2024-09-09T09:29:34.448Z"
   },
   {
    "duration": 3,
    "start_time": "2024-09-09T09:29:34.454Z"
   },
   {
    "duration": 9,
    "start_time": "2024-09-09T09:29:34.459Z"
   },
   {
    "duration": 41,
    "start_time": "2024-09-09T09:29:34.470Z"
   },
   {
    "duration": 6,
    "start_time": "2024-09-09T09:29:34.512Z"
   },
   {
    "duration": 6,
    "start_time": "2024-09-09T09:29:34.520Z"
   },
   {
    "duration": 4,
    "start_time": "2024-09-09T09:29:34.528Z"
   },
   {
    "duration": 15,
    "start_time": "2024-09-09T09:29:34.533Z"
   },
   {
    "duration": 6,
    "start_time": "2024-09-09T09:29:34.550Z"
   },
   {
    "duration": 51,
    "start_time": "2024-09-09T09:29:34.558Z"
   },
   {
    "duration": 9,
    "start_time": "2024-09-09T09:29:34.612Z"
   },
   {
    "duration": 12,
    "start_time": "2024-09-09T09:29:34.623Z"
   },
   {
    "duration": 8,
    "start_time": "2024-09-09T09:29:34.636Z"
   },
   {
    "duration": 11,
    "start_time": "2024-09-09T09:29:34.646Z"
   },
   {
    "duration": 6,
    "start_time": "2024-09-09T09:29:34.659Z"
   },
   {
    "duration": 47,
    "start_time": "2024-09-09T09:29:34.667Z"
   },
   {
    "duration": 6,
    "start_time": "2024-09-09T09:29:34.716Z"
   },
   {
    "duration": 17,
    "start_time": "2024-09-09T09:29:34.724Z"
   },
   {
    "duration": 4,
    "start_time": "2024-09-09T09:29:34.742Z"
   },
   {
    "duration": 9,
    "start_time": "2024-09-09T09:29:34.747Z"
   },
   {
    "duration": 52,
    "start_time": "2024-09-09T09:29:34.757Z"
   },
   {
    "duration": 19,
    "start_time": "2024-09-09T09:29:34.811Z"
   },
   {
    "duration": 14,
    "start_time": "2024-09-09T09:29:34.831Z"
   },
   {
    "duration": 14,
    "start_time": "2024-09-09T09:29:34.846Z"
   },
   {
    "duration": 21,
    "start_time": "2024-09-09T09:29:34.862Z"
   },
   {
    "duration": 25,
    "start_time": "2024-09-09T09:29:34.909Z"
   },
   {
    "duration": 17,
    "start_time": "2024-09-09T09:29:34.935Z"
   },
   {
    "duration": 6,
    "start_time": "2024-09-09T09:29:34.954Z"
   },
   {
    "duration": 192,
    "start_time": "2024-09-09T09:29:34.962Z"
   },
   {
    "duration": 415,
    "start_time": "2024-09-09T09:29:35.158Z"
   },
   {
    "duration": 12,
    "start_time": "2024-09-09T09:29:35.575Z"
   },
   {
    "duration": 540,
    "start_time": "2024-09-09T09:29:35.589Z"
   },
   {
    "duration": 249,
    "start_time": "2024-09-09T09:29:36.132Z"
   },
   {
    "duration": 16,
    "start_time": "2024-09-09T09:29:36.382Z"
   },
   {
    "duration": 17,
    "start_time": "2024-09-09T09:30:08.442Z"
   },
   {
    "duration": 194,
    "start_time": "2024-09-09T09:31:27.739Z"
   },
   {
    "duration": 32,
    "start_time": "2024-09-09T09:32:36.083Z"
   },
   {
    "duration": 574,
    "start_time": "2024-09-09T09:32:46.331Z"
   },
   {
    "duration": 656,
    "start_time": "2024-09-09T09:33:41.926Z"
   },
   {
    "duration": 21,
    "start_time": "2024-09-09T09:34:53.122Z"
   },
   {
    "duration": 588,
    "start_time": "2024-09-09T09:36:04.223Z"
   },
   {
    "duration": 16,
    "start_time": "2024-09-09T09:38:56.610Z"
   },
   {
    "duration": 555,
    "start_time": "2024-09-09T09:40:54.443Z"
   },
   {
    "duration": 21,
    "start_time": "2024-09-09T09:41:17.755Z"
   },
   {
    "duration": 25,
    "start_time": "2024-09-09T12:21:16.038Z"
   },
   {
    "duration": 19,
    "start_time": "2024-09-09T12:22:08.126Z"
   },
   {
    "duration": 649,
    "start_time": "2024-09-09T12:26:26.212Z"
   },
   {
    "duration": 571,
    "start_time": "2024-09-09T12:26:54.282Z"
   },
   {
    "duration": 649,
    "start_time": "2024-09-09T12:29:25.211Z"
   },
   {
    "duration": 11,
    "start_time": "2024-09-09T12:35:28.273Z"
   },
   {
    "duration": 531,
    "start_time": "2024-09-09T12:45:16.506Z"
   },
   {
    "duration": 538,
    "start_time": "2024-09-09T12:46:08.773Z"
   },
   {
    "duration": 4,
    "start_time": "2024-09-09T12:47:06.033Z"
   },
   {
    "duration": 8,
    "start_time": "2024-09-09T12:47:22.866Z"
   },
   {
    "duration": 5,
    "start_time": "2024-09-09T12:48:12.290Z"
   },
   {
    "duration": 28,
    "start_time": "2024-09-09T12:48:18.206Z"
   },
   {
    "duration": 520,
    "start_time": "2024-09-09T12:54:19.942Z"
   },
   {
    "duration": 639,
    "start_time": "2024-09-09T12:59:30.409Z"
   },
   {
    "duration": 10,
    "start_time": "2024-09-09T13:02:02.947Z"
   },
   {
    "duration": 4,
    "start_time": "2024-09-09T13:02:06.020Z"
   },
   {
    "duration": 11,
    "start_time": "2024-09-09T13:03:26.042Z"
   },
   {
    "duration": 4,
    "start_time": "2024-09-09T13:03:30.093Z"
   },
   {
    "duration": 6,
    "start_time": "2024-09-09T13:09:27.270Z"
   },
   {
    "duration": 6,
    "start_time": "2024-09-09T13:09:54.287Z"
   },
   {
    "duration": 25,
    "start_time": "2024-09-09T13:10:04.800Z"
   },
   {
    "duration": 5,
    "start_time": "2024-09-09T13:10:43.022Z"
   },
   {
    "duration": 3,
    "start_time": "2024-09-09T13:10:49.614Z"
   },
   {
    "duration": 6,
    "start_time": "2024-09-09T13:11:21.010Z"
   },
   {
    "duration": 5,
    "start_time": "2024-09-09T13:12:43.535Z"
   },
   {
    "duration": 4,
    "start_time": "2024-09-09T13:12:50.646Z"
   },
   {
    "duration": 3,
    "start_time": "2024-09-09T13:13:03.658Z"
   },
   {
    "duration": 167,
    "start_time": "2024-09-09T13:13:03.665Z"
   },
   {
    "duration": 9,
    "start_time": "2024-09-09T13:13:03.834Z"
   },
   {
    "duration": 8,
    "start_time": "2024-09-09T13:13:03.844Z"
   },
   {
    "duration": 3,
    "start_time": "2024-09-09T13:13:03.855Z"
   },
   {
    "duration": 4,
    "start_time": "2024-09-09T13:13:03.860Z"
   },
   {
    "duration": 8,
    "start_time": "2024-09-09T13:13:03.866Z"
   },
   {
    "duration": 9,
    "start_time": "2024-09-09T13:13:03.909Z"
   },
   {
    "duration": 6,
    "start_time": "2024-09-09T13:13:03.920Z"
   },
   {
    "duration": 8,
    "start_time": "2024-09-09T13:13:03.928Z"
   },
   {
    "duration": 2,
    "start_time": "2024-09-09T13:13:03.939Z"
   },
   {
    "duration": 17,
    "start_time": "2024-09-09T13:13:03.942Z"
   },
   {
    "duration": 9,
    "start_time": "2024-09-09T13:13:03.961Z"
   },
   {
    "duration": 55,
    "start_time": "2024-09-09T13:13:03.971Z"
   },
   {
    "duration": 9,
    "start_time": "2024-09-09T13:13:04.028Z"
   },
   {
    "duration": 14,
    "start_time": "2024-09-09T13:13:04.039Z"
   },
   {
    "duration": 9,
    "start_time": "2024-09-09T13:13:04.054Z"
   },
   {
    "duration": 12,
    "start_time": "2024-09-09T13:13:04.066Z"
   },
   {
    "duration": 7,
    "start_time": "2024-09-09T13:13:04.110Z"
   },
   {
    "duration": 15,
    "start_time": "2024-09-09T13:13:04.119Z"
   },
   {
    "duration": 6,
    "start_time": "2024-09-09T13:13:04.136Z"
   },
   {
    "duration": 17,
    "start_time": "2024-09-09T13:13:04.144Z"
   },
   {
    "duration": 4,
    "start_time": "2024-09-09T13:13:04.163Z"
   },
   {
    "duration": 45,
    "start_time": "2024-09-09T13:13:04.169Z"
   },
   {
    "duration": 25,
    "start_time": "2024-09-09T13:13:04.217Z"
   },
   {
    "duration": 18,
    "start_time": "2024-09-09T13:13:04.244Z"
   },
   {
    "duration": 16,
    "start_time": "2024-09-09T13:13:04.264Z"
   },
   {
    "duration": 16,
    "start_time": "2024-09-09T13:13:04.309Z"
   },
   {
    "duration": 22,
    "start_time": "2024-09-09T13:13:04.330Z"
   },
   {
    "duration": 27,
    "start_time": "2024-09-09T13:13:04.353Z"
   },
   {
    "duration": 24,
    "start_time": "2024-09-09T13:13:04.410Z"
   },
   {
    "duration": 11,
    "start_time": "2024-09-09T13:13:04.436Z"
   },
   {
    "duration": 208,
    "start_time": "2024-09-09T13:13:04.450Z"
   },
   {
    "duration": 483,
    "start_time": "2024-09-09T13:13:04.660Z"
   },
   {
    "duration": 13,
    "start_time": "2024-09-09T13:13:05.145Z"
   },
   {
    "duration": 572,
    "start_time": "2024-09-09T13:13:05.161Z"
   },
   {
    "duration": 171,
    "start_time": "2024-09-09T13:13:05.734Z"
   },
   {
    "duration": 529,
    "start_time": "2024-09-09T13:13:05.909Z"
   },
   {
    "duration": 318,
    "start_time": "2024-09-09T13:13:06.440Z"
   },
   {
    "duration": 580,
    "start_time": "2024-09-09T13:13:06.761Z"
   },
   {
    "duration": 643,
    "start_time": "2024-09-09T13:13:07.343Z"
   },
   {
    "duration": 541,
    "start_time": "2024-09-09T13:13:07.987Z"
   },
   {
    "duration": 547,
    "start_time": "2024-09-09T13:13:08.530Z"
   },
   {
    "duration": 10,
    "start_time": "2024-09-09T13:13:09.079Z"
   },
   {
    "duration": 19,
    "start_time": "2024-09-09T13:13:09.091Z"
   },
   {
    "duration": 5,
    "start_time": "2024-09-09T13:13:12.771Z"
   },
   {
    "duration": 13,
    "start_time": "2024-09-09T13:13:25.242Z"
   },
   {
    "duration": 5,
    "start_time": "2024-09-09T13:13:32.292Z"
   },
   {
    "duration": 4,
    "start_time": "2024-09-09T13:14:17.278Z"
   },
   {
    "duration": 164,
    "start_time": "2024-09-09T13:14:17.291Z"
   },
   {
    "duration": 10,
    "start_time": "2024-09-09T13:14:17.458Z"
   },
   {
    "duration": 8,
    "start_time": "2024-09-09T13:14:17.470Z"
   },
   {
    "duration": 3,
    "start_time": "2024-09-09T13:14:17.480Z"
   },
   {
    "duration": 25,
    "start_time": "2024-09-09T13:14:17.484Z"
   },
   {
    "duration": 10,
    "start_time": "2024-09-09T13:14:17.512Z"
   },
   {
    "duration": 9,
    "start_time": "2024-09-09T13:14:17.525Z"
   },
   {
    "duration": 6,
    "start_time": "2024-09-09T13:14:17.535Z"
   },
   {
    "duration": 8,
    "start_time": "2024-09-09T13:14:17.543Z"
   },
   {
    "duration": 2,
    "start_time": "2024-09-09T13:14:17.554Z"
   },
   {
    "duration": 17,
    "start_time": "2024-09-09T13:14:17.558Z"
   },
   {
    "duration": 9,
    "start_time": "2024-09-09T13:14:17.610Z"
   },
   {
    "duration": 19,
    "start_time": "2024-09-09T13:14:17.621Z"
   },
   {
    "duration": 8,
    "start_time": "2024-09-09T13:14:17.642Z"
   },
   {
    "duration": 12,
    "start_time": "2024-09-09T13:14:17.652Z"
   },
   {
    "duration": 45,
    "start_time": "2024-09-09T13:14:17.667Z"
   },
   {
    "duration": 17,
    "start_time": "2024-09-09T13:14:17.714Z"
   },
   {
    "duration": 7,
    "start_time": "2024-09-09T13:14:17.736Z"
   },
   {
    "duration": 15,
    "start_time": "2024-09-09T13:14:17.745Z"
   },
   {
    "duration": 8,
    "start_time": "2024-09-09T13:14:17.761Z"
   },
   {
    "duration": 45,
    "start_time": "2024-09-09T13:14:17.771Z"
   },
   {
    "duration": 4,
    "start_time": "2024-09-09T13:14:17.818Z"
   },
   {
    "duration": 11,
    "start_time": "2024-09-09T13:14:17.824Z"
   },
   {
    "duration": 23,
    "start_time": "2024-09-09T13:14:17.837Z"
   },
   {
    "duration": 18,
    "start_time": "2024-09-09T13:14:17.862Z"
   },
   {
    "duration": 42,
    "start_time": "2024-09-09T13:14:17.882Z"
   },
   {
    "duration": 20,
    "start_time": "2024-09-09T13:14:17.926Z"
   },
   {
    "duration": 27,
    "start_time": "2024-09-09T13:14:17.951Z"
   },
   {
    "duration": 48,
    "start_time": "2024-09-09T13:14:17.980Z"
   },
   {
    "duration": 20,
    "start_time": "2024-09-09T13:14:18.030Z"
   },
   {
    "duration": 7,
    "start_time": "2024-09-09T13:14:18.053Z"
   },
   {
    "duration": 208,
    "start_time": "2024-09-09T13:14:18.061Z"
   },
   {
    "duration": 477,
    "start_time": "2024-09-09T13:14:18.271Z"
   },
   {
    "duration": 14,
    "start_time": "2024-09-09T13:14:18.750Z"
   },
   {
    "duration": 583,
    "start_time": "2024-09-09T13:14:18.766Z"
   },
   {
    "duration": 178,
    "start_time": "2024-09-09T13:14:19.351Z"
   },
   {
    "duration": 528,
    "start_time": "2024-09-09T13:14:19.531Z"
   },
   {
    "duration": 201,
    "start_time": "2024-09-09T13:14:20.061Z"
   },
   {
    "duration": 657,
    "start_time": "2024-09-09T13:14:20.264Z"
   },
   {
    "duration": 646,
    "start_time": "2024-09-09T13:14:20.923Z"
   },
   {
    "duration": 555,
    "start_time": "2024-09-09T13:14:21.572Z"
   },
   {
    "duration": 552,
    "start_time": "2024-09-09T13:14:22.129Z"
   },
   {
    "duration": 10,
    "start_time": "2024-09-09T13:14:22.684Z"
   },
   {
    "duration": 14,
    "start_time": "2024-09-09T13:14:22.696Z"
   },
   {
    "duration": 5,
    "start_time": "2024-09-09T13:14:22.712Z"
   },
   {
    "duration": 8,
    "start_time": "2024-09-09T13:14:22.718Z"
   },
   {
    "duration": 4,
    "start_time": "2024-09-09T13:14:22.727Z"
   },
   {
    "duration": 3,
    "start_time": "2024-09-09T13:22:30.087Z"
   },
   {
    "duration": 154,
    "start_time": "2024-09-09T13:22:30.092Z"
   },
   {
    "duration": 9,
    "start_time": "2024-09-09T13:22:30.248Z"
   },
   {
    "duration": 8,
    "start_time": "2024-09-09T13:22:30.258Z"
   },
   {
    "duration": 4,
    "start_time": "2024-09-09T13:22:30.268Z"
   },
   {
    "duration": 3,
    "start_time": "2024-09-09T13:22:30.274Z"
   },
   {
    "duration": 31,
    "start_time": "2024-09-09T13:22:30.279Z"
   },
   {
    "duration": 10,
    "start_time": "2024-09-09T13:22:30.312Z"
   },
   {
    "duration": 7,
    "start_time": "2024-09-09T13:22:30.324Z"
   },
   {
    "duration": 8,
    "start_time": "2024-09-09T13:22:30.333Z"
   },
   {
    "duration": 2,
    "start_time": "2024-09-09T13:22:30.344Z"
   },
   {
    "duration": 16,
    "start_time": "2024-09-09T13:22:30.348Z"
   },
   {
    "duration": 43,
    "start_time": "2024-09-09T13:22:30.366Z"
   },
   {
    "duration": 18,
    "start_time": "2024-09-09T13:22:30.411Z"
   },
   {
    "duration": 9,
    "start_time": "2024-09-09T13:22:30.431Z"
   },
   {
    "duration": 12,
    "start_time": "2024-09-09T13:22:30.442Z"
   },
   {
    "duration": 9,
    "start_time": "2024-09-09T13:22:30.456Z"
   },
   {
    "duration": 47,
    "start_time": "2024-09-09T13:22:30.467Z"
   },
   {
    "duration": 6,
    "start_time": "2024-09-09T13:22:30.516Z"
   },
   {
    "duration": 14,
    "start_time": "2024-09-09T13:22:30.524Z"
   },
   {
    "duration": 7,
    "start_time": "2024-09-09T13:22:30.540Z"
   },
   {
    "duration": 16,
    "start_time": "2024-09-09T13:22:30.549Z"
   },
   {
    "duration": 4,
    "start_time": "2024-09-09T13:22:30.566Z"
   },
   {
    "duration": 45,
    "start_time": "2024-09-09T13:22:30.571Z"
   },
   {
    "duration": 22,
    "start_time": "2024-09-09T13:22:30.618Z"
   },
   {
    "duration": 18,
    "start_time": "2024-09-09T13:22:30.641Z"
   },
   {
    "duration": 13,
    "start_time": "2024-09-09T13:22:30.661Z"
   },
   {
    "duration": 41,
    "start_time": "2024-09-09T13:22:30.676Z"
   },
   {
    "duration": 21,
    "start_time": "2024-09-09T13:22:30.721Z"
   },
   {
    "duration": 26,
    "start_time": "2024-09-09T13:22:30.743Z"
   },
   {
    "duration": 39,
    "start_time": "2024-09-09T13:22:30.771Z"
   },
   {
    "duration": 6,
    "start_time": "2024-09-09T13:22:30.812Z"
   },
   {
    "duration": 176,
    "start_time": "2024-09-09T13:22:30.820Z"
   },
   {
    "duration": 348,
    "start_time": "2024-09-09T13:22:30.998Z"
   },
   {
    "duration": 11,
    "start_time": "2024-09-09T13:22:31.348Z"
   },
   {
    "duration": 671,
    "start_time": "2024-09-09T13:22:31.361Z"
   },
   {
    "duration": 180,
    "start_time": "2024-09-09T13:22:32.035Z"
   },
   {
    "duration": 556,
    "start_time": "2024-09-09T13:22:32.217Z"
   },
   {
    "duration": 196,
    "start_time": "2024-09-09T13:22:32.775Z"
   },
   {
    "duration": 563,
    "start_time": "2024-09-09T13:22:32.973Z"
   },
   {
    "duration": 622,
    "start_time": "2024-09-09T13:22:33.538Z"
   },
   {
    "duration": 651,
    "start_time": "2024-09-09T13:22:34.163Z"
   },
   {
    "duration": 517,
    "start_time": "2024-09-09T13:22:34.816Z"
   },
   {
    "duration": 9,
    "start_time": "2024-09-09T13:22:35.336Z"
   },
   {
    "duration": 4,
    "start_time": "2024-09-09T13:22:35.347Z"
   },
   {
    "duration": 5,
    "start_time": "2024-09-09T13:22:35.353Z"
   },
   {
    "duration": 9,
    "start_time": "2024-09-09T13:22:35.360Z"
   },
   {
    "duration": 4,
    "start_time": "2024-09-09T13:22:35.372Z"
   },
   {
    "duration": 17,
    "start_time": "2024-09-09T13:24:41.025Z"
   }
  ],
  "colab": {
   "provenance": []
  },
  "kernelspec": {
   "display_name": "Bootcamp",
   "language": "python",
   "name": "python3"
  },
  "language_info": {
   "codemirror_mode": {
    "name": "ipython",
    "version": 3
   },
   "file_extension": ".py",
   "mimetype": "text/x-python",
   "name": "python",
   "nbconvert_exporter": "python",
   "pygments_lexer": "ipython3",
   "version": "3.10.16"
  },
  "toc": {
   "base_numbering": 1,
   "nav_menu": {},
   "number_sections": true,
   "sideBar": true,
   "skip_h1_title": false,
   "title_cell": "Table of Contents",
   "title_sidebar": "Contents",
   "toc_cell": false,
   "toc_position": {
    "height": "calc(100% - 180px)",
    "left": "10px",
    "top": "150px",
    "width": "293.275px"
   },
   "toc_section_display": true,
   "toc_window_display": true
  }
 },
 "nbformat": 4,
 "nbformat_minor": 1
}
